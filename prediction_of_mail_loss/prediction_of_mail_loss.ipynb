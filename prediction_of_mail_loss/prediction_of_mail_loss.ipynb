{
  "cells": [
    {
      "cell_type": "markdown",
      "metadata": {
        "id": "fnE1_J-4dhSR"
      },
      "source": [
        "## Импорты и загрузка данных"
      ]
    },
    {
      "cell_type": "code",
      "execution_count": null,
      "metadata": {
        "id": "uaKzqUxsdjDa"
      },
      "outputs": [],
      "source": [
        "import pandas as pd\n",
        "import seaborn as sns\n",
        "import matplotlib.pyplot as plt\n",
        "from sklearn.model_selection import train_test_split, GridSearchCV\n",
        "from sklearn.ensemble import RandomForestClassifier\n",
        "from catboost import CatBoostClassifier\n",
        "\n",
        "%matplotlib inline\n",
        "import re"
      ]
    },
    {
      "cell_type": "code",
      "execution_count": null,
      "metadata": {
        "id": "I8H91cZw49Z4"
      },
      "outputs": [],
      "source": [
        "from lightgbm import LGBMClassifier\n",
        "from sklearn.feature_extraction.text import TfidfVectorizer\n",
        "from sklearn.preprocessing import Normalizer\n",
        "from scipy.sparse import hstack\n",
        "import numpy as np\n",
        "from sklearn.utils.class_weight import compute_class_weight"
      ]
    },
    {
      "cell_type": "code",
      "source": [
        "from nltk.stem import WordNetLemmatizer\n"
      ],
      "metadata": {
        "id": "QR9jFEgvDxcN"
      },
      "execution_count": null,
      "outputs": []
    },
    {
      "cell_type": "code",
      "source": [
        "import string\n",
        "from nltk.corpus import stopwords\n",
        "import nltk\n",
        "nltk.download('stopwords')\n",
        "nltk.download('punkt')\n",
        "stop_words = set(stopwords.words('russian'))\n",
        "stop_words_eng = set(stopwords.words('english'))"
      ],
      "metadata": {
        "colab": {
          "base_uri": "https://localhost:8080/"
        },
        "id": "TOviEwtID_cI",
        "outputId": "945d4b14-a6bf-43e9-e1a0-28c80805c4b5"
      },
      "execution_count": null,
      "outputs": [
        {
          "output_type": "stream",
          "name": "stderr",
          "text": [
            "[nltk_data] Downloading package stopwords to /root/nltk_data...\n",
            "[nltk_data]   Unzipping corpora/stopwords.zip.\n",
            "[nltk_data] Downloading package punkt to /root/nltk_data...\n",
            "[nltk_data]   Unzipping tokenizers/punkt.zip.\n"
          ]
        }
      ]
    },
    {
      "cell_type": "code",
      "source": [
        "import nltk\n",
        "nltk.download('wordnet')\n",
        "nltk.download('omw-1.4')"
      ],
      "metadata": {
        "colab": {
          "base_uri": "https://localhost:8080/"
        },
        "id": "HLrxXUlPEPPe",
        "outputId": "338cbd74-ed43-4853-8e3c-cc526f3e3630"
      },
      "execution_count": null,
      "outputs": [
        {
          "output_type": "stream",
          "name": "stderr",
          "text": [
            "[nltk_data] Downloading package wordnet to /root/nltk_data...\n",
            "[nltk_data]   Package wordnet is already up-to-date!\n",
            "[nltk_data] Downloading package omw-1.4 to /root/nltk_data...\n"
          ]
        },
        {
          "output_type": "execute_result",
          "data": {
            "text/plain": [
              "True"
            ]
          },
          "metadata": {},
          "execution_count": 16
        }
      ]
    },
    {
      "cell_type": "code",
      "execution_count": null,
      "metadata": {
        "id": "xF1z_eD9k8O7"
      },
      "outputs": [],
      "source": [
        "from google.colab import drive\n",
        "from google.colab import files\n"
      ]
    },
    {
      "cell_type": "code",
      "execution_count": null,
      "metadata": {
        "colab": {
          "base_uri": "https://localhost:8080/"
        },
        "id": "OVZ8nao-lC-M",
        "outputId": "1956d034-c5b5-4aa7-e7fc-8337a9cc240b"
      },
      "outputs": [
        {
          "output_type": "stream",
          "name": "stdout",
          "text": [
            "Mounted at /content/drive/\n"
          ]
        }
      ],
      "source": [
        "drive.mount('/content/drive/')"
      ]
    },
    {
      "cell_type": "code",
      "execution_count": null,
      "metadata": {
        "id": "2scLoULoXkT0"
      },
      "outputs": [],
      "source": [
        "#df = pd.read_csv(\"/content/drive/My Drive/post/train.csv\")"
      ]
    },
    {
      "cell_type": "code",
      "execution_count": null,
      "metadata": {
        "id": "Z8E_FpM1vENi"
      },
      "outputs": [],
      "source": [
        "#test = pd.read_csv(\"/content/drive/My Drive/post/test.csv\")"
      ]
    },
    {
      "cell_type": "code",
      "execution_count": null,
      "metadata": {
        "id": "X3RADUnpRx5B"
      },
      "outputs": [],
      "source": [
        "df = pd.read_pickle(\"/content/drive/My Drive/post/df.pkl\")"
      ]
    },
    {
      "cell_type": "code",
      "execution_count": null,
      "metadata": {
        "id": "FAw2mnUvRx5B"
      },
      "outputs": [],
      "source": [
        "test = pd.read_pickle(\"/content/drive/My Drive/post/test.pkl\")"
      ]
    },
    {
      "cell_type": "code",
      "source": [
        "patterns = \"[!#$%&'()*+,./:;<=>?@[\\]^_`{|}~—\\\"\\-]+\"\n",
        "stopwords_ru = stopwords.words(\"russian\")\n",
        "stopwords_en = stopwords.words(\"english\")\n",
        "stop = stopwords_en+stopwords_ru"
      ],
      "metadata": {
        "id": "MRt6dYnLD39u"
      },
      "execution_count": null,
      "outputs": []
    },
    {
      "cell_type": "markdown",
      "metadata": {
        "id": "WcxAsO_Md05t"
      },
      "source": [
        "## Первичный анализ данных"
      ]
    },
    {
      "cell_type": "code",
      "execution_count": null,
      "metadata": {
        "colab": {
          "base_uri": "https://localhost:8080/",
          "height": 334
        },
        "id": "I16XfuOpXwIy",
        "outputId": "07392736-2cc7-47ab-ba20-7c3c73d9d86a"
      },
      "outputs": [
        {
          "output_type": "execute_result",
          "data": {
            "text/plain": [
              "        id oper_type + oper_attr index_oper     type  priority  \\\n",
              "0  6818780               1043_-1   628629.0  Участок    7503.0   \n",
              "1  9907176               1023_-1   102976.0     ММПО    7503.0   \n",
              "2  3304275               1018_-1   620962.0      Цех    7503.0   \n",
              "3  9020937               1019_-1   344964.0      Цех    7503.0   \n",
              "4  3082311               1020_-1   629819.0  Участок    7503.0   \n",
              "\n",
              "  is_privatecategory  class is_in_yandex is_return  weight  ...  \\\n",
              "0                  N    0.0            Y         N    87.0  ...   \n",
              "1                  N    0.0            N         N   107.0  ...   \n",
              "2                  N    0.0            Y         N    50.0  ...   \n",
              "3                  N    0.0            Y         N   416.0  ...   \n",
              "4                  N    0.0            Y         N   795.0  ...   \n",
              "\n",
              "   dist_qty_oper_login_1  total_qty_oper_login_1  total_qty_oper_login_0  \\\n",
              "0                   42.0                720176.0                 58950.0   \n",
              "1                  914.0              48856658.0              83318932.0   \n",
              "2                   62.0               3246292.0               3233068.0   \n",
              "3                   55.0               2060928.0                653280.0   \n",
              "4                   16.0                316919.0                 27911.0   \n",
              "\n",
              "   total_qty_over_index_and_type  total_qty_over_index  is_wrong_sndr_name  \\\n",
              "0                       779126.0             8290896.0                   0   \n",
              "1                    132175590.0           136819803.0                   0   \n",
              "2                      6479360.0            52708071.0                   0   \n",
              "3                      2714208.0            19562334.0                   0   \n",
              "4                       344830.0             4719186.0                   0   \n",
              "\n",
              "  is_wrong_rcpn_name  is_wrong_phone_number  is_wrong_address  label  \n",
              "0                  0                      0                 0      0  \n",
              "1                  0                      0                 0      0  \n",
              "2                  1                      0                 0      0  \n",
              "3                  0                      0                 0      0  \n",
              "4                  0                      0                 0      0  \n",
              "\n",
              "[5 rows x 29 columns]"
            ],
            "text/html": [
              "\n",
              "  <div id=\"df-475128a4-d4bd-4977-b625-0660e9ff187c\">\n",
              "    <div class=\"colab-df-container\">\n",
              "      <div>\n",
              "<style scoped>\n",
              "    .dataframe tbody tr th:only-of-type {\n",
              "        vertical-align: middle;\n",
              "    }\n",
              "\n",
              "    .dataframe tbody tr th {\n",
              "        vertical-align: top;\n",
              "    }\n",
              "\n",
              "    .dataframe thead th {\n",
              "        text-align: right;\n",
              "    }\n",
              "</style>\n",
              "<table border=\"1\" class=\"dataframe\">\n",
              "  <thead>\n",
              "    <tr style=\"text-align: right;\">\n",
              "      <th></th>\n",
              "      <th>id</th>\n",
              "      <th>oper_type + oper_attr</th>\n",
              "      <th>index_oper</th>\n",
              "      <th>type</th>\n",
              "      <th>priority</th>\n",
              "      <th>is_privatecategory</th>\n",
              "      <th>class</th>\n",
              "      <th>is_in_yandex</th>\n",
              "      <th>is_return</th>\n",
              "      <th>weight</th>\n",
              "      <th>...</th>\n",
              "      <th>dist_qty_oper_login_1</th>\n",
              "      <th>total_qty_oper_login_1</th>\n",
              "      <th>total_qty_oper_login_0</th>\n",
              "      <th>total_qty_over_index_and_type</th>\n",
              "      <th>total_qty_over_index</th>\n",
              "      <th>is_wrong_sndr_name</th>\n",
              "      <th>is_wrong_rcpn_name</th>\n",
              "      <th>is_wrong_phone_number</th>\n",
              "      <th>is_wrong_address</th>\n",
              "      <th>label</th>\n",
              "    </tr>\n",
              "  </thead>\n",
              "  <tbody>\n",
              "    <tr>\n",
              "      <th>0</th>\n",
              "      <td>6818780</td>\n",
              "      <td>1043_-1</td>\n",
              "      <td>628629.0</td>\n",
              "      <td>Участок</td>\n",
              "      <td>7503.0</td>\n",
              "      <td>N</td>\n",
              "      <td>0.0</td>\n",
              "      <td>Y</td>\n",
              "      <td>N</td>\n",
              "      <td>87.0</td>\n",
              "      <td>...</td>\n",
              "      <td>42.0</td>\n",
              "      <td>720176.0</td>\n",
              "      <td>58950.0</td>\n",
              "      <td>779126.0</td>\n",
              "      <td>8290896.0</td>\n",
              "      <td>0</td>\n",
              "      <td>0</td>\n",
              "      <td>0</td>\n",
              "      <td>0</td>\n",
              "      <td>0</td>\n",
              "    </tr>\n",
              "    <tr>\n",
              "      <th>1</th>\n",
              "      <td>9907176</td>\n",
              "      <td>1023_-1</td>\n",
              "      <td>102976.0</td>\n",
              "      <td>ММПО</td>\n",
              "      <td>7503.0</td>\n",
              "      <td>N</td>\n",
              "      <td>0.0</td>\n",
              "      <td>N</td>\n",
              "      <td>N</td>\n",
              "      <td>107.0</td>\n",
              "      <td>...</td>\n",
              "      <td>914.0</td>\n",
              "      <td>48856658.0</td>\n",
              "      <td>83318932.0</td>\n",
              "      <td>132175590.0</td>\n",
              "      <td>136819803.0</td>\n",
              "      <td>0</td>\n",
              "      <td>0</td>\n",
              "      <td>0</td>\n",
              "      <td>0</td>\n",
              "      <td>0</td>\n",
              "    </tr>\n",
              "    <tr>\n",
              "      <th>2</th>\n",
              "      <td>3304275</td>\n",
              "      <td>1018_-1</td>\n",
              "      <td>620962.0</td>\n",
              "      <td>Цех</td>\n",
              "      <td>7503.0</td>\n",
              "      <td>N</td>\n",
              "      <td>0.0</td>\n",
              "      <td>Y</td>\n",
              "      <td>N</td>\n",
              "      <td>50.0</td>\n",
              "      <td>...</td>\n",
              "      <td>62.0</td>\n",
              "      <td>3246292.0</td>\n",
              "      <td>3233068.0</td>\n",
              "      <td>6479360.0</td>\n",
              "      <td>52708071.0</td>\n",
              "      <td>0</td>\n",
              "      <td>1</td>\n",
              "      <td>0</td>\n",
              "      <td>0</td>\n",
              "      <td>0</td>\n",
              "    </tr>\n",
              "    <tr>\n",
              "      <th>3</th>\n",
              "      <td>9020937</td>\n",
              "      <td>1019_-1</td>\n",
              "      <td>344964.0</td>\n",
              "      <td>Цех</td>\n",
              "      <td>7503.0</td>\n",
              "      <td>N</td>\n",
              "      <td>0.0</td>\n",
              "      <td>Y</td>\n",
              "      <td>N</td>\n",
              "      <td>416.0</td>\n",
              "      <td>...</td>\n",
              "      <td>55.0</td>\n",
              "      <td>2060928.0</td>\n",
              "      <td>653280.0</td>\n",
              "      <td>2714208.0</td>\n",
              "      <td>19562334.0</td>\n",
              "      <td>0</td>\n",
              "      <td>0</td>\n",
              "      <td>0</td>\n",
              "      <td>0</td>\n",
              "      <td>0</td>\n",
              "    </tr>\n",
              "    <tr>\n",
              "      <th>4</th>\n",
              "      <td>3082311</td>\n",
              "      <td>1020_-1</td>\n",
              "      <td>629819.0</td>\n",
              "      <td>Участок</td>\n",
              "      <td>7503.0</td>\n",
              "      <td>N</td>\n",
              "      <td>0.0</td>\n",
              "      <td>Y</td>\n",
              "      <td>N</td>\n",
              "      <td>795.0</td>\n",
              "      <td>...</td>\n",
              "      <td>16.0</td>\n",
              "      <td>316919.0</td>\n",
              "      <td>27911.0</td>\n",
              "      <td>344830.0</td>\n",
              "      <td>4719186.0</td>\n",
              "      <td>0</td>\n",
              "      <td>0</td>\n",
              "      <td>0</td>\n",
              "      <td>0</td>\n",
              "      <td>0</td>\n",
              "    </tr>\n",
              "  </tbody>\n",
              "</table>\n",
              "<p>5 rows × 29 columns</p>\n",
              "</div>\n",
              "      <button class=\"colab-df-convert\" onclick=\"convertToInteractive('df-475128a4-d4bd-4977-b625-0660e9ff187c')\"\n",
              "              title=\"Convert this dataframe to an interactive table.\"\n",
              "              style=\"display:none;\">\n",
              "        \n",
              "  <svg xmlns=\"http://www.w3.org/2000/svg\" height=\"24px\"viewBox=\"0 0 24 24\"\n",
              "       width=\"24px\">\n",
              "    <path d=\"M0 0h24v24H0V0z\" fill=\"none\"/>\n",
              "    <path d=\"M18.56 5.44l.94 2.06.94-2.06 2.06-.94-2.06-.94-.94-2.06-.94 2.06-2.06.94zm-11 1L8.5 8.5l.94-2.06 2.06-.94-2.06-.94L8.5 2.5l-.94 2.06-2.06.94zm10 10l.94 2.06.94-2.06 2.06-.94-2.06-.94-.94-2.06-.94 2.06-2.06.94z\"/><path d=\"M17.41 7.96l-1.37-1.37c-.4-.4-.92-.59-1.43-.59-.52 0-1.04.2-1.43.59L10.3 9.45l-7.72 7.72c-.78.78-.78 2.05 0 2.83L4 21.41c.39.39.9.59 1.41.59.51 0 1.02-.2 1.41-.59l7.78-7.78 2.81-2.81c.8-.78.8-2.07 0-2.86zM5.41 20L4 18.59l7.72-7.72 1.47 1.35L5.41 20z\"/>\n",
              "  </svg>\n",
              "      </button>\n",
              "      \n",
              "  <style>\n",
              "    .colab-df-container {\n",
              "      display:flex;\n",
              "      flex-wrap:wrap;\n",
              "      gap: 12px;\n",
              "    }\n",
              "\n",
              "    .colab-df-convert {\n",
              "      background-color: #E8F0FE;\n",
              "      border: none;\n",
              "      border-radius: 50%;\n",
              "      cursor: pointer;\n",
              "      display: none;\n",
              "      fill: #1967D2;\n",
              "      height: 32px;\n",
              "      padding: 0 0 0 0;\n",
              "      width: 32px;\n",
              "    }\n",
              "\n",
              "    .colab-df-convert:hover {\n",
              "      background-color: #E2EBFA;\n",
              "      box-shadow: 0px 1px 2px rgba(60, 64, 67, 0.3), 0px 1px 3px 1px rgba(60, 64, 67, 0.15);\n",
              "      fill: #174EA6;\n",
              "    }\n",
              "\n",
              "    [theme=dark] .colab-df-convert {\n",
              "      background-color: #3B4455;\n",
              "      fill: #D2E3FC;\n",
              "    }\n",
              "\n",
              "    [theme=dark] .colab-df-convert:hover {\n",
              "      background-color: #434B5C;\n",
              "      box-shadow: 0px 1px 3px 1px rgba(0, 0, 0, 0.15);\n",
              "      filter: drop-shadow(0px 1px 2px rgba(0, 0, 0, 0.3));\n",
              "      fill: #FFFFFF;\n",
              "    }\n",
              "  </style>\n",
              "\n",
              "      <script>\n",
              "        const buttonEl =\n",
              "          document.querySelector('#df-475128a4-d4bd-4977-b625-0660e9ff187c button.colab-df-convert');\n",
              "        buttonEl.style.display =\n",
              "          google.colab.kernel.accessAllowed ? 'block' : 'none';\n",
              "\n",
              "        async function convertToInteractive(key) {\n",
              "          const element = document.querySelector('#df-475128a4-d4bd-4977-b625-0660e9ff187c');\n",
              "          const dataTable =\n",
              "            await google.colab.kernel.invokeFunction('convertToInteractive',\n",
              "                                                     [key], {});\n",
              "          if (!dataTable) return;\n",
              "\n",
              "          const docLinkHtml = 'Like what you see? Visit the ' +\n",
              "            '<a target=\"_blank\" href=https://colab.research.google.com/notebooks/data_table.ipynb>data table notebook</a>'\n",
              "            + ' to learn more about interactive tables.';\n",
              "          element.innerHTML = '';\n",
              "          dataTable['output_type'] = 'display_data';\n",
              "          await google.colab.output.renderOutput(dataTable, element);\n",
              "          const docLink = document.createElement('div');\n",
              "          docLink.innerHTML = docLinkHtml;\n",
              "          element.appendChild(docLink);\n",
              "        }\n",
              "      </script>\n",
              "    </div>\n",
              "  </div>\n",
              "  "
            ]
          },
          "metadata": {},
          "execution_count": 9
        }
      ],
      "source": [
        "df.head()"
      ]
    },
    {
      "cell_type": "code",
      "execution_count": null,
      "metadata": {
        "colab": {
          "base_uri": "https://localhost:8080/",
          "height": 334
        },
        "id": "ykHi5wG1vM4f",
        "outputId": "6a4aad89-6b89-4c8d-9d01-a6c2cc0acdbf"
      },
      "outputs": [
        {
          "output_type": "execute_result",
          "data": {
            "text/plain": [
              "        id oper_type + oper_attr index_oper  type  priority  \\\n",
              "0  7815282                  8_13   102976.0  ММПО    7503.0   \n",
              "1  8443555                   8_2   238753.0  ГОПС    7503.0   \n",
              "2  6352559               1020_-1   618254.0  ГОПС    7503.0   \n",
              "3  4921420               1016_-1   102968.0    ТИ    7503.0   \n",
              "4  1420440               1018_-1   102971.0   Цех    7506.0   \n",
              "\n",
              "  is_privatecategory  class is_in_yandex is_return  weight  ...  price_mfi  \\\n",
              "0                  N    0.0            N         N    85.0  ...      489.0   \n",
              "1                  N    4.0            Y         N    21.0  ...      186.0   \n",
              "2                  N    4.0            Y         N   388.0  ...      500.0   \n",
              "3                  N    0.0            N         N  1203.0  ...        0.0   \n",
              "4                  N    0.0            N         N   956.0  ...     1267.0   \n",
              "\n",
              "   dist_qty_oper_login_1  total_qty_oper_login_1  total_qty_oper_login_0  \\\n",
              "0                  972.0              68766046.0              91123247.0   \n",
              "1                    2.0                  2895.0                  1545.0   \n",
              "2                    3.0                  2751.0                   993.0   \n",
              "3                   69.0               9379609.0               2267333.0   \n",
              "4                  181.0              76138189.0                  8747.0   \n",
              "\n",
              "   total_qty_over_index_and_type  total_qty_over_index is_wrong_sndr_name  \\\n",
              "0                    159889293.0           164927295.0                  0   \n",
              "1                         4440.0               20623.0                  0   \n",
              "2                         3744.0               37817.0                  0   \n",
              "3                     11646942.0            11759329.0                  0   \n",
              "4                     76146936.0            84110459.0                  0   \n",
              "\n",
              "   is_wrong_rcpn_name  is_wrong_phone_number  is_wrong_address  \n",
              "0                   0                      0                 0  \n",
              "1                   1                      1                 0  \n",
              "2                   0                      0                 0  \n",
              "3                   1                      0                 0  \n",
              "4                   1                      0                 0  \n",
              "\n",
              "[5 rows x 28 columns]"
            ],
            "text/html": [
              "\n",
              "  <div id=\"df-a7553a48-2aa9-43a8-a302-778f74d64791\">\n",
              "    <div class=\"colab-df-container\">\n",
              "      <div>\n",
              "<style scoped>\n",
              "    .dataframe tbody tr th:only-of-type {\n",
              "        vertical-align: middle;\n",
              "    }\n",
              "\n",
              "    .dataframe tbody tr th {\n",
              "        vertical-align: top;\n",
              "    }\n",
              "\n",
              "    .dataframe thead th {\n",
              "        text-align: right;\n",
              "    }\n",
              "</style>\n",
              "<table border=\"1\" class=\"dataframe\">\n",
              "  <thead>\n",
              "    <tr style=\"text-align: right;\">\n",
              "      <th></th>\n",
              "      <th>id</th>\n",
              "      <th>oper_type + oper_attr</th>\n",
              "      <th>index_oper</th>\n",
              "      <th>type</th>\n",
              "      <th>priority</th>\n",
              "      <th>is_privatecategory</th>\n",
              "      <th>class</th>\n",
              "      <th>is_in_yandex</th>\n",
              "      <th>is_return</th>\n",
              "      <th>weight</th>\n",
              "      <th>...</th>\n",
              "      <th>price_mfi</th>\n",
              "      <th>dist_qty_oper_login_1</th>\n",
              "      <th>total_qty_oper_login_1</th>\n",
              "      <th>total_qty_oper_login_0</th>\n",
              "      <th>total_qty_over_index_and_type</th>\n",
              "      <th>total_qty_over_index</th>\n",
              "      <th>is_wrong_sndr_name</th>\n",
              "      <th>is_wrong_rcpn_name</th>\n",
              "      <th>is_wrong_phone_number</th>\n",
              "      <th>is_wrong_address</th>\n",
              "    </tr>\n",
              "  </thead>\n",
              "  <tbody>\n",
              "    <tr>\n",
              "      <th>0</th>\n",
              "      <td>7815282</td>\n",
              "      <td>8_13</td>\n",
              "      <td>102976.0</td>\n",
              "      <td>ММПО</td>\n",
              "      <td>7503.0</td>\n",
              "      <td>N</td>\n",
              "      <td>0.0</td>\n",
              "      <td>N</td>\n",
              "      <td>N</td>\n",
              "      <td>85.0</td>\n",
              "      <td>...</td>\n",
              "      <td>489.0</td>\n",
              "      <td>972.0</td>\n",
              "      <td>68766046.0</td>\n",
              "      <td>91123247.0</td>\n",
              "      <td>159889293.0</td>\n",
              "      <td>164927295.0</td>\n",
              "      <td>0</td>\n",
              "      <td>0</td>\n",
              "      <td>0</td>\n",
              "      <td>0</td>\n",
              "    </tr>\n",
              "    <tr>\n",
              "      <th>1</th>\n",
              "      <td>8443555</td>\n",
              "      <td>8_2</td>\n",
              "      <td>238753.0</td>\n",
              "      <td>ГОПС</td>\n",
              "      <td>7503.0</td>\n",
              "      <td>N</td>\n",
              "      <td>4.0</td>\n",
              "      <td>Y</td>\n",
              "      <td>N</td>\n",
              "      <td>21.0</td>\n",
              "      <td>...</td>\n",
              "      <td>186.0</td>\n",
              "      <td>2.0</td>\n",
              "      <td>2895.0</td>\n",
              "      <td>1545.0</td>\n",
              "      <td>4440.0</td>\n",
              "      <td>20623.0</td>\n",
              "      <td>0</td>\n",
              "      <td>1</td>\n",
              "      <td>1</td>\n",
              "      <td>0</td>\n",
              "    </tr>\n",
              "    <tr>\n",
              "      <th>2</th>\n",
              "      <td>6352559</td>\n",
              "      <td>1020_-1</td>\n",
              "      <td>618254.0</td>\n",
              "      <td>ГОПС</td>\n",
              "      <td>7503.0</td>\n",
              "      <td>N</td>\n",
              "      <td>4.0</td>\n",
              "      <td>Y</td>\n",
              "      <td>N</td>\n",
              "      <td>388.0</td>\n",
              "      <td>...</td>\n",
              "      <td>500.0</td>\n",
              "      <td>3.0</td>\n",
              "      <td>2751.0</td>\n",
              "      <td>993.0</td>\n",
              "      <td>3744.0</td>\n",
              "      <td>37817.0</td>\n",
              "      <td>0</td>\n",
              "      <td>0</td>\n",
              "      <td>0</td>\n",
              "      <td>0</td>\n",
              "    </tr>\n",
              "    <tr>\n",
              "      <th>3</th>\n",
              "      <td>4921420</td>\n",
              "      <td>1016_-1</td>\n",
              "      <td>102968.0</td>\n",
              "      <td>ТИ</td>\n",
              "      <td>7503.0</td>\n",
              "      <td>N</td>\n",
              "      <td>0.0</td>\n",
              "      <td>N</td>\n",
              "      <td>N</td>\n",
              "      <td>1203.0</td>\n",
              "      <td>...</td>\n",
              "      <td>0.0</td>\n",
              "      <td>69.0</td>\n",
              "      <td>9379609.0</td>\n",
              "      <td>2267333.0</td>\n",
              "      <td>11646942.0</td>\n",
              "      <td>11759329.0</td>\n",
              "      <td>0</td>\n",
              "      <td>1</td>\n",
              "      <td>0</td>\n",
              "      <td>0</td>\n",
              "    </tr>\n",
              "    <tr>\n",
              "      <th>4</th>\n",
              "      <td>1420440</td>\n",
              "      <td>1018_-1</td>\n",
              "      <td>102971.0</td>\n",
              "      <td>Цех</td>\n",
              "      <td>7506.0</td>\n",
              "      <td>N</td>\n",
              "      <td>0.0</td>\n",
              "      <td>N</td>\n",
              "      <td>N</td>\n",
              "      <td>956.0</td>\n",
              "      <td>...</td>\n",
              "      <td>1267.0</td>\n",
              "      <td>181.0</td>\n",
              "      <td>76138189.0</td>\n",
              "      <td>8747.0</td>\n",
              "      <td>76146936.0</td>\n",
              "      <td>84110459.0</td>\n",
              "      <td>0</td>\n",
              "      <td>1</td>\n",
              "      <td>0</td>\n",
              "      <td>0</td>\n",
              "    </tr>\n",
              "  </tbody>\n",
              "</table>\n",
              "<p>5 rows × 28 columns</p>\n",
              "</div>\n",
              "      <button class=\"colab-df-convert\" onclick=\"convertToInteractive('df-a7553a48-2aa9-43a8-a302-778f74d64791')\"\n",
              "              title=\"Convert this dataframe to an interactive table.\"\n",
              "              style=\"display:none;\">\n",
              "        \n",
              "  <svg xmlns=\"http://www.w3.org/2000/svg\" height=\"24px\"viewBox=\"0 0 24 24\"\n",
              "       width=\"24px\">\n",
              "    <path d=\"M0 0h24v24H0V0z\" fill=\"none\"/>\n",
              "    <path d=\"M18.56 5.44l.94 2.06.94-2.06 2.06-.94-2.06-.94-.94-2.06-.94 2.06-2.06.94zm-11 1L8.5 8.5l.94-2.06 2.06-.94-2.06-.94L8.5 2.5l-.94 2.06-2.06.94zm10 10l.94 2.06.94-2.06 2.06-.94-2.06-.94-.94-2.06-.94 2.06-2.06.94z\"/><path d=\"M17.41 7.96l-1.37-1.37c-.4-.4-.92-.59-1.43-.59-.52 0-1.04.2-1.43.59L10.3 9.45l-7.72 7.72c-.78.78-.78 2.05 0 2.83L4 21.41c.39.39.9.59 1.41.59.51 0 1.02-.2 1.41-.59l7.78-7.78 2.81-2.81c.8-.78.8-2.07 0-2.86zM5.41 20L4 18.59l7.72-7.72 1.47 1.35L5.41 20z\"/>\n",
              "  </svg>\n",
              "      </button>\n",
              "      \n",
              "  <style>\n",
              "    .colab-df-container {\n",
              "      display:flex;\n",
              "      flex-wrap:wrap;\n",
              "      gap: 12px;\n",
              "    }\n",
              "\n",
              "    .colab-df-convert {\n",
              "      background-color: #E8F0FE;\n",
              "      border: none;\n",
              "      border-radius: 50%;\n",
              "      cursor: pointer;\n",
              "      display: none;\n",
              "      fill: #1967D2;\n",
              "      height: 32px;\n",
              "      padding: 0 0 0 0;\n",
              "      width: 32px;\n",
              "    }\n",
              "\n",
              "    .colab-df-convert:hover {\n",
              "      background-color: #E2EBFA;\n",
              "      box-shadow: 0px 1px 2px rgba(60, 64, 67, 0.3), 0px 1px 3px 1px rgba(60, 64, 67, 0.15);\n",
              "      fill: #174EA6;\n",
              "    }\n",
              "\n",
              "    [theme=dark] .colab-df-convert {\n",
              "      background-color: #3B4455;\n",
              "      fill: #D2E3FC;\n",
              "    }\n",
              "\n",
              "    [theme=dark] .colab-df-convert:hover {\n",
              "      background-color: #434B5C;\n",
              "      box-shadow: 0px 1px 3px 1px rgba(0, 0, 0, 0.15);\n",
              "      filter: drop-shadow(0px 1px 2px rgba(0, 0, 0, 0.3));\n",
              "      fill: #FFFFFF;\n",
              "    }\n",
              "  </style>\n",
              "\n",
              "      <script>\n",
              "        const buttonEl =\n",
              "          document.querySelector('#df-a7553a48-2aa9-43a8-a302-778f74d64791 button.colab-df-convert');\n",
              "        buttonEl.style.display =\n",
              "          google.colab.kernel.accessAllowed ? 'block' : 'none';\n",
              "\n",
              "        async function convertToInteractive(key) {\n",
              "          const element = document.querySelector('#df-a7553a48-2aa9-43a8-a302-778f74d64791');\n",
              "          const dataTable =\n",
              "            await google.colab.kernel.invokeFunction('convertToInteractive',\n",
              "                                                     [key], {});\n",
              "          if (!dataTable) return;\n",
              "\n",
              "          const docLinkHtml = 'Like what you see? Visit the ' +\n",
              "            '<a target=\"_blank\" href=https://colab.research.google.com/notebooks/data_table.ipynb>data table notebook</a>'\n",
              "            + ' to learn more about interactive tables.';\n",
              "          element.innerHTML = '';\n",
              "          dataTable['output_type'] = 'display_data';\n",
              "          await google.colab.output.renderOutput(dataTable, element);\n",
              "          const docLink = document.createElement('div');\n",
              "          docLink.innerHTML = docLinkHtml;\n",
              "          element.appendChild(docLink);\n",
              "        }\n",
              "      </script>\n",
              "    </div>\n",
              "  </div>\n",
              "  "
            ]
          },
          "metadata": {},
          "execution_count": 9
        }
      ],
      "source": [
        "test.head()"
      ]
    },
    {
      "cell_type": "code",
      "execution_count": null,
      "metadata": {
        "colab": {
          "base_uri": "https://localhost:8080/"
        },
        "id": "czcOBmDFduKQ",
        "outputId": "1b47b21f-2463-4f23-d50a-03bc94ae7314"
      },
      "outputs": [
        {
          "output_type": "stream",
          "name": "stdout",
          "text": [
            "<class 'pandas.core.frame.DataFrame'>\n",
            "RangeIndex: 6000000 entries, 0 to 5999999\n",
            "Data columns (total 29 columns):\n",
            " #   Column                         Dtype  \n",
            "---  ------                         -----  \n",
            " 0   id                             int64  \n",
            " 1   oper_type + oper_attr          object \n",
            " 2   index_oper                     object \n",
            " 3   type                           object \n",
            " 4   priority                       float64\n",
            " 5   is_privatecategory             object \n",
            " 6   class                          float64\n",
            " 7   is_in_yandex                   object \n",
            " 8   is_return                      object \n",
            " 9   weight                         float64\n",
            " 10  mailtype                       float64\n",
            " 11  mailctg                        float64\n",
            " 12  mailrank                       float64\n",
            " 13  directctg                      float64\n",
            " 14  transport_pay                  float64\n",
            " 15  postmark                       float64\n",
            " 16  name_mfi                       object \n",
            " 17  weight_mfi                     float64\n",
            " 18  price_mfi                      float64\n",
            " 19  dist_qty_oper_login_1          float64\n",
            " 20  total_qty_oper_login_1         float64\n",
            " 21  total_qty_oper_login_0         float64\n",
            " 22  total_qty_over_index_and_type  float64\n",
            " 23  total_qty_over_index           float64\n",
            " 24  is_wrong_sndr_name             int64  \n",
            " 25  is_wrong_rcpn_name             int64  \n",
            " 26  is_wrong_phone_number          int64  \n",
            " 27  is_wrong_address               int64  \n",
            " 28  label                          int64  \n",
            "dtypes: float64(16), int64(6), object(7)\n",
            "memory usage: 1.3+ GB\n"
          ]
        }
      ],
      "source": [
        "df.info()"
      ]
    },
    {
      "cell_type": "code",
      "execution_count": null,
      "metadata": {
        "colab": {
          "base_uri": "https://localhost:8080/"
        },
        "id": "M47JKWwhvT4w",
        "outputId": "acc81d23-628d-402c-e428-8ca9ed1ee233"
      },
      "outputs": [
        {
          "output_type": "stream",
          "name": "stdout",
          "text": [
            "<class 'pandas.core.frame.DataFrame'>\n",
            "RangeIndex: 4000000 entries, 0 to 3999999\n",
            "Data columns (total 28 columns):\n",
            " #   Column                         Dtype  \n",
            "---  ------                         -----  \n",
            " 0   id                             int64  \n",
            " 1   oper_type + oper_attr          object \n",
            " 2   index_oper                     object \n",
            " 3   type                           object \n",
            " 4   priority                       float64\n",
            " 5   is_privatecategory             object \n",
            " 6   class                          float64\n",
            " 7   is_in_yandex                   object \n",
            " 8   is_return                      object \n",
            " 9   weight                         float64\n",
            " 10  mailtype                       float64\n",
            " 11  mailctg                        float64\n",
            " 12  mailrank                       float64\n",
            " 13  directctg                      float64\n",
            " 14  transport_pay                  float64\n",
            " 15  postmark                       float64\n",
            " 16  name_mfi                       object \n",
            " 17  weight_mfi                     float64\n",
            " 18  price_mfi                      float64\n",
            " 19  dist_qty_oper_login_1          float64\n",
            " 20  total_qty_oper_login_1         float64\n",
            " 21  total_qty_oper_login_0         float64\n",
            " 22  total_qty_over_index_and_type  float64\n",
            " 23  total_qty_over_index           float64\n",
            " 24  is_wrong_sndr_name             int64  \n",
            " 25  is_wrong_rcpn_name             int64  \n",
            " 26  is_wrong_phone_number          int64  \n",
            " 27  is_wrong_address               int64  \n",
            "dtypes: float64(16), int64(5), object(7)\n",
            "memory usage: 854.5+ MB\n"
          ]
        }
      ],
      "source": [
        "test.info()"
      ]
    },
    {
      "cell_type": "code",
      "execution_count": null,
      "metadata": {
        "colab": {
          "base_uri": "https://localhost:8080/"
        },
        "id": "9SYtF65nvJAI",
        "outputId": "e8a16c95-de84-4953-f655-f4819f01d487"
      },
      "outputs": [
        {
          "output_type": "execute_result",
          "data": {
            "text/plain": [
              "id                               0\n",
              "oper_type + oper_attr            0\n",
              "index_oper                       0\n",
              "type                             0\n",
              "priority                         0\n",
              "is_privatecategory               0\n",
              "class                            0\n",
              "is_in_yandex                     0\n",
              "is_return                        0\n",
              "weight                           0\n",
              "mailtype                         0\n",
              "mailctg                          0\n",
              "mailrank                         0\n",
              "directctg                        0\n",
              "transport_pay                    0\n",
              "postmark                         0\n",
              "name_mfi                         0\n",
              "weight_mfi                       0\n",
              "price_mfi                        0\n",
              "dist_qty_oper_login_1            0\n",
              "total_qty_oper_login_1           0\n",
              "total_qty_oper_login_0           0\n",
              "total_qty_over_index_and_type    0\n",
              "total_qty_over_index             0\n",
              "is_wrong_sndr_name               0\n",
              "is_wrong_rcpn_name               0\n",
              "is_wrong_phone_number            0\n",
              "is_wrong_address                 0\n",
              "label                            0\n",
              "dtype: int64"
            ]
          },
          "metadata": {},
          "execution_count": 12
        }
      ],
      "source": [
        "df.isna().sum()"
      ]
    },
    {
      "cell_type": "code",
      "execution_count": null,
      "metadata": {
        "colab": {
          "base_uri": "https://localhost:8080/"
        },
        "id": "6KDTBy3bvYMe",
        "outputId": "3f37ed6f-feb8-4f26-c707-3043e9df45d7"
      },
      "outputs": [
        {
          "output_type": "execute_result",
          "data": {
            "text/plain": [
              "id                               0\n",
              "oper_type + oper_attr            0\n",
              "index_oper                       0\n",
              "type                             0\n",
              "priority                         0\n",
              "is_privatecategory               0\n",
              "class                            0\n",
              "is_in_yandex                     0\n",
              "is_return                        0\n",
              "weight                           0\n",
              "mailtype                         0\n",
              "mailctg                          0\n",
              "mailrank                         0\n",
              "directctg                        0\n",
              "transport_pay                    0\n",
              "postmark                         0\n",
              "name_mfi                         0\n",
              "weight_mfi                       0\n",
              "price_mfi                        0\n",
              "dist_qty_oper_login_1            0\n",
              "total_qty_oper_login_1           0\n",
              "total_qty_oper_login_0           0\n",
              "total_qty_over_index_and_type    0\n",
              "total_qty_over_index             0\n",
              "is_wrong_sndr_name               0\n",
              "is_wrong_rcpn_name               0\n",
              "is_wrong_phone_number            0\n",
              "is_wrong_address                 0\n",
              "dtype: int64"
            ]
          },
          "metadata": {},
          "execution_count": 13
        }
      ],
      "source": [
        "test.isna().sum()"
      ]
    },
    {
      "cell_type": "code",
      "execution_count": null,
      "metadata": {
        "colab": {
          "base_uri": "https://localhost:8080/"
        },
        "id": "FCralPxDG5fF",
        "outputId": "73dc4244-6684-4074-d1b5-e01b15b7d5fb"
      },
      "outputs": [
        {
          "output_type": "execute_result",
          "data": {
            "text/plain": [
              "(6000000, 29)"
            ]
          },
          "metadata": {},
          "execution_count": 8
        }
      ],
      "source": [
        "df.shape"
      ]
    },
    {
      "cell_type": "code",
      "execution_count": null,
      "metadata": {
        "colab": {
          "base_uri": "https://localhost:8080/"
        },
        "id": "5ejHy0-LG8Rq",
        "outputId": "158e2283-2c25-4f48-ca21-d0d40bfadb7d"
      },
      "outputs": [
        {
          "output_type": "execute_result",
          "data": {
            "text/plain": [
              "(4000000, 28)"
            ]
          },
          "metadata": {},
          "execution_count": 9
        }
      ],
      "source": [
        "test.shape"
      ]
    },
    {
      "cell_type": "markdown",
      "metadata": {
        "id": "gv1cwo_EsUeA"
      },
      "source": [
        "### id"
      ]
    },
    {
      "cell_type": "code",
      "execution_count": null,
      "metadata": {
        "colab": {
          "base_uri": "https://localhost:8080/"
        },
        "id": "FZvmeeiksWFF",
        "outputId": "29743655-85b5-40ee-d38f-59df16896c47"
      },
      "outputs": [
        {
          "output_type": "execute_result",
          "data": {
            "text/plain": [
              "6818780    1\n",
              "1236699    1\n",
              "4090073    1\n",
              "7722817    1\n",
              "3414179    1\n",
              "          ..\n",
              "2573822    1\n",
              "654869     1\n",
              "1616887    1\n",
              "1384821    1\n",
              "6423388    1\n",
              "Name: id, Length: 6000000, dtype: int64"
            ]
          },
          "metadata": {},
          "execution_count": 16
        }
      ],
      "source": [
        "df['id'].value_counts()"
      ]
    },
    {
      "cell_type": "code",
      "execution_count": null,
      "metadata": {
        "colab": {
          "base_uri": "https://localhost:8080/"
        },
        "id": "TomrcmuWsZjJ",
        "outputId": "24901773-c29a-415c-d8dd-367b3d8da510"
      },
      "outputs": [
        {
          "output_type": "execute_result",
          "data": {
            "text/plain": [
              "7815282    1\n",
              "930561     1\n",
              "9340626    1\n",
              "9580725    1\n",
              "1148721    1\n",
              "          ..\n",
              "87273      1\n",
              "8340643    1\n",
              "2920962    1\n",
              "1831423    1\n",
              "7776936    1\n",
              "Name: id, Length: 4000000, dtype: int64"
            ]
          },
          "metadata": {},
          "execution_count": 17
        }
      ],
      "source": [
        "test['id'].value_counts()"
      ]
    },
    {
      "cell_type": "markdown",
      "metadata": {
        "id": "nmiktzfrshpF"
      },
      "source": [
        "### oper_type + oper_attr"
      ]
    },
    {
      "cell_type": "code",
      "execution_count": null,
      "metadata": {
        "colab": {
          "base_uri": "https://localhost:8080/"
        },
        "id": "as0q3T15tzKC",
        "outputId": "65724435-e042-4431-d3af-34006e48948b"
      },
      "outputs": [
        {
          "data": {
            "text/plain": [
              "1020_-1    693154\n",
              "1022_-1    656597\n",
              "1019_-1    413710\n",
              "8_0        402877\n",
              "1_-1       359402\n",
              "            ...  \n",
              "2_2             1\n",
              "12_6            1\n",
              "2_11            1\n",
              "2_10            1\n",
              "1009_-1         1\n",
              "Name: oper_type + oper_attr, Length: 109, dtype: int64"
            ]
          },
          "execution_count": 26,
          "metadata": {},
          "output_type": "execute_result"
        }
      ],
      "source": [
        "df['oper_type + oper_attr'].value_counts()"
      ]
    },
    {
      "cell_type": "code",
      "execution_count": null,
      "metadata": {
        "colab": {
          "base_uri": "https://localhost:8080/"
        },
        "id": "6yjCTw9sv-VW",
        "outputId": "7d9a41c4-df89-468d-9761-08934940cca6"
      },
      "outputs": [
        {
          "data": {
            "text/plain": [
              "1020_-1    461403\n",
              "1022_-1    437702\n",
              "1019_-1    276312\n",
              "8_0        268559\n",
              "1_-1       240459\n",
              "            ...  \n",
              "12_21           1\n",
              "14_19           1\n",
              "1009_-1         1\n",
              "6_5             1\n",
              "3_10            1\n",
              "Name: oper_type + oper_attr, Length: 102, dtype: int64"
            ]
          },
          "execution_count": 21,
          "metadata": {},
          "output_type": "execute_result"
        }
      ],
      "source": [
        "test['oper_type + oper_attr'].value_counts()"
      ]
    },
    {
      "cell_type": "code",
      "execution_count": null,
      "metadata": {
        "id": "Z7IEN_NgOlmL"
      },
      "outputs": [],
      "source": [
        "df_t = df.head(10)"
      ]
    },
    {
      "cell_type": "code",
      "execution_count": null,
      "metadata": {
        "colab": {
          "base_uri": "https://localhost:8080/",
          "height": 491
        },
        "id": "9Xp7OTpxPRj_",
        "outputId": "143bb9ba-b4d3-4591-daa7-754f7aeda6b9"
      },
      "outputs": [
        {
          "output_type": "execute_result",
          "data": {
            "text/plain": [
              "        id oper_type + oper_attr index_oper     type  priority  \\\n",
              "0  6818780               1043_-1   628629.0  Участок    7503.0   \n",
              "1  9907176               1023_-1   102976.0     ММПО    7503.0   \n",
              "2  3304275               1018_-1   620962.0      Цех    7503.0   \n",
              "3  9020937               1019_-1   344964.0      Цех    7503.0   \n",
              "4  3082311               1020_-1   629819.0  Участок    7503.0   \n",
              "5  7222151               1001_-1   215846.0  Участок    7503.0   \n",
              "6  1119430               1020_-1   665168.0  Участок    7504.0   \n",
              "7  7685222               1043_-1   102971.0      Цех    7506.0   \n",
              "8  8422322               1018_-1   102971.0      Цех    7506.0   \n",
              "9  8441469               1020_-1   630872.0      Цех    7503.0   \n",
              "\n",
              "  is_privatecategory  class is_in_yandex is_return  weight  ...  \\\n",
              "0                  N    0.0            Y         N    87.0  ...   \n",
              "1                  N    0.0            N         N   107.0  ...   \n",
              "2                  N    0.0            Y         N    50.0  ...   \n",
              "3                  N    0.0            Y         N   416.0  ...   \n",
              "4                  N    0.0            Y         N   795.0  ...   \n",
              "5                  N    0.0            Y         N    14.0  ...   \n",
              "6                  N    0.0            Y         N    70.0  ...   \n",
              "7                  N    0.0            N         N   726.0  ...   \n",
              "8                  N    0.0            N         N    71.0  ...   \n",
              "9                  N    0.0            N         N  2201.0  ...   \n",
              "\n",
              "   dist_qty_oper_login_1  total_qty_oper_login_1  total_qty_oper_login_0  \\\n",
              "0                   42.0                720176.0                 58950.0   \n",
              "1                  914.0              48856658.0              83318932.0   \n",
              "2                   62.0               3246292.0               3233068.0   \n",
              "3                   55.0               2060928.0                653280.0   \n",
              "4                   16.0                316919.0                 27911.0   \n",
              "5                    7.0                 59995.0                 33041.0   \n",
              "6                   10.0                 45592.0                 14030.0   \n",
              "7                  153.0              89268735.0               6799759.0   \n",
              "8                  186.0              60613352.0                 10648.0   \n",
              "9                   50.0               7981096.0               5446366.0   \n",
              "\n",
              "   total_qty_over_index_and_type  total_qty_over_index  is_wrong_sndr_name  \\\n",
              "0                       779126.0             8290896.0                   0   \n",
              "1                    132175590.0           136819803.0                   0   \n",
              "2                      6479360.0            52708071.0                   0   \n",
              "3                      2714208.0            19562334.0                   0   \n",
              "4                       344830.0             4719186.0                   0   \n",
              "5                        93036.0              963424.0                   0   \n",
              "6                        59622.0              578691.0                   0   \n",
              "7                     96068494.0           101200378.0                   0   \n",
              "8                     60624000.0            75592387.0                   0   \n",
              "9                     13427462.0            13504054.0                   0   \n",
              "\n",
              "  is_wrong_rcpn_name  is_wrong_phone_number  is_wrong_address  label  \n",
              "0                  0                      0                 0      0  \n",
              "1                  0                      0                 0      0  \n",
              "2                  1                      0                 0      0  \n",
              "3                  0                      0                 0      0  \n",
              "4                  0                      0                 0      0  \n",
              "5                  1                      0                 0      0  \n",
              "6                  1                      0                 0      0  \n",
              "7                  0                      0                 0      0  \n",
              "8                  0                      1                 0      0  \n",
              "9                  0                      0                 0      0  \n",
              "\n",
              "[10 rows x 29 columns]"
            ],
            "text/html": [
              "\n",
              "  <div id=\"df-b6de9f65-4d9f-4c7b-9153-bce838d9b441\">\n",
              "    <div class=\"colab-df-container\">\n",
              "      <div>\n",
              "<style scoped>\n",
              "    .dataframe tbody tr th:only-of-type {\n",
              "        vertical-align: middle;\n",
              "    }\n",
              "\n",
              "    .dataframe tbody tr th {\n",
              "        vertical-align: top;\n",
              "    }\n",
              "\n",
              "    .dataframe thead th {\n",
              "        text-align: right;\n",
              "    }\n",
              "</style>\n",
              "<table border=\"1\" class=\"dataframe\">\n",
              "  <thead>\n",
              "    <tr style=\"text-align: right;\">\n",
              "      <th></th>\n",
              "      <th>id</th>\n",
              "      <th>oper_type + oper_attr</th>\n",
              "      <th>index_oper</th>\n",
              "      <th>type</th>\n",
              "      <th>priority</th>\n",
              "      <th>is_privatecategory</th>\n",
              "      <th>class</th>\n",
              "      <th>is_in_yandex</th>\n",
              "      <th>is_return</th>\n",
              "      <th>weight</th>\n",
              "      <th>...</th>\n",
              "      <th>dist_qty_oper_login_1</th>\n",
              "      <th>total_qty_oper_login_1</th>\n",
              "      <th>total_qty_oper_login_0</th>\n",
              "      <th>total_qty_over_index_and_type</th>\n",
              "      <th>total_qty_over_index</th>\n",
              "      <th>is_wrong_sndr_name</th>\n",
              "      <th>is_wrong_rcpn_name</th>\n",
              "      <th>is_wrong_phone_number</th>\n",
              "      <th>is_wrong_address</th>\n",
              "      <th>label</th>\n",
              "    </tr>\n",
              "  </thead>\n",
              "  <tbody>\n",
              "    <tr>\n",
              "      <th>0</th>\n",
              "      <td>6818780</td>\n",
              "      <td>1043_-1</td>\n",
              "      <td>628629.0</td>\n",
              "      <td>Участок</td>\n",
              "      <td>7503.0</td>\n",
              "      <td>N</td>\n",
              "      <td>0.0</td>\n",
              "      <td>Y</td>\n",
              "      <td>N</td>\n",
              "      <td>87.0</td>\n",
              "      <td>...</td>\n",
              "      <td>42.0</td>\n",
              "      <td>720176.0</td>\n",
              "      <td>58950.0</td>\n",
              "      <td>779126.0</td>\n",
              "      <td>8290896.0</td>\n",
              "      <td>0</td>\n",
              "      <td>0</td>\n",
              "      <td>0</td>\n",
              "      <td>0</td>\n",
              "      <td>0</td>\n",
              "    </tr>\n",
              "    <tr>\n",
              "      <th>1</th>\n",
              "      <td>9907176</td>\n",
              "      <td>1023_-1</td>\n",
              "      <td>102976.0</td>\n",
              "      <td>ММПО</td>\n",
              "      <td>7503.0</td>\n",
              "      <td>N</td>\n",
              "      <td>0.0</td>\n",
              "      <td>N</td>\n",
              "      <td>N</td>\n",
              "      <td>107.0</td>\n",
              "      <td>...</td>\n",
              "      <td>914.0</td>\n",
              "      <td>48856658.0</td>\n",
              "      <td>83318932.0</td>\n",
              "      <td>132175590.0</td>\n",
              "      <td>136819803.0</td>\n",
              "      <td>0</td>\n",
              "      <td>0</td>\n",
              "      <td>0</td>\n",
              "      <td>0</td>\n",
              "      <td>0</td>\n",
              "    </tr>\n",
              "    <tr>\n",
              "      <th>2</th>\n",
              "      <td>3304275</td>\n",
              "      <td>1018_-1</td>\n",
              "      <td>620962.0</td>\n",
              "      <td>Цех</td>\n",
              "      <td>7503.0</td>\n",
              "      <td>N</td>\n",
              "      <td>0.0</td>\n",
              "      <td>Y</td>\n",
              "      <td>N</td>\n",
              "      <td>50.0</td>\n",
              "      <td>...</td>\n",
              "      <td>62.0</td>\n",
              "      <td>3246292.0</td>\n",
              "      <td>3233068.0</td>\n",
              "      <td>6479360.0</td>\n",
              "      <td>52708071.0</td>\n",
              "      <td>0</td>\n",
              "      <td>1</td>\n",
              "      <td>0</td>\n",
              "      <td>0</td>\n",
              "      <td>0</td>\n",
              "    </tr>\n",
              "    <tr>\n",
              "      <th>3</th>\n",
              "      <td>9020937</td>\n",
              "      <td>1019_-1</td>\n",
              "      <td>344964.0</td>\n",
              "      <td>Цех</td>\n",
              "      <td>7503.0</td>\n",
              "      <td>N</td>\n",
              "      <td>0.0</td>\n",
              "      <td>Y</td>\n",
              "      <td>N</td>\n",
              "      <td>416.0</td>\n",
              "      <td>...</td>\n",
              "      <td>55.0</td>\n",
              "      <td>2060928.0</td>\n",
              "      <td>653280.0</td>\n",
              "      <td>2714208.0</td>\n",
              "      <td>19562334.0</td>\n",
              "      <td>0</td>\n",
              "      <td>0</td>\n",
              "      <td>0</td>\n",
              "      <td>0</td>\n",
              "      <td>0</td>\n",
              "    </tr>\n",
              "    <tr>\n",
              "      <th>4</th>\n",
              "      <td>3082311</td>\n",
              "      <td>1020_-1</td>\n",
              "      <td>629819.0</td>\n",
              "      <td>Участок</td>\n",
              "      <td>7503.0</td>\n",
              "      <td>N</td>\n",
              "      <td>0.0</td>\n",
              "      <td>Y</td>\n",
              "      <td>N</td>\n",
              "      <td>795.0</td>\n",
              "      <td>...</td>\n",
              "      <td>16.0</td>\n",
              "      <td>316919.0</td>\n",
              "      <td>27911.0</td>\n",
              "      <td>344830.0</td>\n",
              "      <td>4719186.0</td>\n",
              "      <td>0</td>\n",
              "      <td>0</td>\n",
              "      <td>0</td>\n",
              "      <td>0</td>\n",
              "      <td>0</td>\n",
              "    </tr>\n",
              "    <tr>\n",
              "      <th>5</th>\n",
              "      <td>7222151</td>\n",
              "      <td>1001_-1</td>\n",
              "      <td>215846.0</td>\n",
              "      <td>Участок</td>\n",
              "      <td>7503.0</td>\n",
              "      <td>N</td>\n",
              "      <td>0.0</td>\n",
              "      <td>Y</td>\n",
              "      <td>N</td>\n",
              "      <td>14.0</td>\n",
              "      <td>...</td>\n",
              "      <td>7.0</td>\n",
              "      <td>59995.0</td>\n",
              "      <td>33041.0</td>\n",
              "      <td>93036.0</td>\n",
              "      <td>963424.0</td>\n",
              "      <td>0</td>\n",
              "      <td>1</td>\n",
              "      <td>0</td>\n",
              "      <td>0</td>\n",
              "      <td>0</td>\n",
              "    </tr>\n",
              "    <tr>\n",
              "      <th>6</th>\n",
              "      <td>1119430</td>\n",
              "      <td>1020_-1</td>\n",
              "      <td>665168.0</td>\n",
              "      <td>Участок</td>\n",
              "      <td>7504.0</td>\n",
              "      <td>N</td>\n",
              "      <td>0.0</td>\n",
              "      <td>Y</td>\n",
              "      <td>N</td>\n",
              "      <td>70.0</td>\n",
              "      <td>...</td>\n",
              "      <td>10.0</td>\n",
              "      <td>45592.0</td>\n",
              "      <td>14030.0</td>\n",
              "      <td>59622.0</td>\n",
              "      <td>578691.0</td>\n",
              "      <td>0</td>\n",
              "      <td>1</td>\n",
              "      <td>0</td>\n",
              "      <td>0</td>\n",
              "      <td>0</td>\n",
              "    </tr>\n",
              "    <tr>\n",
              "      <th>7</th>\n",
              "      <td>7685222</td>\n",
              "      <td>1043_-1</td>\n",
              "      <td>102971.0</td>\n",
              "      <td>Цех</td>\n",
              "      <td>7506.0</td>\n",
              "      <td>N</td>\n",
              "      <td>0.0</td>\n",
              "      <td>N</td>\n",
              "      <td>N</td>\n",
              "      <td>726.0</td>\n",
              "      <td>...</td>\n",
              "      <td>153.0</td>\n",
              "      <td>89268735.0</td>\n",
              "      <td>6799759.0</td>\n",
              "      <td>96068494.0</td>\n",
              "      <td>101200378.0</td>\n",
              "      <td>0</td>\n",
              "      <td>0</td>\n",
              "      <td>0</td>\n",
              "      <td>0</td>\n",
              "      <td>0</td>\n",
              "    </tr>\n",
              "    <tr>\n",
              "      <th>8</th>\n",
              "      <td>8422322</td>\n",
              "      <td>1018_-1</td>\n",
              "      <td>102971.0</td>\n",
              "      <td>Цех</td>\n",
              "      <td>7506.0</td>\n",
              "      <td>N</td>\n",
              "      <td>0.0</td>\n",
              "      <td>N</td>\n",
              "      <td>N</td>\n",
              "      <td>71.0</td>\n",
              "      <td>...</td>\n",
              "      <td>186.0</td>\n",
              "      <td>60613352.0</td>\n",
              "      <td>10648.0</td>\n",
              "      <td>60624000.0</td>\n",
              "      <td>75592387.0</td>\n",
              "      <td>0</td>\n",
              "      <td>0</td>\n",
              "      <td>1</td>\n",
              "      <td>0</td>\n",
              "      <td>0</td>\n",
              "    </tr>\n",
              "    <tr>\n",
              "      <th>9</th>\n",
              "      <td>8441469</td>\n",
              "      <td>1020_-1</td>\n",
              "      <td>630872.0</td>\n",
              "      <td>Цех</td>\n",
              "      <td>7503.0</td>\n",
              "      <td>N</td>\n",
              "      <td>0.0</td>\n",
              "      <td>N</td>\n",
              "      <td>N</td>\n",
              "      <td>2201.0</td>\n",
              "      <td>...</td>\n",
              "      <td>50.0</td>\n",
              "      <td>7981096.0</td>\n",
              "      <td>5446366.0</td>\n",
              "      <td>13427462.0</td>\n",
              "      <td>13504054.0</td>\n",
              "      <td>0</td>\n",
              "      <td>0</td>\n",
              "      <td>0</td>\n",
              "      <td>0</td>\n",
              "      <td>0</td>\n",
              "    </tr>\n",
              "  </tbody>\n",
              "</table>\n",
              "<p>10 rows × 29 columns</p>\n",
              "</div>\n",
              "      <button class=\"colab-df-convert\" onclick=\"convertToInteractive('df-b6de9f65-4d9f-4c7b-9153-bce838d9b441')\"\n",
              "              title=\"Convert this dataframe to an interactive table.\"\n",
              "              style=\"display:none;\">\n",
              "        \n",
              "  <svg xmlns=\"http://www.w3.org/2000/svg\" height=\"24px\"viewBox=\"0 0 24 24\"\n",
              "       width=\"24px\">\n",
              "    <path d=\"M0 0h24v24H0V0z\" fill=\"none\"/>\n",
              "    <path d=\"M18.56 5.44l.94 2.06.94-2.06 2.06-.94-2.06-.94-.94-2.06-.94 2.06-2.06.94zm-11 1L8.5 8.5l.94-2.06 2.06-.94-2.06-.94L8.5 2.5l-.94 2.06-2.06.94zm10 10l.94 2.06.94-2.06 2.06-.94-2.06-.94-.94-2.06-.94 2.06-2.06.94z\"/><path d=\"M17.41 7.96l-1.37-1.37c-.4-.4-.92-.59-1.43-.59-.52 0-1.04.2-1.43.59L10.3 9.45l-7.72 7.72c-.78.78-.78 2.05 0 2.83L4 21.41c.39.39.9.59 1.41.59.51 0 1.02-.2 1.41-.59l7.78-7.78 2.81-2.81c.8-.78.8-2.07 0-2.86zM5.41 20L4 18.59l7.72-7.72 1.47 1.35L5.41 20z\"/>\n",
              "  </svg>\n",
              "      </button>\n",
              "      \n",
              "  <style>\n",
              "    .colab-df-container {\n",
              "      display:flex;\n",
              "      flex-wrap:wrap;\n",
              "      gap: 12px;\n",
              "    }\n",
              "\n",
              "    .colab-df-convert {\n",
              "      background-color: #E8F0FE;\n",
              "      border: none;\n",
              "      border-radius: 50%;\n",
              "      cursor: pointer;\n",
              "      display: none;\n",
              "      fill: #1967D2;\n",
              "      height: 32px;\n",
              "      padding: 0 0 0 0;\n",
              "      width: 32px;\n",
              "    }\n",
              "\n",
              "    .colab-df-convert:hover {\n",
              "      background-color: #E2EBFA;\n",
              "      box-shadow: 0px 1px 2px rgba(60, 64, 67, 0.3), 0px 1px 3px 1px rgba(60, 64, 67, 0.15);\n",
              "      fill: #174EA6;\n",
              "    }\n",
              "\n",
              "    [theme=dark] .colab-df-convert {\n",
              "      background-color: #3B4455;\n",
              "      fill: #D2E3FC;\n",
              "    }\n",
              "\n",
              "    [theme=dark] .colab-df-convert:hover {\n",
              "      background-color: #434B5C;\n",
              "      box-shadow: 0px 1px 3px 1px rgba(0, 0, 0, 0.15);\n",
              "      filter: drop-shadow(0px 1px 2px rgba(0, 0, 0, 0.3));\n",
              "      fill: #FFFFFF;\n",
              "    }\n",
              "  </style>\n",
              "\n",
              "      <script>\n",
              "        const buttonEl =\n",
              "          document.querySelector('#df-b6de9f65-4d9f-4c7b-9153-bce838d9b441 button.colab-df-convert');\n",
              "        buttonEl.style.display =\n",
              "          google.colab.kernel.accessAllowed ? 'block' : 'none';\n",
              "\n",
              "        async function convertToInteractive(key) {\n",
              "          const element = document.querySelector('#df-b6de9f65-4d9f-4c7b-9153-bce838d9b441');\n",
              "          const dataTable =\n",
              "            await google.colab.kernel.invokeFunction('convertToInteractive',\n",
              "                                                     [key], {});\n",
              "          if (!dataTable) return;\n",
              "\n",
              "          const docLinkHtml = 'Like what you see? Visit the ' +\n",
              "            '<a target=\"_blank\" href=https://colab.research.google.com/notebooks/data_table.ipynb>data table notebook</a>'\n",
              "            + ' to learn more about interactive tables.';\n",
              "          element.innerHTML = '';\n",
              "          dataTable['output_type'] = 'display_data';\n",
              "          await google.colab.output.renderOutput(dataTable, element);\n",
              "          const docLink = document.createElement('div');\n",
              "          docLink.innerHTML = docLinkHtml;\n",
              "          element.appendChild(docLink);\n",
              "        }\n",
              "      </script>\n",
              "    </div>\n",
              "  </div>\n",
              "  "
            ]
          },
          "metadata": {},
          "execution_count": 16
        }
      ],
      "source": [
        "df_t"
      ]
    },
    {
      "cell_type": "markdown",
      "metadata": {
        "id": "WowyPzfwSEkX"
      },
      "source": [
        "#### Проверка функции для разделения на две фичи"
      ]
    },
    {
      "cell_type": "code",
      "execution_count": null,
      "metadata": {
        "colab": {
          "base_uri": "https://localhost:8080/"
        },
        "id": "LJ-NdDHoJE4Q",
        "outputId": "3ff5cb84-3a01-4f45-ca3c-5808d61f7d5c"
      },
      "outputs": [
        {
          "output_type": "stream",
          "name": "stdout",
          "text": [
            "1020\n",
            "-1\n"
          ]
        }
      ],
      "source": [
        "var = '1020_-1'\n",
        "print(var.split('_')[0])\n",
        "print(var.split('_')[1])"
      ]
    },
    {
      "cell_type": "code",
      "execution_count": null,
      "metadata": {
        "id": "42StZX9GSCpi"
      },
      "outputs": [],
      "source": [
        "df['oper_type'] = df['oper_type + oper_attr'].apply(lambda x : x.split('_')[0])\n",
        "df['oper_attr'] = df['oper_type + oper_attr'].apply(lambda x : x.split('_')[1])\n",
        "#df = df.drop('oper_type + oper_attr', axis=1)"
      ]
    },
    {
      "cell_type": "code",
      "execution_count": null,
      "metadata": {
        "id": "LXqJz663R5kK"
      },
      "outputs": [],
      "source": [
        "test['oper_type'] = test['oper_type + oper_attr'].apply(lambda x : x.split('_')[0])\n",
        "test['oper_attr'] = test['oper_type + oper_attr'].apply(lambda x : x.split('_')[1])\n",
        "#test = test.drop('oper_type + oper_attr', axis=1)"
      ]
    },
    {
      "cell_type": "markdown",
      "metadata": {
        "id": "NhBOWeiLTK9e"
      },
      "source": [
        "### oper_type"
      ]
    },
    {
      "cell_type": "code",
      "source": [
        "df.info()"
      ],
      "metadata": {
        "colab": {
          "base_uri": "https://localhost:8080/"
        },
        "id": "7crce1030YLp",
        "outputId": "02e9a8ac-5d7d-4a7f-cafe-cb532a15b3de"
      },
      "execution_count": null,
      "outputs": [
        {
          "output_type": "stream",
          "name": "stdout",
          "text": [
            "<class 'pandas.core.frame.DataFrame'>\n",
            "RangeIndex: 6000000 entries, 0 to 5999999\n",
            "Data columns (total 30 columns):\n",
            " #   Column                         Dtype  \n",
            "---  ------                         -----  \n",
            " 0   id                             int64  \n",
            " 1   index_oper                     object \n",
            " 2   type                           object \n",
            " 3   priority                       float64\n",
            " 4   is_privatecategory             object \n",
            " 5   class                          float64\n",
            " 6   is_in_yandex                   object \n",
            " 7   is_return                      object \n",
            " 8   weight                         float64\n",
            " 9   mailtype                       float64\n",
            " 10  mailctg                        float64\n",
            " 11  mailrank                       float64\n",
            " 12  directctg                      float64\n",
            " 13  transport_pay                  float64\n",
            " 14  postmark                       float64\n",
            " 15  name_mfi                       object \n",
            " 16  weight_mfi                     float64\n",
            " 17  price_mfi                      float64\n",
            " 18  dist_qty_oper_login_1          float64\n",
            " 19  total_qty_oper_login_1         float64\n",
            " 20  total_qty_oper_login_0         float64\n",
            " 21  total_qty_over_index_and_type  float64\n",
            " 22  total_qty_over_index           float64\n",
            " 23  is_wrong_sndr_name             int64  \n",
            " 24  is_wrong_rcpn_name             int64  \n",
            " 25  is_wrong_phone_number          int64  \n",
            " 26  is_wrong_address               int64  \n",
            " 27  label                          int64  \n",
            " 28  oper_type                      object \n",
            " 29  oper_attr                      object \n",
            "dtypes: float64(16), int64(6), object(8)\n",
            "memory usage: 1.3+ GB\n"
          ]
        }
      ]
    },
    {
      "cell_type": "code",
      "execution_count": null,
      "metadata": {
        "colab": {
          "base_uri": "https://localhost:8080/"
        },
        "id": "jlk0jcXsTLr3",
        "outputId": "33d6419e-7f64-427f-c540-45e0fd93fbe2"
      },
      "outputs": [
        {
          "output_type": "execute_result",
          "data": {
            "text/plain": [
              "8       879194\n",
              "1020    693154\n",
              "1022    656597\n",
              "1019    413710\n",
              "1       359402\n",
              "1001    353113\n",
              "1018    317883\n",
              "1004    309433\n",
              "1042    293434\n",
              "1041    289924\n",
              "1023    214907\n",
              "2       141763\n",
              "1043    139437\n",
              "1044    133987\n",
              "1014    105358\n",
              "1016     74538\n",
              "11       74451\n",
              "14       72218\n",
              "9        70931\n",
              "0        69355\n",
              "184      58120\n",
              "185      58036\n",
              "183      58008\n",
              "39       57665\n",
              "29       41486\n",
              "1026     21573\n",
              "12        7646\n",
              "131       6517\n",
              "1017      5641\n",
              "1027      4602\n",
              "26        4156\n",
              "1025      3417\n",
              "1021      2647\n",
              "4         2261\n",
              "154        998\n",
              "41         992\n",
              "1015       666\n",
              "1012       548\n",
              "114        465\n",
              "1045       435\n",
              "6          397\n",
              "30         341\n",
              "3          299\n",
              "104        141\n",
              "1005        69\n",
              "1002        26\n",
              "1013        24\n",
              "1003        14\n",
              "20           8\n",
              "5            4\n",
              "15           2\n",
              "10           2\n",
              "34           1\n",
              "24           1\n",
              "128          1\n",
              "192          1\n",
              "1009         1\n",
              "Name: oper_type, dtype: int64"
            ]
          },
          "metadata": {},
          "execution_count": 20
        }
      ],
      "source": [
        "df['oper_type'].value_counts()"
      ]
    },
    {
      "cell_type": "code",
      "execution_count": null,
      "metadata": {
        "id": "zPZQxisWiYVK"
      },
      "outputs": [],
      "source": [
        "#df['oper_type'] = df['oper_type'].astype(int)"
      ]
    },
    {
      "cell_type": "code",
      "execution_count": null,
      "metadata": {
        "colab": {
          "base_uri": "https://localhost:8080/"
        },
        "id": "JHM9ZMLTTZ96",
        "outputId": "1e20e238-36df-4919-b7ba-d44a6fef5834"
      },
      "outputs": [
        {
          "output_type": "execute_result",
          "data": {
            "text/plain": [
              "8       586586\n",
              "1020    461403\n",
              "1022    437702\n",
              "1019    276312\n",
              "1       240459\n",
              "1001    236006\n",
              "1018    212302\n",
              "1004    205472\n",
              "1042    196258\n",
              "1041    192451\n",
              "1023    143417\n",
              "2        94791\n",
              "1043     92805\n",
              "1044     90070\n",
              "1014     70041\n",
              "11       49052\n",
              "1016     48757\n",
              "14       47845\n",
              "9        47535\n",
              "0        46456\n",
              "183      38949\n",
              "184      38662\n",
              "185      38657\n",
              "39       38248\n",
              "29       27580\n",
              "1026     14356\n",
              "12        5214\n",
              "131       4302\n",
              "1017      3823\n",
              "1027      2941\n",
              "26        2693\n",
              "1025      2265\n",
              "1021      1789\n",
              "4         1420\n",
              "154        631\n",
              "41         617\n",
              "1015       409\n",
              "1012       306\n",
              "114        306\n",
              "1045       278\n",
              "6          233\n",
              "30         208\n",
              "3          186\n",
              "104        114\n",
              "1005        39\n",
              "1002        19\n",
              "1013        12\n",
              "1003         9\n",
              "5            4\n",
              "20           4\n",
              "24           2\n",
              "15           2\n",
              "192          1\n",
              "1009         1\n",
              "Name: oper_type, dtype: int64"
            ]
          },
          "metadata": {},
          "execution_count": 21
        }
      ],
      "source": [
        "test['oper_type'].value_counts()"
      ]
    },
    {
      "cell_type": "code",
      "execution_count": null,
      "metadata": {
        "id": "FkJZElXiibS6"
      },
      "outputs": [],
      "source": [
        "#test['oper_type'] = test['oper_type'].astype(int)"
      ]
    },
    {
      "cell_type": "code",
      "source": [
        "test.info()"
      ],
      "metadata": {
        "colab": {
          "base_uri": "https://localhost:8080/"
        },
        "id": "IRQztBniRtJu",
        "outputId": "141b94b9-c450-4346-d933-1991f630c5c1"
      },
      "execution_count": null,
      "outputs": [
        {
          "output_type": "stream",
          "name": "stdout",
          "text": [
            "<class 'pandas.core.frame.DataFrame'>\n",
            "RangeIndex: 4000000 entries, 0 to 3999999\n",
            "Data columns (total 30 columns):\n",
            " #   Column                         Dtype  \n",
            "---  ------                         -----  \n",
            " 0   id                             int64  \n",
            " 1   oper_type + oper_attr          object \n",
            " 2   index_oper                     object \n",
            " 3   type                           object \n",
            " 4   priority                       float64\n",
            " 5   is_privatecategory             int64  \n",
            " 6   class                          float64\n",
            " 7   is_in_yandex                   int64  \n",
            " 8   is_return                      int64  \n",
            " 9   weight                         float64\n",
            " 10  mailtype                       float64\n",
            " 11  mailctg                        float64\n",
            " 12  directctg                      float64\n",
            " 13  transport_pay                  float64\n",
            " 14  postmark                       float64\n",
            " 15  name_mfi                       object \n",
            " 16  weight_mfi                     float64\n",
            " 17  price_mfi                      float64\n",
            " 18  dist_qty_oper_login_1          float64\n",
            " 19  total_qty_oper_login_1         float64\n",
            " 20  total_qty_oper_login_0         float64\n",
            " 21  total_qty_over_index_and_type  float64\n",
            " 22  total_qty_over_index           float64\n",
            " 23  is_wrong_sndr_name             int64  \n",
            " 24  is_wrong_rcpn_name             int64  \n",
            " 25  is_wrong_phone_number          int64  \n",
            " 26  is_wrong_address               int64  \n",
            " 27  name_lemm                      object \n",
            " 28  oper_type                      object \n",
            " 29  oper_attr                      object \n",
            "dtypes: float64(15), int64(8), object(7)\n",
            "memory usage: 915.5+ MB\n"
          ]
        }
      ]
    },
    {
      "cell_type": "markdown",
      "metadata": {
        "id": "g4eBAubvTuDS"
      },
      "source": [
        "### oper_attr"
      ]
    },
    {
      "cell_type": "code",
      "execution_count": null,
      "metadata": {
        "colab": {
          "base_uri": "https://localhost:8080/"
        },
        "id": "Q2f3UoDSTv_O",
        "outputId": "e4e126df-e8bb-4e45-fe0d-70081074a222"
      },
      "outputs": [
        {
          "output_type": "execute_result",
          "data": {
            "text/plain": [
              "-1      4891634\n",
              "0        403151\n",
              "1        182752\n",
              "6        158135\n",
              "2        143043\n",
              "3        117230\n",
              "13        69600\n",
              "10         9827\n",
              "5          8630\n",
              "1001       4579\n",
              "4          3347\n",
              "20         2222\n",
              "9          1655\n",
              "1000       1454\n",
              "18         1073\n",
              "21          666\n",
              "8           489\n",
              "182         373\n",
              "16          107\n",
              "11           12\n",
              "22            5\n",
              "15            5\n",
              "17            4\n",
              "19            4\n",
              "51            1\n",
              "7             1\n",
              "1002          1\n",
              "Name: oper_attr, dtype: int64"
            ]
          },
          "metadata": {},
          "execution_count": 22
        }
      ],
      "source": [
        "df['oper_attr'].value_counts()"
      ]
    },
    {
      "cell_type": "code",
      "execution_count": null,
      "metadata": {
        "id": "BwtibL6oihXh"
      },
      "outputs": [],
      "source": [
        "#df['oper_attr'] = df['oper_attr'].astype(int)"
      ]
    },
    {
      "cell_type": "code",
      "execution_count": null,
      "metadata": {
        "colab": {
          "base_uri": "https://localhost:8080/"
        },
        "id": "Zy02Nf4ET2oQ",
        "outputId": "6bda9887-74ac-4744-d411-2c3756a31fe1"
      },
      "outputs": [
        {
          "output_type": "execute_result",
          "data": {
            "text/plain": [
              "-1      3260704\n",
              "0        268742\n",
              "1        121819\n",
              "6        105625\n",
              "2         95215\n",
              "3         78561\n",
              "13        46323\n",
              "10         6615\n",
              "5          5909\n",
              "1001       2983\n",
              "4          2181\n",
              "20         1415\n",
              "9          1077\n",
              "1000       1025\n",
              "18          742\n",
              "21          433\n",
              "8           324\n",
              "182         228\n",
              "16           58\n",
              "11           10\n",
              "22            7\n",
              "7             1\n",
              "15            1\n",
              "17            1\n",
              "19            1\n",
              "Name: oper_attr, dtype: int64"
            ]
          },
          "metadata": {},
          "execution_count": 27
        }
      ],
      "source": [
        "test['oper_attr'].value_counts()"
      ]
    },
    {
      "cell_type": "code",
      "execution_count": null,
      "metadata": {
        "id": "MoDfyiPjikKO"
      },
      "outputs": [],
      "source": [
        "#test['oper_attr'] = test['oper_attr'].astype(int)"
      ]
    },
    {
      "cell_type": "markdown",
      "metadata": {
        "id": "d-yXOOAqU_U8"
      },
      "source": [
        "### index_oper"
      ]
    },
    {
      "cell_type": "code",
      "execution_count": null,
      "metadata": {
        "colab": {
          "base_uri": "https://localhost:8080/"
        },
        "id": "0sUGZrBQVAFX",
        "outputId": "f29ce697-a231-4463-c6a1-65c59a0fcbd9"
      },
      "outputs": [
        {
          "output_type": "execute_result",
          "data": {
            "text/plain": [
              "102976      938416\n",
              "102976.0    661191\n",
              "102971      476859\n",
              "102971.0    341402\n",
              "620984       80811\n",
              "             ...  \n",
              "347566.0         1\n",
              "397724           1\n",
              "353710.0         1\n",
              "668412           1\n",
              "164553.0         1\n",
              "Name: index_oper, Length: 38661, dtype: int64"
            ]
          },
          "metadata": {},
          "execution_count": 23
        }
      ],
      "source": [
        "df['index_oper'].value_counts()"
      ]
    },
    {
      "cell_type": "markdown",
      "metadata": {
        "id": "aqlqT0BRWgt9"
      },
      "source": [
        "Видим, что часть индексов типа float, а часть - int. Посокльку, 102976 и 102976.0 - это скореее всего одно и то же, приведём данные к единому формату"
      ]
    },
    {
      "cell_type": "code",
      "execution_count": null,
      "metadata": {
        "id": "DQ9_ZfBpWwLO"
      },
      "outputs": [],
      "source": [
        "df = df[df['index_oper'] != ' ']"
      ]
    },
    {
      "cell_type": "code",
      "execution_count": null,
      "metadata": {
        "id": "v0WL-11eXAx0"
      },
      "outputs": [],
      "source": [
        "df.loc[df['index_oper'] == ' ', 'index_oper'] = 0"
      ]
    },
    {
      "cell_type": "code",
      "execution_count": null,
      "metadata": {
        "id": "qXEX0rnEXAx1"
      },
      "outputs": [],
      "source": [
        "df['index_oper'] = df['index_oper'].astype(float)"
      ]
    },
    {
      "cell_type": "code",
      "execution_count": null,
      "metadata": {
        "colab": {
          "base_uri": "https://localhost:8080/"
        },
        "id": "WAQzTBJeXAx2",
        "outputId": "2f38840e-47d1-4253-86c2-4e247968406e"
      },
      "outputs": [
        {
          "output_type": "execute_result",
          "data": {
            "text/plain": [
              "102976.0    1611563\n",
              "102971.0     831679\n",
              "620984.0     136389\n",
              "102998.0     107961\n",
              "102968.0      98751\n",
              "             ...   \n",
              "188361.0          1\n",
              "646728.0          1\n",
              "678431.0          1\n",
              "658598.0          1\n",
              "422418.0          1\n",
              "Name: index_oper, Length: 20686, dtype: int64"
            ]
          },
          "metadata": {},
          "execution_count": 15
        }
      ],
      "source": [
        "df['index_oper'].value_counts()"
      ]
    },
    {
      "cell_type": "code",
      "source": [
        "df['index_oper'] = df['index_oper'].apply(str)"
      ],
      "metadata": {
        "id": "eH9pksJdFhKh"
      },
      "execution_count": null,
      "outputs": []
    },
    {
      "cell_type": "code",
      "execution_count": null,
      "metadata": {
        "colab": {
          "base_uri": "https://localhost:8080/"
        },
        "id": "by3s9C5SWPSb",
        "outputId": "d56aa07f-8a5b-4eda-c8a4-dbdb0ea27609"
      },
      "outputs": [
        {
          "output_type": "execute_result",
          "data": {
            "text/plain": [
              "102976      634040\n",
              "102976.0    431810\n",
              "102971      322305\n",
              "102971.0    222944\n",
              "620984       54265\n",
              "             ...  \n",
              "307420.0         1\n",
              "655674.0         1\n",
              "249052.0         1\n",
              "360901.0         1\n",
              "442457.0         1\n",
              "Name: index_oper, Length: 35589, dtype: int64"
            ]
          },
          "metadata": {},
          "execution_count": 12
        }
      ],
      "source": [
        "test['index_oper'].value_counts()"
      ]
    },
    {
      "cell_type": "code",
      "execution_count": null,
      "metadata": {
        "colab": {
          "base_uri": "https://localhost:8080/",
          "height": 488
        },
        "id": "HczhxKwWXOYP",
        "outputId": "0905c0d4-9255-4b45-d070-b8024d3edfd5"
      },
      "outputs": [
        {
          "output_type": "execute_result",
          "data": {
            "text/plain": [
              "              id index_oper type  priority is_privatecategory  class  \\\n",
              "48145    7073709               0       0.0                  0    0.0   \n",
              "114096   5645863               0       0.0                  0    0.0   \n",
              "143897   5833567               0       0.0                  0    0.0   \n",
              "145214   5568692               0       0.0                  0    0.0   \n",
              "171812   8386210               0       0.0                  0    0.0   \n",
              "...          ...        ...  ...       ...                ...    ...   \n",
              "3736447  4629934               0       0.0                  0    0.0   \n",
              "3737809  9615988               0       0.0                  0    0.0   \n",
              "3806404  3703179               0       0.0                  0    0.0   \n",
              "3852315  3272062               0       0.0                  0    0.0   \n",
              "3914472  4451895               0       0.0                  0    0.0   \n",
              "\n",
              "        is_in_yandex is_return  weight  mailtype  ...  total_qty_oper_login_1  \\\n",
              "48145              0         N   480.0       5.0  ...               2344706.0   \n",
              "114096             0         N    66.0       5.0  ...               2344706.0   \n",
              "143897             0         N   188.0       5.0  ...               2344706.0   \n",
              "145214             0         N   110.0       5.0  ...               2344706.0   \n",
              "171812             0         N    49.0       5.0  ...                307109.0   \n",
              "...              ...       ...     ...       ...  ...                     ...   \n",
              "3736447            0         N   175.0       5.0  ...               2344706.0   \n",
              "3737809            0         N    62.0       5.0  ...               2344706.0   \n",
              "3806404            0         N   298.0       5.0  ...               2344706.0   \n",
              "3852315            0         N    89.0       5.0  ...                307109.0   \n",
              "3914472            0         N   577.0       5.0  ...               2344706.0   \n",
              "\n",
              "         total_qty_oper_login_0  total_qty_over_index_and_type  \\\n",
              "48145                       0.0                      2344706.0   \n",
              "114096                      0.0                      2344706.0   \n",
              "143897                      0.0                      2344706.0   \n",
              "145214                      0.0                      2344706.0   \n",
              "171812                      0.0                       307109.0   \n",
              "...                         ...                            ...   \n",
              "3736447                     0.0                      2344706.0   \n",
              "3737809                     0.0                      2344706.0   \n",
              "3806404                     0.0                      2344706.0   \n",
              "3852315                     0.0                       307109.0   \n",
              "3914472                     0.0                      2344706.0   \n",
              "\n",
              "         total_qty_over_index  is_wrong_sndr_name is_wrong_rcpn_name  \\\n",
              "48145               2382462.0                   0                  1   \n",
              "114096              2382462.0                   0                  0   \n",
              "143897              2382462.0                   0                  1   \n",
              "145214              2382462.0                   0                  0   \n",
              "171812               311515.0                   0                  0   \n",
              "...                       ...                 ...                ...   \n",
              "3736447             2382462.0                   0                  1   \n",
              "3737809             2382462.0                   0                  0   \n",
              "3806404             2382462.0                   0                  1   \n",
              "3852315              311515.0                   0                  0   \n",
              "3914472             2382462.0                   0                  1   \n",
              "\n",
              "         is_wrong_phone_number  is_wrong_address  oper_type  oper_attr  \n",
              "48145                        0                 0       1023         -1  \n",
              "114096                       0                 0       1023         -1  \n",
              "143897                       0                 0       1023         -1  \n",
              "145214                       0                 0       1023         -1  \n",
              "171812                       0                 0       1023         -1  \n",
              "...                        ...               ...        ...        ...  \n",
              "3736447                      0                 0       1023         -1  \n",
              "3737809                      0                 0       1023         -1  \n",
              "3806404                      0                 0       1023         -1  \n",
              "3852315                      0                 0       1023         -1  \n",
              "3914472                      0                 0       1023         -1  \n",
              "\n",
              "[101 rows x 29 columns]"
            ],
            "text/html": [
              "\n",
              "  <div id=\"df-057694a7-d016-4098-8698-125113e4c0c9\">\n",
              "    <div class=\"colab-df-container\">\n",
              "      <div>\n",
              "<style scoped>\n",
              "    .dataframe tbody tr th:only-of-type {\n",
              "        vertical-align: middle;\n",
              "    }\n",
              "\n",
              "    .dataframe tbody tr th {\n",
              "        vertical-align: top;\n",
              "    }\n",
              "\n",
              "    .dataframe thead th {\n",
              "        text-align: right;\n",
              "    }\n",
              "</style>\n",
              "<table border=\"1\" class=\"dataframe\">\n",
              "  <thead>\n",
              "    <tr style=\"text-align: right;\">\n",
              "      <th></th>\n",
              "      <th>id</th>\n",
              "      <th>index_oper</th>\n",
              "      <th>type</th>\n",
              "      <th>priority</th>\n",
              "      <th>is_privatecategory</th>\n",
              "      <th>class</th>\n",
              "      <th>is_in_yandex</th>\n",
              "      <th>is_return</th>\n",
              "      <th>weight</th>\n",
              "      <th>mailtype</th>\n",
              "      <th>...</th>\n",
              "      <th>total_qty_oper_login_1</th>\n",
              "      <th>total_qty_oper_login_0</th>\n",
              "      <th>total_qty_over_index_and_type</th>\n",
              "      <th>total_qty_over_index</th>\n",
              "      <th>is_wrong_sndr_name</th>\n",
              "      <th>is_wrong_rcpn_name</th>\n",
              "      <th>is_wrong_phone_number</th>\n",
              "      <th>is_wrong_address</th>\n",
              "      <th>oper_type</th>\n",
              "      <th>oper_attr</th>\n",
              "    </tr>\n",
              "  </thead>\n",
              "  <tbody>\n",
              "    <tr>\n",
              "      <th>48145</th>\n",
              "      <td>7073709</td>\n",
              "      <td></td>\n",
              "      <td>0</td>\n",
              "      <td>0.0</td>\n",
              "      <td>0</td>\n",
              "      <td>0.0</td>\n",
              "      <td>0</td>\n",
              "      <td>N</td>\n",
              "      <td>480.0</td>\n",
              "      <td>5.0</td>\n",
              "      <td>...</td>\n",
              "      <td>2344706.0</td>\n",
              "      <td>0.0</td>\n",
              "      <td>2344706.0</td>\n",
              "      <td>2382462.0</td>\n",
              "      <td>0</td>\n",
              "      <td>1</td>\n",
              "      <td>0</td>\n",
              "      <td>0</td>\n",
              "      <td>1023</td>\n",
              "      <td>-1</td>\n",
              "    </tr>\n",
              "    <tr>\n",
              "      <th>114096</th>\n",
              "      <td>5645863</td>\n",
              "      <td></td>\n",
              "      <td>0</td>\n",
              "      <td>0.0</td>\n",
              "      <td>0</td>\n",
              "      <td>0.0</td>\n",
              "      <td>0</td>\n",
              "      <td>N</td>\n",
              "      <td>66.0</td>\n",
              "      <td>5.0</td>\n",
              "      <td>...</td>\n",
              "      <td>2344706.0</td>\n",
              "      <td>0.0</td>\n",
              "      <td>2344706.0</td>\n",
              "      <td>2382462.0</td>\n",
              "      <td>0</td>\n",
              "      <td>0</td>\n",
              "      <td>0</td>\n",
              "      <td>0</td>\n",
              "      <td>1023</td>\n",
              "      <td>-1</td>\n",
              "    </tr>\n",
              "    <tr>\n",
              "      <th>143897</th>\n",
              "      <td>5833567</td>\n",
              "      <td></td>\n",
              "      <td>0</td>\n",
              "      <td>0.0</td>\n",
              "      <td>0</td>\n",
              "      <td>0.0</td>\n",
              "      <td>0</td>\n",
              "      <td>N</td>\n",
              "      <td>188.0</td>\n",
              "      <td>5.0</td>\n",
              "      <td>...</td>\n",
              "      <td>2344706.0</td>\n",
              "      <td>0.0</td>\n",
              "      <td>2344706.0</td>\n",
              "      <td>2382462.0</td>\n",
              "      <td>0</td>\n",
              "      <td>1</td>\n",
              "      <td>0</td>\n",
              "      <td>0</td>\n",
              "      <td>1023</td>\n",
              "      <td>-1</td>\n",
              "    </tr>\n",
              "    <tr>\n",
              "      <th>145214</th>\n",
              "      <td>5568692</td>\n",
              "      <td></td>\n",
              "      <td>0</td>\n",
              "      <td>0.0</td>\n",
              "      <td>0</td>\n",
              "      <td>0.0</td>\n",
              "      <td>0</td>\n",
              "      <td>N</td>\n",
              "      <td>110.0</td>\n",
              "      <td>5.0</td>\n",
              "      <td>...</td>\n",
              "      <td>2344706.0</td>\n",
              "      <td>0.0</td>\n",
              "      <td>2344706.0</td>\n",
              "      <td>2382462.0</td>\n",
              "      <td>0</td>\n",
              "      <td>0</td>\n",
              "      <td>0</td>\n",
              "      <td>0</td>\n",
              "      <td>1023</td>\n",
              "      <td>-1</td>\n",
              "    </tr>\n",
              "    <tr>\n",
              "      <th>171812</th>\n",
              "      <td>8386210</td>\n",
              "      <td></td>\n",
              "      <td>0</td>\n",
              "      <td>0.0</td>\n",
              "      <td>0</td>\n",
              "      <td>0.0</td>\n",
              "      <td>0</td>\n",
              "      <td>N</td>\n",
              "      <td>49.0</td>\n",
              "      <td>5.0</td>\n",
              "      <td>...</td>\n",
              "      <td>307109.0</td>\n",
              "      <td>0.0</td>\n",
              "      <td>307109.0</td>\n",
              "      <td>311515.0</td>\n",
              "      <td>0</td>\n",
              "      <td>0</td>\n",
              "      <td>0</td>\n",
              "      <td>0</td>\n",
              "      <td>1023</td>\n",
              "      <td>-1</td>\n",
              "    </tr>\n",
              "    <tr>\n",
              "      <th>...</th>\n",
              "      <td>...</td>\n",
              "      <td>...</td>\n",
              "      <td>...</td>\n",
              "      <td>...</td>\n",
              "      <td>...</td>\n",
              "      <td>...</td>\n",
              "      <td>...</td>\n",
              "      <td>...</td>\n",
              "      <td>...</td>\n",
              "      <td>...</td>\n",
              "      <td>...</td>\n",
              "      <td>...</td>\n",
              "      <td>...</td>\n",
              "      <td>...</td>\n",
              "      <td>...</td>\n",
              "      <td>...</td>\n",
              "      <td>...</td>\n",
              "      <td>...</td>\n",
              "      <td>...</td>\n",
              "      <td>...</td>\n",
              "      <td>...</td>\n",
              "    </tr>\n",
              "    <tr>\n",
              "      <th>3736447</th>\n",
              "      <td>4629934</td>\n",
              "      <td></td>\n",
              "      <td>0</td>\n",
              "      <td>0.0</td>\n",
              "      <td>0</td>\n",
              "      <td>0.0</td>\n",
              "      <td>0</td>\n",
              "      <td>N</td>\n",
              "      <td>175.0</td>\n",
              "      <td>5.0</td>\n",
              "      <td>...</td>\n",
              "      <td>2344706.0</td>\n",
              "      <td>0.0</td>\n",
              "      <td>2344706.0</td>\n",
              "      <td>2382462.0</td>\n",
              "      <td>0</td>\n",
              "      <td>1</td>\n",
              "      <td>0</td>\n",
              "      <td>0</td>\n",
              "      <td>1023</td>\n",
              "      <td>-1</td>\n",
              "    </tr>\n",
              "    <tr>\n",
              "      <th>3737809</th>\n",
              "      <td>9615988</td>\n",
              "      <td></td>\n",
              "      <td>0</td>\n",
              "      <td>0.0</td>\n",
              "      <td>0</td>\n",
              "      <td>0.0</td>\n",
              "      <td>0</td>\n",
              "      <td>N</td>\n",
              "      <td>62.0</td>\n",
              "      <td>5.0</td>\n",
              "      <td>...</td>\n",
              "      <td>2344706.0</td>\n",
              "      <td>0.0</td>\n",
              "      <td>2344706.0</td>\n",
              "      <td>2382462.0</td>\n",
              "      <td>0</td>\n",
              "      <td>0</td>\n",
              "      <td>0</td>\n",
              "      <td>0</td>\n",
              "      <td>1023</td>\n",
              "      <td>-1</td>\n",
              "    </tr>\n",
              "    <tr>\n",
              "      <th>3806404</th>\n",
              "      <td>3703179</td>\n",
              "      <td></td>\n",
              "      <td>0</td>\n",
              "      <td>0.0</td>\n",
              "      <td>0</td>\n",
              "      <td>0.0</td>\n",
              "      <td>0</td>\n",
              "      <td>N</td>\n",
              "      <td>298.0</td>\n",
              "      <td>5.0</td>\n",
              "      <td>...</td>\n",
              "      <td>2344706.0</td>\n",
              "      <td>0.0</td>\n",
              "      <td>2344706.0</td>\n",
              "      <td>2382462.0</td>\n",
              "      <td>0</td>\n",
              "      <td>1</td>\n",
              "      <td>0</td>\n",
              "      <td>0</td>\n",
              "      <td>1023</td>\n",
              "      <td>-1</td>\n",
              "    </tr>\n",
              "    <tr>\n",
              "      <th>3852315</th>\n",
              "      <td>3272062</td>\n",
              "      <td></td>\n",
              "      <td>0</td>\n",
              "      <td>0.0</td>\n",
              "      <td>0</td>\n",
              "      <td>0.0</td>\n",
              "      <td>0</td>\n",
              "      <td>N</td>\n",
              "      <td>89.0</td>\n",
              "      <td>5.0</td>\n",
              "      <td>...</td>\n",
              "      <td>307109.0</td>\n",
              "      <td>0.0</td>\n",
              "      <td>307109.0</td>\n",
              "      <td>311515.0</td>\n",
              "      <td>0</td>\n",
              "      <td>0</td>\n",
              "      <td>0</td>\n",
              "      <td>0</td>\n",
              "      <td>1023</td>\n",
              "      <td>-1</td>\n",
              "    </tr>\n",
              "    <tr>\n",
              "      <th>3914472</th>\n",
              "      <td>4451895</td>\n",
              "      <td></td>\n",
              "      <td>0</td>\n",
              "      <td>0.0</td>\n",
              "      <td>0</td>\n",
              "      <td>0.0</td>\n",
              "      <td>0</td>\n",
              "      <td>N</td>\n",
              "      <td>577.0</td>\n",
              "      <td>5.0</td>\n",
              "      <td>...</td>\n",
              "      <td>2344706.0</td>\n",
              "      <td>0.0</td>\n",
              "      <td>2344706.0</td>\n",
              "      <td>2382462.0</td>\n",
              "      <td>0</td>\n",
              "      <td>1</td>\n",
              "      <td>0</td>\n",
              "      <td>0</td>\n",
              "      <td>1023</td>\n",
              "      <td>-1</td>\n",
              "    </tr>\n",
              "  </tbody>\n",
              "</table>\n",
              "<p>101 rows × 29 columns</p>\n",
              "</div>\n",
              "      <button class=\"colab-df-convert\" onclick=\"convertToInteractive('df-057694a7-d016-4098-8698-125113e4c0c9')\"\n",
              "              title=\"Convert this dataframe to an interactive table.\"\n",
              "              style=\"display:none;\">\n",
              "        \n",
              "  <svg xmlns=\"http://www.w3.org/2000/svg\" height=\"24px\"viewBox=\"0 0 24 24\"\n",
              "       width=\"24px\">\n",
              "    <path d=\"M0 0h24v24H0V0z\" fill=\"none\"/>\n",
              "    <path d=\"M18.56 5.44l.94 2.06.94-2.06 2.06-.94-2.06-.94-.94-2.06-.94 2.06-2.06.94zm-11 1L8.5 8.5l.94-2.06 2.06-.94-2.06-.94L8.5 2.5l-.94 2.06-2.06.94zm10 10l.94 2.06.94-2.06 2.06-.94-2.06-.94-.94-2.06-.94 2.06-2.06.94z\"/><path d=\"M17.41 7.96l-1.37-1.37c-.4-.4-.92-.59-1.43-.59-.52 0-1.04.2-1.43.59L10.3 9.45l-7.72 7.72c-.78.78-.78 2.05 0 2.83L4 21.41c.39.39.9.59 1.41.59.51 0 1.02-.2 1.41-.59l7.78-7.78 2.81-2.81c.8-.78.8-2.07 0-2.86zM5.41 20L4 18.59l7.72-7.72 1.47 1.35L5.41 20z\"/>\n",
              "  </svg>\n",
              "      </button>\n",
              "      \n",
              "  <style>\n",
              "    .colab-df-container {\n",
              "      display:flex;\n",
              "      flex-wrap:wrap;\n",
              "      gap: 12px;\n",
              "    }\n",
              "\n",
              "    .colab-df-convert {\n",
              "      background-color: #E8F0FE;\n",
              "      border: none;\n",
              "      border-radius: 50%;\n",
              "      cursor: pointer;\n",
              "      display: none;\n",
              "      fill: #1967D2;\n",
              "      height: 32px;\n",
              "      padding: 0 0 0 0;\n",
              "      width: 32px;\n",
              "    }\n",
              "\n",
              "    .colab-df-convert:hover {\n",
              "      background-color: #E2EBFA;\n",
              "      box-shadow: 0px 1px 2px rgba(60, 64, 67, 0.3), 0px 1px 3px 1px rgba(60, 64, 67, 0.15);\n",
              "      fill: #174EA6;\n",
              "    }\n",
              "\n",
              "    [theme=dark] .colab-df-convert {\n",
              "      background-color: #3B4455;\n",
              "      fill: #D2E3FC;\n",
              "    }\n",
              "\n",
              "    [theme=dark] .colab-df-convert:hover {\n",
              "      background-color: #434B5C;\n",
              "      box-shadow: 0px 1px 3px 1px rgba(0, 0, 0, 0.15);\n",
              "      filter: drop-shadow(0px 1px 2px rgba(0, 0, 0, 0.3));\n",
              "      fill: #FFFFFF;\n",
              "    }\n",
              "  </style>\n",
              "\n",
              "      <script>\n",
              "        const buttonEl =\n",
              "          document.querySelector('#df-057694a7-d016-4098-8698-125113e4c0c9 button.colab-df-convert');\n",
              "        buttonEl.style.display =\n",
              "          google.colab.kernel.accessAllowed ? 'block' : 'none';\n",
              "\n",
              "        async function convertToInteractive(key) {\n",
              "          const element = document.querySelector('#df-057694a7-d016-4098-8698-125113e4c0c9');\n",
              "          const dataTable =\n",
              "            await google.colab.kernel.invokeFunction('convertToInteractive',\n",
              "                                                     [key], {});\n",
              "          if (!dataTable) return;\n",
              "\n",
              "          const docLinkHtml = 'Like what you see? Visit the ' +\n",
              "            '<a target=\"_blank\" href=https://colab.research.google.com/notebooks/data_table.ipynb>data table notebook</a>'\n",
              "            + ' to learn more about interactive tables.';\n",
              "          element.innerHTML = '';\n",
              "          dataTable['output_type'] = 'display_data';\n",
              "          await google.colab.output.renderOutput(dataTable, element);\n",
              "          const docLink = document.createElement('div');\n",
              "          docLink.innerHTML = docLinkHtml;\n",
              "          element.appendChild(docLink);\n",
              "        }\n",
              "      </script>\n",
              "    </div>\n",
              "  </div>\n",
              "  "
            ]
          },
          "metadata": {},
          "execution_count": 28
        }
      ],
      "source": [
        "test[test['index_oper'] == ' ']"
      ]
    },
    {
      "cell_type": "code",
      "execution_count": null,
      "metadata": {
        "id": "59W9FledXXsa"
      },
      "outputs": [],
      "source": [
        "test.loc[test['index_oper'] == ' ', 'index_oper'] = 0"
      ]
    },
    {
      "cell_type": "code",
      "execution_count": null,
      "metadata": {
        "id": "RiO_38X3XXsb"
      },
      "outputs": [],
      "source": [
        "test['index_oper'] = test['index_oper'].astype(float)"
      ]
    },
    {
      "cell_type": "code",
      "execution_count": null,
      "metadata": {
        "colab": {
          "base_uri": "https://localhost:8080/"
        },
        "id": "wy_n75NdXXsb",
        "outputId": "ca493ba6-c352-4215-9db5-59cf9c2bcaac"
      },
      "outputs": [
        {
          "output_type": "execute_result",
          "data": {
            "text/plain": [
              "102976.0    1073718\n",
              "102971.0     554139\n",
              "620984.0      91141\n",
              "102998.0      71389\n",
              "102968.0      65752\n",
              "             ...   \n",
              "352842.0          1\n",
              "619550.0          1\n",
              "155004.0          1\n",
              "442264.0          1\n",
              "442457.0          1\n",
              "Name: index_oper, Length: 19695, dtype: int64"
            ]
          },
          "metadata": {},
          "execution_count": 19
        }
      ],
      "source": [
        "test['index_oper'].value_counts()"
      ]
    },
    {
      "cell_type": "code",
      "source": [
        "test['index_oper'] = test['index_oper'].apply(str)"
      ],
      "metadata": {
        "id": "BpY-Or99FnBm"
      },
      "execution_count": null,
      "outputs": []
    },
    {
      "cell_type": "markdown",
      "metadata": {
        "id": "AAmWv6tZXlTK"
      },
      "source": [
        "### type"
      ]
    },
    {
      "cell_type": "code",
      "execution_count": null,
      "metadata": {
        "colab": {
          "base_uri": "https://localhost:8080/"
        },
        "id": "F3dR5_Q1XmIo",
        "outputId": "6ec7e5b1-3422-4d2f-920d-16d1631d0879"
      },
      "outputs": [
        {
          "output_type": "execute_result",
          "data": {
            "text/plain": [
              "Цех               2093668\n",
              "ММПО              1614974\n",
              "Участок            926631\n",
              "ГОПС               463750\n",
              "ТИ                 305490\n",
              "П                  245814\n",
              "МСЦ                223241\n",
              "СОПС                72161\n",
              "СЦ                  12469\n",
              "ОП                   9527\n",
              "МСО                  7465\n",
              "ОПП                  7190\n",
              "АОПП                 6682\n",
              "МРП                  3850\n",
              "0                    3444\n",
              "АО                   1304\n",
              "ПЕРЕДВИЖНОЕ ОС       1006\n",
              "ППС                   682\n",
              "УМСЦ                  569\n",
              "УКД                    83\n",
              "Name: type, dtype: int64"
            ]
          },
          "metadata": {},
          "execution_count": 32
        }
      ],
      "source": [
        "df['type'].value_counts()"
      ]
    },
    {
      "cell_type": "code",
      "execution_count": null,
      "metadata": {
        "colab": {
          "base_uri": "https://localhost:8080/"
        },
        "id": "ByTB5KULYV5o",
        "outputId": "7825b4ed-2eea-4b3d-c558-7bcf795daf8b"
      },
      "outputs": [
        {
          "output_type": "execute_result",
          "data": {
            "text/plain": [
              "Цех               1395154\n",
              "ММПО              1075996\n",
              "Участок            619027\n",
              "ГОПС               308878\n",
              "ТИ                 203015\n",
              "П                  164467\n",
              "МСЦ                149374\n",
              "СОПС                48117\n",
              "СЦ                   8310\n",
              "ОП                   6441\n",
              "МСО                  5117\n",
              "АОПП                 4532\n",
              "ОПП                  4463\n",
              "МРП                  2520\n",
              "0                    2249\n",
              "АО                    807\n",
              "ПЕРЕДВИЖНОЕ ОС        605\n",
              "УМСЦ                  433\n",
              "ППС                   430\n",
              "УКД                    65\n",
              "Name: type, dtype: int64"
            ]
          },
          "metadata": {},
          "execution_count": 33
        }
      ],
      "source": [
        "test['type'].value_counts()"
      ]
    },
    {
      "cell_type": "markdown",
      "metadata": {
        "id": "NAYWPS0fYqOr"
      },
      "source": [
        "### priority"
      ]
    },
    {
      "cell_type": "code",
      "source": [
        "df.info()"
      ],
      "metadata": {
        "colab": {
          "base_uri": "https://localhost:8080/"
        },
        "id": "_ldvSwZT0AQf",
        "outputId": "c082365d-aa42-4916-ef9c-6430991815ad"
      },
      "execution_count": null,
      "outputs": [
        {
          "output_type": "stream",
          "name": "stdout",
          "text": [
            "<class 'pandas.core.frame.DataFrame'>\n",
            "RangeIndex: 6000000 entries, 0 to 5999999\n",
            "Data columns (total 30 columns):\n",
            " #   Column                         Dtype  \n",
            "---  ------                         -----  \n",
            " 0   id                             int64  \n",
            " 1   index_oper                     float64\n",
            " 2   type                           object \n",
            " 3   priority                       float64\n",
            " 4   is_privatecategory             object \n",
            " 5   class                          float64\n",
            " 6   is_in_yandex                   object \n",
            " 7   is_return                      object \n",
            " 8   weight                         float64\n",
            " 9   mailtype                       float64\n",
            " 10  mailctg                        float64\n",
            " 11  mailrank                       float64\n",
            " 12  directctg                      float64\n",
            " 13  transport_pay                  float64\n",
            " 14  postmark                       float64\n",
            " 15  name_mfi                       object \n",
            " 16  weight_mfi                     float64\n",
            " 17  price_mfi                      float64\n",
            " 18  dist_qty_oper_login_1          float64\n",
            " 19  total_qty_oper_login_1         float64\n",
            " 20  total_qty_oper_login_0         float64\n",
            " 21  total_qty_over_index_and_type  float64\n",
            " 22  total_qty_over_index           float64\n",
            " 23  is_wrong_sndr_name             int64  \n",
            " 24  is_wrong_rcpn_name             int64  \n",
            " 25  is_wrong_phone_number          int64  \n",
            " 26  is_wrong_address               int64  \n",
            " 27  label                          int64  \n",
            " 28  oper_type                      object \n",
            " 29  oper_attr                      object \n",
            "dtypes: float64(17), int64(6), object(7)\n",
            "memory usage: 1.3+ GB\n"
          ]
        }
      ]
    },
    {
      "cell_type": "code",
      "execution_count": null,
      "metadata": {
        "colab": {
          "base_uri": "https://localhost:8080/"
        },
        "id": "VktCmgJ_YrLZ",
        "outputId": "02b36b2a-b46e-4ab2-bf04-08d5f87dd391"
      },
      "outputs": [
        {
          "data": {
            "text/plain": [
              "7503.0    3990518\n",
              "7506.0    1744627\n",
              "7504.0     261583\n",
              "0.0          3118\n",
              "Name: priority, dtype: int64"
            ]
          },
          "execution_count": 57,
          "metadata": {},
          "output_type": "execute_result"
        }
      ],
      "source": [
        "df['priority'].value_counts()"
      ]
    },
    {
      "cell_type": "code",
      "execution_count": null,
      "metadata": {
        "colab": {
          "base_uri": "https://localhost:8080/"
        },
        "id": "eTKVX3dTYyJA",
        "outputId": "44e38a3c-54df-4daf-cee4-559b4332d39b"
      },
      "outputs": [
        {
          "data": {
            "text/plain": [
              "7503.0    2660834\n",
              "7506.0    1162848\n",
              "7504.0     174225\n",
              "0.0          1992\n",
              "Name: priority, dtype: int64"
            ]
          },
          "execution_count": 58,
          "metadata": {},
          "output_type": "execute_result"
        }
      ],
      "source": [
        "test['priority'].value_counts()"
      ]
    },
    {
      "cell_type": "markdown",
      "metadata": {
        "id": "gdwBh7aVaBZF"
      },
      "source": [
        "### is_privatecategory"
      ]
    },
    {
      "cell_type": "code",
      "execution_count": null,
      "metadata": {
        "colab": {
          "base_uri": "https://localhost:8080/"
        },
        "id": "jW3lhh7kaCF0",
        "outputId": "71773933-1f66-4dda-992f-2f6eab9c8485"
      },
      "outputs": [
        {
          "output_type": "execute_result",
          "data": {
            "text/plain": [
              "N    5994524\n",
              "Y       2806\n",
              "0       2516\n",
              "Name: is_privatecategory, dtype: int64"
            ]
          },
          "metadata": {},
          "execution_count": 38
        }
      ],
      "source": [
        "df['is_privatecategory'].value_counts()"
      ]
    },
    {
      "cell_type": "code",
      "execution_count": null,
      "metadata": {
        "id": "bLttIT5Zafdn"
      },
      "outputs": [],
      "source": [
        "df.loc[(df['is_privatecategory'] == '0'), 'is_privatecategory'] = -1"
      ]
    },
    {
      "cell_type": "code",
      "execution_count": null,
      "metadata": {
        "id": "dTXnSDT3atjo"
      },
      "outputs": [],
      "source": [
        "df.loc[(df['is_privatecategory'] == 'Y'), 'is_privatecategory'] = 1"
      ]
    },
    {
      "cell_type": "code",
      "execution_count": null,
      "metadata": {
        "id": "vnhLjJRnavUD"
      },
      "outputs": [],
      "source": [
        "df.loc[(df['is_privatecategory'] == 'N'), 'is_privatecategory'] = 0"
      ]
    },
    {
      "cell_type": "code",
      "execution_count": null,
      "metadata": {
        "colab": {
          "base_uri": "https://localhost:8080/"
        },
        "id": "ifSQxsZgXOh_",
        "outputId": "006f1a09-983c-4839-c6e1-dfd1d76e63b9"
      },
      "outputs": [
        {
          "output_type": "execute_result",
          "data": {
            "text/plain": [
              " 0    5994524\n",
              " 1       2806\n",
              "-1       2670\n",
              "Name: is_privatecategory, dtype: int64"
            ]
          },
          "metadata": {},
          "execution_count": 11
        }
      ],
      "source": [
        "df['is_privatecategory'].value_counts()"
      ]
    },
    {
      "cell_type": "code",
      "execution_count": null,
      "metadata": {
        "id": "b1hBTyxVbABc"
      },
      "outputs": [],
      "source": [
        "df['is_privatecategory'] = df['is_privatecategory'].astype(int)"
      ]
    },
    {
      "cell_type": "code",
      "execution_count": null,
      "metadata": {
        "colab": {
          "base_uri": "https://localhost:8080/"
        },
        "id": "91oklLYbbAjf",
        "outputId": "a496ebaa-0064-4569-a99e-9657032f0bbd"
      },
      "outputs": [
        {
          "output_type": "execute_result",
          "data": {
            "text/plain": [
              "N    3996480\n",
              "Y       1820\n",
              "0       1700\n",
              "Name: is_privatecategory, dtype: int64"
            ]
          },
          "metadata": {},
          "execution_count": 44
        }
      ],
      "source": [
        "test['is_privatecategory'].value_counts()"
      ]
    },
    {
      "cell_type": "code",
      "execution_count": null,
      "metadata": {
        "id": "bV-rTIugbAjf"
      },
      "outputs": [],
      "source": [
        "test.loc[(test['is_privatecategory'] == '0'), 'is_privatecategory'] = -1"
      ]
    },
    {
      "cell_type": "code",
      "execution_count": null,
      "metadata": {
        "id": "IWJjGL6DbAjg"
      },
      "outputs": [],
      "source": [
        "test.loc[(test['is_privatecategory'] == 'Y'), 'is_privatecategory'] = 1"
      ]
    },
    {
      "cell_type": "code",
      "execution_count": null,
      "metadata": {
        "id": "shO90YnUbAjg"
      },
      "outputs": [],
      "source": [
        "test.loc[(test['is_privatecategory'] == 'N'), 'is_privatecategory'] = 0"
      ]
    },
    {
      "cell_type": "code",
      "execution_count": null,
      "metadata": {
        "colab": {
          "base_uri": "https://localhost:8080/"
        },
        "id": "Lktjerg4bAjg",
        "outputId": "2ddbd110-4282-4a55-d0fd-076471055518"
      },
      "outputs": [
        {
          "output_type": "execute_result",
          "data": {
            "text/plain": [
              " 0    3996480\n",
              " 1       1820\n",
              "-1       1700\n",
              "Name: is_privatecategory, dtype: int64"
            ]
          },
          "metadata": {},
          "execution_count": 19
        }
      ],
      "source": [
        "test['is_privatecategory'].value_counts()"
      ]
    },
    {
      "cell_type": "code",
      "execution_count": null,
      "metadata": {
        "id": "GQV7bsB2bZwY"
      },
      "outputs": [],
      "source": [
        "test['is_privatecategory'] = test['is_privatecategory'].astype(int)"
      ]
    },
    {
      "cell_type": "markdown",
      "metadata": {
        "id": "EsTtpHJ2bpp6"
      },
      "source": [
        "### class"
      ]
    },
    {
      "cell_type": "code",
      "source": [
        "df.info()"
      ],
      "metadata": {
        "colab": {
          "base_uri": "https://localhost:8080/"
        },
        "id": "d424BGjQ01T_",
        "outputId": "ee140586-6722-4336-b23a-8413585697bf"
      },
      "execution_count": null,
      "outputs": [
        {
          "output_type": "stream",
          "name": "stdout",
          "text": [
            "<class 'pandas.core.frame.DataFrame'>\n",
            "RangeIndex: 6000000 entries, 0 to 5999999\n",
            "Data columns (total 30 columns):\n",
            " #   Column                         Dtype  \n",
            "---  ------                         -----  \n",
            " 0   id                             int64  \n",
            " 1   index_oper                     float64\n",
            " 2   type                           object \n",
            " 3   priority                       float64\n",
            " 4   is_privatecategory             object \n",
            " 5   class                          object \n",
            " 6   is_in_yandex                   object \n",
            " 7   is_return                      object \n",
            " 8   weight                         float64\n",
            " 9   mailtype                       float64\n",
            " 10  mailctg                        float64\n",
            " 11  mailrank                       float64\n",
            " 12  directctg                      float64\n",
            " 13  transport_pay                  float64\n",
            " 14  postmark                       float64\n",
            " 15  name_mfi                       object \n",
            " 16  weight_mfi                     float64\n",
            " 17  price_mfi                      float64\n",
            " 18  dist_qty_oper_login_1          float64\n",
            " 19  total_qty_oper_login_1         float64\n",
            " 20  total_qty_oper_login_0         float64\n",
            " 21  total_qty_over_index_and_type  float64\n",
            " 22  total_qty_over_index           float64\n",
            " 23  is_wrong_sndr_name             int64  \n",
            " 24  is_wrong_rcpn_name             int64  \n",
            " 25  is_wrong_phone_number          int64  \n",
            " 26  is_wrong_address               int64  \n",
            " 27  label                          int64  \n",
            " 28  oper_type                      object \n",
            " 29  oper_attr                      object \n",
            "dtypes: float64(16), int64(6), object(8)\n",
            "memory usage: 1.3+ GB\n"
          ]
        }
      ]
    },
    {
      "cell_type": "code",
      "execution_count": null,
      "metadata": {
        "colab": {
          "base_uri": "https://localhost:8080/"
        },
        "id": "ilBUAqz9bqdW",
        "outputId": "ea4ab9b4-8549-4a1d-e386-71a9cb3ef0d4"
      },
      "outputs": [
        {
          "data": {
            "text/plain": [
              "0.0    5214691\n",
              "3.0     371753\n",
              "2.0     150393\n",
              "4.0     131468\n",
              "1.0     114117\n",
              "5.0      17424\n",
              "Name: class, dtype: int64"
            ]
          },
          "execution_count": 77,
          "metadata": {},
          "output_type": "execute_result"
        }
      ],
      "source": [
        "df['class'].value_counts()"
      ]
    },
    {
      "cell_type": "code",
      "source": [
        "df['class'] = df['class'].apply(str)"
      ],
      "metadata": {
        "id": "BR7gfMo_1MiG"
      },
      "execution_count": null,
      "outputs": []
    },
    {
      "cell_type": "code",
      "execution_count": null,
      "metadata": {
        "colab": {
          "base_uri": "https://localhost:8080/"
        },
        "id": "3gBIHLOmbZyn",
        "outputId": "9b54a832-da4a-4a8b-d8b7-a1c2f052f111"
      },
      "outputs": [
        {
          "data": {
            "text/plain": [
              "0.0    3476228\n",
              "3.0     248562\n",
              "2.0     100242\n",
              "4.0      87307\n",
              "1.0      76204\n",
              "5.0      11356\n",
              "Name: class, dtype: int64"
            ]
          },
          "execution_count": 78,
          "metadata": {},
          "output_type": "execute_result"
        }
      ],
      "source": [
        "test['class'].value_counts()"
      ]
    },
    {
      "cell_type": "code",
      "source": [
        "test['class'] = test['class'].apply(str)"
      ],
      "metadata": {
        "id": "6TmcLth91aaw"
      },
      "execution_count": null,
      "outputs": []
    },
    {
      "cell_type": "markdown",
      "metadata": {
        "id": "ZxX7dPO7cU2M"
      },
      "source": [
        "### is_in_yandex"
      ]
    },
    {
      "cell_type": "code",
      "execution_count": null,
      "metadata": {
        "colab": {
          "base_uri": "https://localhost:8080/"
        },
        "id": "lmg7yvEZcXno",
        "outputId": "f9d25ad2-b9ec-4bba-cc14-44c134d77bf0"
      },
      "outputs": [
        {
          "output_type": "execute_result",
          "data": {
            "text/plain": [
              "N    3585956\n",
              "Y    2411374\n",
              "0       2670\n",
              "Name: is_in_yandex, dtype: int64"
            ]
          },
          "metadata": {},
          "execution_count": 20
        }
      ],
      "source": [
        "df['is_in_yandex'].value_counts()"
      ]
    },
    {
      "cell_type": "code",
      "execution_count": null,
      "metadata": {
        "id": "cuWLmO71cjEu"
      },
      "outputs": [],
      "source": [
        "df.loc[(df['is_in_yandex'] == '0'), 'is_in_yandex'] = -1"
      ]
    },
    {
      "cell_type": "code",
      "execution_count": null,
      "metadata": {
        "id": "ZLn2Ej1BcjEv"
      },
      "outputs": [],
      "source": [
        "df.loc[(df['is_in_yandex'] == 'Y'), 'is_in_yandex'] = 1"
      ]
    },
    {
      "cell_type": "code",
      "execution_count": null,
      "metadata": {
        "id": "3xxop0aIcjEv"
      },
      "outputs": [],
      "source": [
        "df.loc[(df['is_in_yandex'] == 'N'), 'is_in_yandex'] = 0"
      ]
    },
    {
      "cell_type": "code",
      "execution_count": null,
      "metadata": {
        "colab": {
          "base_uri": "https://localhost:8080/"
        },
        "id": "-YTcmvjNcjEw",
        "outputId": "d8dec65c-7bc1-4b2b-81fe-d59d8dd50f5f"
      },
      "outputs": [
        {
          "output_type": "execute_result",
          "data": {
            "text/plain": [
              " 0    3585956\n",
              " 1    2411374\n",
              "-1       2670\n",
              "Name: is_in_yandex, dtype: int64"
            ]
          },
          "metadata": {},
          "execution_count": 24
        }
      ],
      "source": [
        "df['is_in_yandex'].value_counts()"
      ]
    },
    {
      "cell_type": "code",
      "execution_count": null,
      "metadata": {
        "id": "6boIJn2GcjEw"
      },
      "outputs": [],
      "source": [
        "df['is_in_yandex'] = df['is_in_yandex'].astype(int)"
      ]
    },
    {
      "cell_type": "code",
      "execution_count": null,
      "metadata": {
        "colab": {
          "base_uri": "https://localhost:8080/"
        },
        "id": "LyHvMa8NcjEw",
        "outputId": "20d163c0-b695-4503-9372-e28e75c41a43"
      },
      "outputs": [
        {
          "output_type": "execute_result",
          "data": {
            "text/plain": [
              "N    2389898\n",
              "Y    1608402\n",
              "0       1700\n",
              "Name: is_in_yandex, dtype: int64"
            ]
          },
          "metadata": {},
          "execution_count": 26
        }
      ],
      "source": [
        "test['is_in_yandex'].value_counts()"
      ]
    },
    {
      "cell_type": "code",
      "execution_count": null,
      "metadata": {
        "id": "MjZG2NlScjEw"
      },
      "outputs": [],
      "source": [
        "test.loc[(test['is_in_yandex'] == '0'), 'is_in_yandex'] = -1"
      ]
    },
    {
      "cell_type": "code",
      "execution_count": null,
      "metadata": {
        "id": "kxIguqgWcjEx"
      },
      "outputs": [],
      "source": [
        "test.loc[(test['is_in_yandex'] == 'Y'), 'is_in_yandex'] = 1"
      ]
    },
    {
      "cell_type": "code",
      "execution_count": null,
      "metadata": {
        "id": "n3yYMVCScjEx"
      },
      "outputs": [],
      "source": [
        "test.loc[(test['is_in_yandex'] == 'N'), 'is_in_yandex'] = 0"
      ]
    },
    {
      "cell_type": "code",
      "execution_count": null,
      "metadata": {
        "colab": {
          "base_uri": "https://localhost:8080/"
        },
        "id": "IMaSL5-VcjEx",
        "outputId": "d4eca78f-ec41-4c84-ac2f-7e9033be16f0"
      },
      "outputs": [
        {
          "output_type": "execute_result",
          "data": {
            "text/plain": [
              " 0    2389898\n",
              " 1    1608402\n",
              "-1       1700\n",
              "Name: is_in_yandex, dtype: int64"
            ]
          },
          "metadata": {},
          "execution_count": 30
        }
      ],
      "source": [
        "test['is_in_yandex'].value_counts()"
      ]
    },
    {
      "cell_type": "code",
      "execution_count": null,
      "metadata": {
        "id": "fv0DeyUqcjEy"
      },
      "outputs": [],
      "source": [
        "test['is_in_yandex'] = test['is_in_yandex'].astype(int)"
      ]
    },
    {
      "cell_type": "markdown",
      "metadata": {
        "id": "Kb5ayXKOdKdS"
      },
      "source": [
        "### is_return"
      ]
    },
    {
      "cell_type": "code",
      "execution_count": null,
      "metadata": {
        "colab": {
          "base_uri": "https://localhost:8080/"
        },
        "id": "AJaSyFnCdLiy",
        "outputId": "111b7afd-ef3b-4822-8147-022eecb243d0"
      },
      "outputs": [
        {
          "output_type": "execute_result",
          "data": {
            "text/plain": [
              "N    5993017\n",
              "Y       6983\n",
              "Name: is_return, dtype: int64"
            ]
          },
          "metadata": {},
          "execution_count": 32
        }
      ],
      "source": [
        "df['is_return'].value_counts()"
      ]
    },
    {
      "cell_type": "code",
      "execution_count": null,
      "metadata": {
        "id": "3Qbj0osqdc-7"
      },
      "outputs": [],
      "source": [
        "df.loc[(df['is_return'] == 'Y'), 'is_return'] = 1"
      ]
    },
    {
      "cell_type": "code",
      "execution_count": null,
      "metadata": {
        "id": "6ytpxUSudc-8"
      },
      "outputs": [],
      "source": [
        "df.loc[(df['is_return'] == 'N'), 'is_return'] = 0"
      ]
    },
    {
      "cell_type": "code",
      "execution_count": null,
      "metadata": {
        "colab": {
          "base_uri": "https://localhost:8080/"
        },
        "id": "3zBazGAPdc-8",
        "outputId": "fb6f16fc-c69d-42b4-ea48-684fed76ffb1"
      },
      "outputs": [
        {
          "output_type": "execute_result",
          "data": {
            "text/plain": [
              "0    5993017\n",
              "1       6983\n",
              "Name: is_return, dtype: int64"
            ]
          },
          "metadata": {},
          "execution_count": 35
        }
      ],
      "source": [
        "df['is_return'].value_counts()"
      ]
    },
    {
      "cell_type": "code",
      "execution_count": null,
      "metadata": {
        "id": "5eg5kxxsdc-8"
      },
      "outputs": [],
      "source": [
        "df['is_return'] = df['is_return'].astype(int)"
      ]
    },
    {
      "cell_type": "code",
      "execution_count": null,
      "metadata": {
        "colab": {
          "base_uri": "https://localhost:8080/"
        },
        "id": "kTXNbOs5dc-9",
        "outputId": "205b139a-0456-4630-e0c8-c990e539fb89"
      },
      "outputs": [
        {
          "output_type": "execute_result",
          "data": {
            "text/plain": [
              "N    3995443\n",
              "Y       4557\n",
              "Name: is_return, dtype: int64"
            ]
          },
          "metadata": {},
          "execution_count": 37
        }
      ],
      "source": [
        "test['is_return'].value_counts()"
      ]
    },
    {
      "cell_type": "code",
      "execution_count": null,
      "metadata": {
        "id": "60A7u5yJdc-9"
      },
      "outputs": [],
      "source": [
        "test.loc[(test['is_return'] == 'Y'), 'is_return'] = 1"
      ]
    },
    {
      "cell_type": "code",
      "execution_count": null,
      "metadata": {
        "id": "YAjapoSJdc-9"
      },
      "outputs": [],
      "source": [
        "test.loc[(test['is_return'] == 'N'), 'is_return'] = 0"
      ]
    },
    {
      "cell_type": "code",
      "execution_count": null,
      "metadata": {
        "colab": {
          "base_uri": "https://localhost:8080/"
        },
        "id": "0pH6Fy0odc--",
        "outputId": "7c9098b4-3351-4281-863d-8024806375a6"
      },
      "outputs": [
        {
          "output_type": "execute_result",
          "data": {
            "text/plain": [
              "0    3995443\n",
              "1       4557\n",
              "Name: is_return, dtype: int64"
            ]
          },
          "metadata": {},
          "execution_count": 40
        }
      ],
      "source": [
        "test['is_return'].value_counts()"
      ]
    },
    {
      "cell_type": "code",
      "execution_count": null,
      "metadata": {
        "id": "LgEaTjoAdc--"
      },
      "outputs": [],
      "source": [
        "test['is_return'] = test['is_return'].astype(int)"
      ]
    },
    {
      "cell_type": "markdown",
      "metadata": {
        "id": "XECxphIHhHAB"
      },
      "source": [
        "### weight"
      ]
    },
    {
      "cell_type": "code",
      "execution_count": null,
      "metadata": {
        "colab": {
          "base_uri": "https://localhost:8080/"
        },
        "id": "5NFO_r_zhNZh",
        "outputId": "e39b497a-577c-4b47-be77-5ed7e9ae8364"
      },
      "outputs": [
        {
          "output_type": "execute_result",
          "data": {
            "text/plain": [
              "count    6.000000e+06\n",
              "mean     2.399936e+02\n",
              "std      4.504002e+02\n",
              "min      0.000000e+00\n",
              "25%      5.200000e+01\n",
              "50%      1.050000e+02\n",
              "75%      2.640000e+02\n",
              "max      1.580000e+05\n",
              "Name: weight, dtype: float64"
            ]
          },
          "metadata": {},
          "execution_count": 72
        }
      ],
      "source": [
        "df['weight'].describe()"
      ]
    },
    {
      "cell_type": "code",
      "execution_count": null,
      "metadata": {
        "colab": {
          "base_uri": "https://localhost:8080/",
          "height": 296
        },
        "id": "Y5OYBWM8hpUO",
        "outputId": "cec300fd-85cc-4de8-9dbb-ad1c1440e148"
      },
      "outputs": [
        {
          "output_type": "execute_result",
          "data": {
            "text/plain": [
              "<matplotlib.axes._subplots.AxesSubplot at 0x7f26b3487190>"
            ]
          },
          "metadata": {},
          "execution_count": 73
        },
        {
          "output_type": "display_data",
          "data": {
            "text/plain": [
              "<Figure size 432x288 with 1 Axes>"
            ],
            "image/png": "[encoded data removed]"
          },
          "metadata": {
            "needs_background": "light"
          }
        }
      ],
      "source": [
        "sns.boxplot(x=df[\"weight\"])"
      ]
    },
    {
      "cell_type": "code",
      "execution_count": null,
      "metadata": {
        "colab": {
          "base_uri": "https://localhost:8080/"
        },
        "id": "JIKBgFVwc428",
        "outputId": "da49e568-cd1a-4b2f-8ef6-156386cd1bc0"
      },
      "outputs": [
        {
          "output_type": "execute_result",
          "data": {
            "text/plain": [
              "count    4.000000e+06\n",
              "mean     2.399753e+02\n",
              "std      3.967060e+02\n",
              "min      0.000000e+00\n",
              "25%      5.200000e+01\n",
              "50%      1.050000e+02\n",
              "75%      2.650000e+02\n",
              "max      1.580000e+05\n",
              "Name: weight, dtype: float64"
            ]
          },
          "metadata": {},
          "execution_count": 74
        }
      ],
      "source": [
        "test['weight'].describe()"
      ]
    },
    {
      "cell_type": "code",
      "execution_count": null,
      "metadata": {
        "colab": {
          "base_uri": "https://localhost:8080/",
          "height": 296
        },
        "id": "pnfnYlgnhuIn",
        "outputId": "db592bc6-52dd-4794-ad51-d81fb26da08a"
      },
      "outputs": [
        {
          "output_type": "execute_result",
          "data": {
            "text/plain": [
              "<matplotlib.axes._subplots.AxesSubplot at 0x7f26dafdd650>"
            ]
          },
          "metadata": {},
          "execution_count": 75
        },
        {
          "output_type": "display_data",
          "data": {
            "text/plain": [
              "<Figure size 432x288 with 1 Axes>"
            ],
            "image/png": "[encoded data removed]"
          },
          "metadata": {
            "needs_background": "light"
          }
        }
      ],
      "source": [
        "sns.boxplot(x=test[\"weight\"])"
      ]
    },
    {
      "cell_type": "markdown",
      "metadata": {
        "id": "clUbUq-Kh8yU"
      },
      "source": [
        "### mailtype"
      ]
    },
    {
      "cell_type": "code",
      "source": [
        "df.info()"
      ],
      "metadata": {
        "colab": {
          "base_uri": "https://localhost:8080/"
        },
        "id": "ffVCawT-1yoZ",
        "outputId": "6e424f03-90f6-443f-c7c0-df42f22ec80d"
      },
      "execution_count": null,
      "outputs": [
        {
          "output_type": "stream",
          "name": "stdout",
          "text": [
            "<class 'pandas.core.frame.DataFrame'>\n",
            "RangeIndex: 6000000 entries, 0 to 5999999\n",
            "Data columns (total 32 columns):\n",
            " #   Column                         Dtype  \n",
            "---  ------                         -----  \n",
            " 0   id                             int64  \n",
            " 1   index_oper                     float64\n",
            " 2   type                           object \n",
            " 3   priority                       float64\n",
            " 4   is_privatecategory             object \n",
            " 5   class                          float64\n",
            " 6   is_in_yandex                   object \n",
            " 7   is_return                      object \n",
            " 8   weight                         float64\n",
            " 9   mailtype                       object \n",
            " 10  mailctg                        float64\n",
            " 11  directctg                      float64\n",
            " 12  transport_pay                  float64\n",
            " 13  postmark                       float64\n",
            " 14  name_mfi                       object \n",
            " 15  weight_mfi                     float64\n",
            " 16  price_mfi                      float64\n",
            " 17  dist_qty_oper_login_1          float64\n",
            " 18  total_qty_oper_login_1         float64\n",
            " 19  total_qty_oper_login_0         float64\n",
            " 20  total_qty_over_index_and_type  float64\n",
            " 21  total_qty_over_index           float64\n",
            " 22  is_wrong_sndr_name             int64  \n",
            " 23  is_wrong_rcpn_name             int64  \n",
            " 24  is_wrong_phone_number          int64  \n",
            " 25  is_wrong_address               int64  \n",
            " 26  label                          int64  \n",
            " 27  oper_type                      int64  \n",
            " 28  oper_attr                      int64  \n",
            " 29  name_mfi_len                   int64  \n",
            " 30  first_pred_1                   float64\n",
            " 31  first_pred_2                   float64\n",
            "dtypes: float64(17), int64(9), object(6)\n",
            "memory usage: 1.4+ GB\n"
          ]
        }
      ]
    },
    {
      "cell_type": "code",
      "execution_count": null,
      "metadata": {
        "colab": {
          "base_uri": "https://localhost:8080/"
        },
        "id": "3bK5auCih9lU",
        "outputId": "19a32257-af86-450f-f73b-d0aaa18d4e2d"
      },
      "outputs": [
        {
          "output_type": "execute_result",
          "data": {
            "text/plain": [
              "5.0    5992702\n",
              "0.0       5239\n",
              "2.0       1470\n",
              "7.0        462\n",
              "4.0         84\n",
              "1.0         20\n",
              "8.0         19\n",
              "6.0          2\n",
              "9.0          2\n",
              "Name: mailtype, dtype: int64"
            ]
          },
          "metadata": {},
          "execution_count": 25
        }
      ],
      "source": [
        "df['mailtype'].value_counts()"
      ]
    },
    {
      "cell_type": "code",
      "source": [
        "df['mailtype'] = df['mailtype'].apply(str)"
      ],
      "metadata": {
        "id": "--pjzAYv17ZD"
      },
      "execution_count": null,
      "outputs": []
    },
    {
      "cell_type": "code",
      "execution_count": null,
      "metadata": {
        "colab": {
          "base_uri": "https://localhost:8080/"
        },
        "id": "Q9YtzlxdhTPq",
        "outputId": "9f9d3bc8-71fe-409c-a085-e919e5dcd9c8"
      },
      "outputs": [
        {
          "data": {
            "text/plain": [
              "5.0    3995066\n",
              "0.0       3453\n",
              "2.0        969\n",
              "7.0        336\n",
              "4.0         47\n",
              "1.0         14\n",
              "8.0         14\n",
              "Name: mailtype, dtype: int64"
            ]
          },
          "execution_count": 110,
          "metadata": {},
          "output_type": "execute_result"
        }
      ],
      "source": [
        "test['mailtype'].value_counts()"
      ]
    },
    {
      "cell_type": "code",
      "source": [
        "test['mailtype'] = test['mailtype'].apply(str)"
      ],
      "metadata": {
        "id": "Ll8TpVYO2Ajp"
      },
      "execution_count": null,
      "outputs": []
    },
    {
      "cell_type": "markdown",
      "metadata": {
        "id": "UXXPe66DitXE"
      },
      "source": [
        "### mailctg"
      ]
    },
    {
      "cell_type": "code",
      "execution_count": null,
      "metadata": {
        "colab": {
          "base_uri": "https://localhost:8080/"
        },
        "id": "JGA9BLLhjIYA",
        "outputId": "06e3f157-25cf-42b3-b577-c3f3733dab12"
      },
      "outputs": [
        {
          "data": {
            "text/plain": [
              " 1.0    4688163\n",
              " 0.0    1257102\n",
              "-1.0      54015\n",
              " 3.0        546\n",
              " 5.0         20\n",
              "Name: mailctg, dtype: int64"
            ]
          },
          "execution_count": 116,
          "metadata": {},
          "output_type": "execute_result"
        }
      ],
      "source": [
        "df['mailctg'].value_counts()"
      ]
    },
    {
      "cell_type": "code",
      "source": [
        "df['mailctg'] = df['mailctg'].apply(str)"
      ],
      "metadata": {
        "id": "GBzoRi0b2F75"
      },
      "execution_count": null,
      "outputs": []
    },
    {
      "cell_type": "code",
      "execution_count": null,
      "metadata": {
        "colab": {
          "base_uri": "https://localhost:8080/"
        },
        "id": "qrJMepiAhTR2",
        "outputId": "411b2c0b-b261-47be-c998-9c371bd99b20"
      },
      "outputs": [
        {
          "data": {
            "text/plain": [
              " 1.0    3127057\n",
              " 0.0     836708\n",
              "-1.0      35737\n",
              " 3.0        383\n",
              " 5.0         14\n",
              "Name: mailctg, dtype: int64"
            ]
          },
          "execution_count": 117,
          "metadata": {},
          "output_type": "execute_result"
        }
      ],
      "source": [
        "test['mailctg'].value_counts()"
      ]
    },
    {
      "cell_type": "code",
      "source": [
        "test['mailctg'] = test['mailctg'].apply(str)"
      ],
      "metadata": {
        "id": "OOAuV7Ow2J-l"
      },
      "execution_count": null,
      "outputs": []
    },
    {
      "cell_type": "markdown",
      "metadata": {
        "id": "MWe37ZCijbAP"
      },
      "source": [
        "### mailrank"
      ]
    },
    {
      "cell_type": "code",
      "execution_count": null,
      "metadata": {
        "colab": {
          "base_uri": "https://localhost:8080/"
        },
        "id": "-4gsQBv8jcDt",
        "outputId": "8dbe4322-65a7-4569-8f42-ebc506992a90"
      },
      "outputs": [
        {
          "output_type": "execute_result",
          "data": {
            "text/plain": [
              "0.0    6000000\n",
              "Name: mailrank, dtype: int64"
            ]
          },
          "metadata": {},
          "execution_count": 76
        }
      ],
      "source": [
        "df['mailrank'].value_counts()"
      ]
    },
    {
      "cell_type": "code",
      "execution_count": null,
      "metadata": {
        "colab": {
          "base_uri": "https://localhost:8080/"
        },
        "id": "0pE5k0AwjcHM",
        "outputId": "e67fcebf-7b88-4c6d-f0d3-f08deb78dcf4"
      },
      "outputs": [
        {
          "output_type": "execute_result",
          "data": {
            "text/plain": [
              "0.0    4000000\n",
              "Name: mailrank, dtype: int64"
            ]
          },
          "metadata": {},
          "execution_count": 77
        }
      ],
      "source": [
        "test['mailrank'].value_counts()"
      ]
    },
    {
      "cell_type": "code",
      "execution_count": null,
      "metadata": {
        "id": "cgRx0xS5jlBY"
      },
      "outputs": [],
      "source": [
        "df = df.drop('mailrank', axis=1)"
      ]
    },
    {
      "cell_type": "code",
      "execution_count": null,
      "metadata": {
        "id": "JttKm_JVhTVU"
      },
      "outputs": [],
      "source": [
        "test = test.drop('mailrank', axis=1)"
      ]
    },
    {
      "cell_type": "markdown",
      "metadata": {
        "id": "9_18SwIqj2nS"
      },
      "source": [
        "### directctg"
      ]
    },
    {
      "cell_type": "code",
      "execution_count": null,
      "metadata": {
        "colab": {
          "base_uri": "https://localhost:8080/"
        },
        "id": "aJNVer9mj3dn",
        "outputId": "b4e4c6f8-c0fb-4ad2-a7df-c8d4c09d0744"
      },
      "outputs": [
        {
          "data": {
            "text/plain": [
              "2.0    5930331\n",
              "1.0      69360\n",
              "0.0        155\n",
              "Name: directctg, dtype: int64"
            ]
          },
          "execution_count": 123,
          "metadata": {},
          "output_type": "execute_result"
        }
      ],
      "source": [
        "df['directctg'].value_counts()"
      ]
    },
    {
      "cell_type": "code",
      "source": [
        "df['directctg'] = df['directctg'].apply(str)"
      ],
      "metadata": {
        "id": "4E6Pn2qe2QMs"
      },
      "execution_count": null,
      "outputs": []
    },
    {
      "cell_type": "code",
      "execution_count": null,
      "metadata": {
        "colab": {
          "base_uri": "https://localhost:8080/"
        },
        "id": "g7KkfuT1jr_P",
        "outputId": "796e1b48-1040-4d95-a109-6bec5f2dbc9f"
      },
      "outputs": [
        {
          "data": {
            "text/plain": [
              "2.0    3953624\n",
              "1.0      46169\n",
              "0.0        106\n",
              "Name: directctg, dtype: int64"
            ]
          },
          "execution_count": 124,
          "metadata": {},
          "output_type": "execute_result"
        }
      ],
      "source": [
        "test['directctg'].value_counts()"
      ]
    },
    {
      "cell_type": "code",
      "source": [
        "test['directctg'] = test['directctg'].apply(str)"
      ],
      "metadata": {
        "id": "vGbL_LlJ2T4S"
      },
      "execution_count": null,
      "outputs": []
    },
    {
      "cell_type": "markdown",
      "metadata": {
        "id": "ls7jVoVKkCb6"
      },
      "source": [
        "### transport_pay"
      ]
    },
    {
      "cell_type": "code",
      "execution_count": null,
      "metadata": {
        "colab": {
          "base_uri": "https://localhost:8080/"
        },
        "id": "pN-TfWfgkDEe",
        "outputId": "91505ab6-20cc-4c25-cb84-bc904a2ef8fa"
      },
      "outputs": [
        {
          "data": {
            "text/plain": [
              "count    5.999846e+06\n",
              "mean     1.187680e+01\n",
              "std      2.224817e+01\n",
              "min      0.000000e+00\n",
              "25%      0.000000e+00\n",
              "50%      0.000000e+00\n",
              "75%      2.295000e+01\n",
              "max      8.305000e+02\n",
              "Name: transport_pay, dtype: float64"
            ]
          },
          "execution_count": 126,
          "metadata": {},
          "output_type": "execute_result"
        }
      ],
      "source": [
        "df['transport_pay'].describe()"
      ]
    },
    {
      "cell_type": "code",
      "execution_count": null,
      "metadata": {
        "colab": {
          "base_uri": "https://localhost:8080/",
          "height": 297
        },
        "id": "sxeD0BmpkW8Q",
        "outputId": "82434bab-012a-4192-b05b-53057920ac17"
      },
      "outputs": [
        {
          "data": {
            "text/plain": [
              "<matplotlib.axes._subplots.AxesSubplot at 0x7f6a3e8b1310>"
            ]
          },
          "execution_count": 128,
          "metadata": {},
          "output_type": "execute_result"
        },
        {
          "data": {
            "image/png": "[encoded data removed]",
            "text/plain": [
              "<Figure size 432x288 with 1 Axes>"
            ]
          },
          "metadata": {},
          "output_type": "display_data"
        }
      ],
      "source": [
        "sns.boxplot(x=df[\"transport_pay\"])"
      ]
    },
    {
      "cell_type": "code",
      "execution_count": null,
      "metadata": {
        "colab": {
          "base_uri": "https://localhost:8080/"
        },
        "id": "ODcT7_59kLVl",
        "outputId": "6c7c92f3-94ab-40fd-8e19-e4e7aef42b69"
      },
      "outputs": [
        {
          "data": {
            "text/plain": [
              "count    3.999899e+06\n",
              "mean     1.187999e+01\n",
              "std      2.224371e+01\n",
              "min      0.000000e+00\n",
              "25%      0.000000e+00\n",
              "50%      0.000000e+00\n",
              "75%      2.291000e+01\n",
              "max      8.305000e+02\n",
              "Name: transport_pay, dtype: float64"
            ]
          },
          "execution_count": 127,
          "metadata": {},
          "output_type": "execute_result"
        }
      ],
      "source": [
        "test['transport_pay'].describe()"
      ]
    },
    {
      "cell_type": "code",
      "execution_count": null,
      "metadata": {
        "colab": {
          "base_uri": "https://localhost:8080/",
          "height": 297
        },
        "id": "ofM0FAHakZbH",
        "outputId": "0a9533b4-f9ca-4a2f-eb01-4d447bf890ac"
      },
      "outputs": [
        {
          "data": {
            "text/plain": [
              "<matplotlib.axes._subplots.AxesSubplot at 0x7f6a3e803a10>"
            ]
          },
          "execution_count": 129,
          "metadata": {},
          "output_type": "execute_result"
        },
        {
          "data": {
            "image/png": "[encoded data removed]",
            "text/plain": [
              "<Figure size 432x288 with 1 Axes>"
            ]
          },
          "metadata": {},
          "output_type": "display_data"
        }
      ],
      "source": [
        "sns.boxplot(x=test[\"transport_pay\"])"
      ]
    },
    {
      "cell_type": "markdown",
      "metadata": {
        "id": "BA7K9I5Ukg4F"
      },
      "source": [
        "### postmark"
      ]
    },
    {
      "cell_type": "code",
      "execution_count": null,
      "metadata": {
        "colab": {
          "base_uri": "https://localhost:8080/"
        },
        "id": "XcLsZ3vIkhwx",
        "outputId": "e773fb23-a254-400f-b601-f148010fac6c"
      },
      "outputs": [
        {
          "data": {
            "text/plain": [
              "0.0       5998832\n",
              "512.0         901\n",
              "1024.0         79\n",
              "8.0            23\n",
              "256.0           7\n",
              "1.0             4\n",
              "Name: postmark, dtype: int64"
            ]
          },
          "execution_count": 130,
          "metadata": {},
          "output_type": "execute_result"
        }
      ],
      "source": [
        "df['postmark'].value_counts()"
      ]
    },
    {
      "cell_type": "code",
      "source": [
        "df['postmark'] = df['postmark'].apply(str)"
      ],
      "metadata": {
        "id": "m6YN42GO2Yvr"
      },
      "execution_count": null,
      "outputs": []
    },
    {
      "cell_type": "code",
      "execution_count": null,
      "metadata": {
        "colab": {
          "base_uri": "https://localhost:8080/"
        },
        "id": "2zhpr7dVkh32",
        "outputId": "6a0093de-0fb2-4f5d-af63-5d75a1cb5b4c"
      },
      "outputs": [
        {
          "data": {
            "text/plain": [
              "0.0       3999187\n",
              "512.0         622\n",
              "1024.0         67\n",
              "8.0            15\n",
              "256.0           4\n",
              "1.0             4\n",
              "Name: postmark, dtype: int64"
            ]
          },
          "execution_count": 131,
          "metadata": {},
          "output_type": "execute_result"
        }
      ],
      "source": [
        "test['postmark'].value_counts()"
      ]
    },
    {
      "cell_type": "code",
      "source": [
        "test['postmark'] = test['postmark'].apply(str)"
      ],
      "metadata": {
        "id": "rlWj6XjS2cEn"
      },
      "execution_count": null,
      "outputs": []
    },
    {
      "cell_type": "markdown",
      "metadata": {
        "id": "mLVJGFxRk4mM"
      },
      "source": [
        "### name_mfi"
      ]
    },
    {
      "cell_type": "code",
      "execution_count": null,
      "metadata": {
        "colab": {
          "base_uri": "https://localhost:8080/"
        },
        "id": "-XS0YeNak5RJ",
        "outputId": "7ed74208-84e8-4917-db44-80282649eba8"
      },
      "outputs": [
        {
          "output_type": "execute_result",
          "data": {
            "text/plain": [
              "0                                                                           815434\n",
              "Mobile Phone Bags & Cases                                                    48165\n",
              "Screen Protectors                                                            45032\n",
              "phone case                                                                   42696\n",
              "Phone Case                                                                   25031\n",
              "                                                                             ...  \n",
              "BRUSH(X-DZS-2inch)                                                               1\n",
              "car led light(b-ty-highlander-15/18)                                             1\n",
              "iPhone glass(1005001915468400)                                                   1\n",
              "Tops,Women_s Jacket/T shirt,Women's Jacket/T shirt                               1\n",
              "Piston Rings PR-PW60-2SET(PR-PW60-2SET),Piston Rings PR-PW60-2SET(PR-PW6         1\n",
              "Name: name_mfi, Length: 212936, dtype: int64"
            ]
          },
          "metadata": {},
          "execution_count": 54
        }
      ],
      "source": [
        "df['name_mfi'].value_counts()"
      ]
    },
    {
      "cell_type": "code",
      "execution_count": null,
      "metadata": {
        "colab": {
          "base_uri": "https://localhost:8080/"
        },
        "id": "2nvUdA7GkLZH",
        "outputId": "7d5a7f9e-c26c-4567-8753-7d3078f89b15"
      },
      "outputs": [
        {
          "output_type": "execute_result",
          "data": {
            "text/plain": [
              "0                                                                             544856\n",
              "phone case                                                                     50498\n",
              "mobile phone bags & cases                                                      32122\n",
              "screen protectors                                                              30161\n",
              "necklace                                                                       19329\n",
              "                                                                               ...  \n",
              "watchbands dsb10011l58                                                             1\n",
              "tg1711                                                                             1\n",
              "mp4accessories mx245581_03 a5b 0 mp4accessories mx245581_03 a5b 08b3 02*1          1\n",
              "cross stitch kits s14k608                                                          1\n",
              "phone case ys001 i11 a                                                             1\n",
              "Name: name_mfi, Length: 195300, dtype: int64"
            ]
          },
          "metadata": {},
          "execution_count": 11
        }
      ],
      "source": [
        "test['name_mfi'].value_counts()"
      ]
    },
    {
      "cell_type": "code",
      "execution_count": null,
      "metadata": {
        "id": "41mbF-OCm-YV"
      },
      "outputs": [],
      "source": [
        "def text_prep(text):\n",
        "  new_text = text.lower()\n",
        "  new_text = re.sub(r\"[-()\\\"#/@;:<>{}`+=~|.!?,']\", \" \", new_text)\n",
        "\n",
        "  return new_text"
      ]
    },
    {
      "cell_type": "code",
      "execution_count": null,
      "metadata": {
        "id": "ATT236c6kDLa"
      },
      "outputs": [],
      "source": [
        "df['name_mfi'] = df['name_mfi'].apply(text_prep)"
      ]
    },
    {
      "cell_type": "code",
      "execution_count": null,
      "metadata": {
        "id": "fTP_272IjsBe"
      },
      "outputs": [],
      "source": [
        "test['name_mfi'] = test['name_mfi'].apply(text_prep)"
      ]
    },
    {
      "cell_type": "code",
      "source": [
        "morph_eng = WordNetLemmatizer()\n",
        "\n",
        "def lemmatize_eng(doc):\n",
        "    j=''\n",
        "    doc = doc.lower()\n",
        "    doc = re.sub(patterns, ' ', doc)\n",
        "    tokens = []\n",
        "    for token in doc.split():\n",
        "        if token and token not in stop:\n",
        "            token = token.strip()\n",
        "            token = morph_eng.lemmatize(token)\n",
        "            tokens.append(token)\n",
        "            j = ' '.join(tokens)\n",
        "    \n",
        "    return j"
      ],
      "metadata": {
        "id": "jL0eqBAzCpks"
      },
      "execution_count": null,
      "outputs": []
    },
    {
      "cell_type": "code",
      "source": [
        "df['name_lemm'] = df['name_mfi'].apply(lemmatize_eng)"
      ],
      "metadata": {
        "id": "5n_jxGjvEFNt"
      },
      "execution_count": null,
      "outputs": []
    },
    {
      "cell_type": "code",
      "source": [
        "test['name_lemm'] = test['name_mfi'].apply(lemmatize_eng)"
      ],
      "metadata": {
        "id": "YhOdAqiNEVZ7"
      },
      "execution_count": null,
      "outputs": []
    },
    {
      "cell_type": "code",
      "source": [
        "df[['name_lemm', 'name_mfi']]"
      ],
      "metadata": {
        "colab": {
          "base_uri": "https://localhost:8080/",
          "height": 424
        },
        "id": "bQte5PvAEKjV",
        "outputId": "44a38510-a22b-4954-d1b3-6984ae787fa9"
      },
      "execution_count": null,
      "outputs": [
        {
          "output_type": "execute_result",
          "data": {
            "text/plain": [
              "                                          name_lemm  \\\n",
              "0                                      fishhook usb   \n",
              "1        screen protector case q613b case 208b40 db   \n",
              "2              pendant necklace ring woman necklace   \n",
              "3                            motorcycle signal lamp   \n",
              "4                                          backpack   \n",
              "...                                             ...   \n",
              "5999995                                   key chain   \n",
              "5999996                                        doll   \n",
              "5999997                                      jacket   \n",
              "5999998                                           0   \n",
              "5999999              jewelry bead jewelry component   \n",
              "\n",
              "                                             name_mfi  \n",
              "0                                        fishhook usb  \n",
              "1        screen protector case q613b  case 208b40 db   \n",
              "2         pendant necklaces rings for women necklaces  \n",
              "3                              motorcycle signal lamp  \n",
              "4                                            backpack  \n",
              "...                                               ...  \n",
              "5999995                                     key chain  \n",
              "5999996                                         dolls  \n",
              "5999997                                   down jacket  \n",
              "5999998                                             0  \n",
              "5999999              jewelry beads jewelry components  \n",
              "\n",
              "[6000000 rows x 2 columns]"
            ],
            "text/html": [
              "\n",
              "  <div id=\"df-5a87d9f1-c3bc-4f6d-a2c0-e6d777258c31\">\n",
              "    <div class=\"colab-df-container\">\n",
              "      <div>\n",
              "<style scoped>\n",
              "    .dataframe tbody tr th:only-of-type {\n",
              "        vertical-align: middle;\n",
              "    }\n",
              "\n",
              "    .dataframe tbody tr th {\n",
              "        vertical-align: top;\n",
              "    }\n",
              "\n",
              "    .dataframe thead th {\n",
              "        text-align: right;\n",
              "    }\n",
              "</style>\n",
              "<table border=\"1\" class=\"dataframe\">\n",
              "  <thead>\n",
              "    <tr style=\"text-align: right;\">\n",
              "      <th></th>\n",
              "      <th>name_lemm</th>\n",
              "      <th>name_mfi</th>\n",
              "    </tr>\n",
              "  </thead>\n",
              "  <tbody>\n",
              "    <tr>\n",
              "      <th>0</th>\n",
              "      <td>fishhook usb</td>\n",
              "      <td>fishhook usb</td>\n",
              "    </tr>\n",
              "    <tr>\n",
              "      <th>1</th>\n",
              "      <td>screen protector case q613b case 208b40 db</td>\n",
              "      <td>screen protector case q613b  case 208b40 db</td>\n",
              "    </tr>\n",
              "    <tr>\n",
              "      <th>2</th>\n",
              "      <td>pendant necklace ring woman necklace</td>\n",
              "      <td>pendant necklaces rings for women necklaces</td>\n",
              "    </tr>\n",
              "    <tr>\n",
              "      <th>3</th>\n",
              "      <td>motorcycle signal lamp</td>\n",
              "      <td>motorcycle signal lamp</td>\n",
              "    </tr>\n",
              "    <tr>\n",
              "      <th>4</th>\n",
              "      <td>backpack</td>\n",
              "      <td>backpack</td>\n",
              "    </tr>\n",
              "    <tr>\n",
              "      <th>...</th>\n",
              "      <td>...</td>\n",
              "      <td>...</td>\n",
              "    </tr>\n",
              "    <tr>\n",
              "      <th>5999995</th>\n",
              "      <td>key chain</td>\n",
              "      <td>key chain</td>\n",
              "    </tr>\n",
              "    <tr>\n",
              "      <th>5999996</th>\n",
              "      <td>doll</td>\n",
              "      <td>dolls</td>\n",
              "    </tr>\n",
              "    <tr>\n",
              "      <th>5999997</th>\n",
              "      <td>jacket</td>\n",
              "      <td>down jacket</td>\n",
              "    </tr>\n",
              "    <tr>\n",
              "      <th>5999998</th>\n",
              "      <td>0</td>\n",
              "      <td>0</td>\n",
              "    </tr>\n",
              "    <tr>\n",
              "      <th>5999999</th>\n",
              "      <td>jewelry bead jewelry component</td>\n",
              "      <td>jewelry beads jewelry components</td>\n",
              "    </tr>\n",
              "  </tbody>\n",
              "</table>\n",
              "<p>6000000 rows × 2 columns</p>\n",
              "</div>\n",
              "      <button class=\"colab-df-convert\" onclick=\"convertToInteractive('df-5a87d9f1-c3bc-4f6d-a2c0-e6d777258c31')\"\n",
              "              title=\"Convert this dataframe to an interactive table.\"\n",
              "              style=\"display:none;\">\n",
              "        \n",
              "  <svg xmlns=\"http://www.w3.org/2000/svg\" height=\"24px\"viewBox=\"0 0 24 24\"\n",
              "       width=\"24px\">\n",
              "    <path d=\"M0 0h24v24H0V0z\" fill=\"none\"/>\n",
              "    <path d=\"M18.56 5.44l.94 2.06.94-2.06 2.06-.94-2.06-.94-.94-2.06-.94 2.06-2.06.94zm-11 1L8.5 8.5l.94-2.06 2.06-.94-2.06-.94L8.5 2.5l-.94 2.06-2.06.94zm10 10l.94 2.06.94-2.06 2.06-.94-2.06-.94-.94-2.06-.94 2.06-2.06.94z\"/><path d=\"M17.41 7.96l-1.37-1.37c-.4-.4-.92-.59-1.43-.59-.52 0-1.04.2-1.43.59L10.3 9.45l-7.72 7.72c-.78.78-.78 2.05 0 2.83L4 21.41c.39.39.9.59 1.41.59.51 0 1.02-.2 1.41-.59l7.78-7.78 2.81-2.81c.8-.78.8-2.07 0-2.86zM5.41 20L4 18.59l7.72-7.72 1.47 1.35L5.41 20z\"/>\n",
              "  </svg>\n",
              "      </button>\n",
              "      \n",
              "  <style>\n",
              "    .colab-df-container {\n",
              "      display:flex;\n",
              "      flex-wrap:wrap;\n",
              "      gap: 12px;\n",
              "    }\n",
              "\n",
              "    .colab-df-convert {\n",
              "      background-color: #E8F0FE;\n",
              "      border: none;\n",
              "      border-radius: 50%;\n",
              "      cursor: pointer;\n",
              "      display: none;\n",
              "      fill: #1967D2;\n",
              "      height: 32px;\n",
              "      padding: 0 0 0 0;\n",
              "      width: 32px;\n",
              "    }\n",
              "\n",
              "    .colab-df-convert:hover {\n",
              "      background-color: #E2EBFA;\n",
              "      box-shadow: 0px 1px 2px rgba(60, 64, 67, 0.3), 0px 1px 3px 1px rgba(60, 64, 67, 0.15);\n",
              "      fill: #174EA6;\n",
              "    }\n",
              "\n",
              "    [theme=dark] .colab-df-convert {\n",
              "      background-color: #3B4455;\n",
              "      fill: #D2E3FC;\n",
              "    }\n",
              "\n",
              "    [theme=dark] .colab-df-convert:hover {\n",
              "      background-color: #434B5C;\n",
              "      box-shadow: 0px 1px 3px 1px rgba(0, 0, 0, 0.15);\n",
              "      filter: drop-shadow(0px 1px 2px rgba(0, 0, 0, 0.3));\n",
              "      fill: #FFFFFF;\n",
              "    }\n",
              "  </style>\n",
              "\n",
              "      <script>\n",
              "        const buttonEl =\n",
              "          document.querySelector('#df-5a87d9f1-c3bc-4f6d-a2c0-e6d777258c31 button.colab-df-convert');\n",
              "        buttonEl.style.display =\n",
              "          google.colab.kernel.accessAllowed ? 'block' : 'none';\n",
              "\n",
              "        async function convertToInteractive(key) {\n",
              "          const element = document.querySelector('#df-5a87d9f1-c3bc-4f6d-a2c0-e6d777258c31');\n",
              "          const dataTable =\n",
              "            await google.colab.kernel.invokeFunction('convertToInteractive',\n",
              "                                                     [key], {});\n",
              "          if (!dataTable) return;\n",
              "\n",
              "          const docLinkHtml = 'Like what you see? Visit the ' +\n",
              "            '<a target=\"_blank\" href=https://colab.research.google.com/notebooks/data_table.ipynb>data table notebook</a>'\n",
              "            + ' to learn more about interactive tables.';\n",
              "          element.innerHTML = '';\n",
              "          dataTable['output_type'] = 'display_data';\n",
              "          await google.colab.output.renderOutput(dataTable, element);\n",
              "          const docLink = document.createElement('div');\n",
              "          docLink.innerHTML = docLinkHtml;\n",
              "          element.appendChild(docLink);\n",
              "        }\n",
              "      </script>\n",
              "    </div>\n",
              "  </div>\n",
              "  "
            ]
          },
          "metadata": {},
          "execution_count": 23
        }
      ]
    },
    {
      "cell_type": "code",
      "source": [],
      "metadata": {
        "id": "wkooTU1IGSLG"
      },
      "execution_count": null,
      "outputs": []
    },
    {
      "cell_type": "code",
      "execution_count": null,
      "metadata": {
        "id": "GtiSDUaBGXw1"
      },
      "outputs": [],
      "source": [
        "df.to_pickle('df.pkl')"
      ]
    },
    {
      "cell_type": "code",
      "execution_count": null,
      "metadata": {
        "id": "V7uLR3DEGXw2"
      },
      "outputs": [],
      "source": [
        "test.to_pickle('test.pkl')"
      ]
    },
    {
      "cell_type": "code",
      "execution_count": null,
      "metadata": {
        "id": "QvoIh_s4GXw2"
      },
      "outputs": [],
      "source": [
        "!cp 'df.pkl' '/content/drive/MyDrive/post/'"
      ]
    },
    {
      "cell_type": "code",
      "execution_count": null,
      "metadata": {
        "id": "e-iZnsjRGXw3"
      },
      "outputs": [],
      "source": [
        "!cp 'test.pkl' '/content/drive/MyDrive/post/'"
      ]
    },
    {
      "cell_type": "markdown",
      "metadata": {
        "id": "of4eLo9FncaP"
      },
      "source": [
        "### weight_mfi"
      ]
    },
    {
      "cell_type": "code",
      "execution_count": null,
      "metadata": {
        "colab": {
          "base_uri": "https://localhost:8080/"
        },
        "id": "9kNjZk_6nbRW",
        "outputId": "f78fa76b-4e93-4d98-fc5a-6823a018059f"
      },
      "outputs": [
        {
          "output_type": "execute_result",
          "data": {
            "text/plain": [
              "count    6.000000e+06\n",
              "mean     1.236553e+02\n",
              "std      2.084230e+02\n",
              "min      0.000000e+00\n",
              "25%      2.300000e+01\n",
              "50%      6.000000e+01\n",
              "75%      1.230000e+02\n",
              "max      1.800000e+04\n",
              "Name: weight_mfi, dtype: float64"
            ]
          },
          "metadata": {},
          "execution_count": 85
        }
      ],
      "source": [
        "df['weight_mfi'].describe()"
      ]
    },
    {
      "cell_type": "code",
      "execution_count": null,
      "metadata": {
        "colab": {
          "base_uri": "https://localhost:8080/",
          "height": 297
        },
        "id": "zJR89Lu6nfY1",
        "outputId": "de1959fd-75d9-4c99-c2a9-fa5d290f3211"
      },
      "outputs": [
        {
          "output_type": "execute_result",
          "data": {
            "text/plain": [
              "<matplotlib.axes._subplots.AxesSubplot at 0x7f26bd5c15d0>"
            ]
          },
          "metadata": {},
          "execution_count": 86
        },
        {
          "output_type": "display_data",
          "data": {
            "text/plain": [
              "<Figure size 432x288 with 1 Axes>"
            ],
            "image/png": "[encoded data removed]"
          },
          "metadata": {
            "needs_background": "light"
          }
        }
      ],
      "source": [
        "sns.boxplot(x=df[\"weight_mfi\"])"
      ]
    },
    {
      "cell_type": "code",
      "execution_count": null,
      "metadata": {
        "colab": {
          "base_uri": "https://localhost:8080/"
        },
        "id": "T2IQHO1ynqUR",
        "outputId": "ae67e6eb-76ba-49ad-c56e-d47c00eb48c5"
      },
      "outputs": [
        {
          "output_type": "execute_result",
          "data": {
            "text/plain": [
              "count    4.000000e+06\n",
              "mean     1.237179e+02\n",
              "std      2.093481e+02\n",
              "min      0.000000e+00\n",
              "25%      2.300000e+01\n",
              "50%      6.000000e+01\n",
              "75%      1.230000e+02\n",
              "max      1.800000e+04\n",
              "Name: weight_mfi, dtype: float64"
            ]
          },
          "metadata": {},
          "execution_count": 87
        }
      ],
      "source": [
        "test['weight_mfi'].describe()"
      ]
    },
    {
      "cell_type": "code",
      "execution_count": null,
      "metadata": {
        "colab": {
          "base_uri": "https://localhost:8080/",
          "height": 297
        },
        "id": "Cwslfr0unskH",
        "outputId": "2fefb936-5347-4d85-dbf4-450db490401a"
      },
      "outputs": [
        {
          "output_type": "execute_result",
          "data": {
            "text/plain": [
              "<matplotlib.axes._subplots.AxesSubplot at 0x7f26bd53e950>"
            ]
          },
          "metadata": {},
          "execution_count": 88
        },
        {
          "output_type": "display_data",
          "data": {
            "text/plain": [
              "<Figure size 432x288 with 1 Axes>"
            ],
            "image/png": "[encoded data removed]"
          },
          "metadata": {
            "needs_background": "light"
          }
        }
      ],
      "source": [
        "sns.boxplot(x=test[\"weight_mfi\"])"
      ]
    },
    {
      "cell_type": "markdown",
      "metadata": {
        "id": "Rkzg5bS6n1xy"
      },
      "source": [
        "### price_mfi"
      ]
    },
    {
      "cell_type": "code",
      "execution_count": null,
      "metadata": {
        "colab": {
          "base_uri": "https://localhost:8080/"
        },
        "id": "nG-K5038n2dC",
        "outputId": "74c21e73-0756-4d5c-92f6-202e28199cb1"
      },
      "outputs": [
        {
          "data": {
            "text/plain": [
              "count    5.999846e+06\n",
              "mean     4.561017e+02\n",
              "std      2.103316e+03\n",
              "min      0.000000e+00\n",
              "25%      5.000000e+01\n",
              "50%      1.920000e+02\n",
              "75%      4.180000e+02\n",
              "max      1.597050e+05\n",
              "Name: price_mfi, dtype: float64"
            ]
          },
          "execution_count": 144,
          "metadata": {},
          "output_type": "execute_result"
        }
      ],
      "source": [
        "df['price_mfi'].describe()"
      ]
    },
    {
      "cell_type": "code",
      "execution_count": null,
      "metadata": {
        "colab": {
          "base_uri": "https://localhost:8080/",
          "height": 297
        },
        "id": "fEKVTEKAnfbZ",
        "outputId": "1175cd89-d9a9-46c7-bd8f-0c00db820463"
      },
      "outputs": [
        {
          "data": {
            "text/plain": [
              "<matplotlib.axes._subplots.AxesSubplot at 0x7f6a0fa169d0>"
            ]
          },
          "execution_count": 145,
          "metadata": {},
          "output_type": "execute_result"
        },
        {
          "data": {
            "image/png": "[encoded data removed]",
            "text/plain": [
              "<Figure size 432x288 with 1 Axes>"
            ]
          },
          "metadata": {},
          "output_type": "display_data"
        }
      ],
      "source": [
        "sns.boxplot(x=df[\"price_mfi\"])"
      ]
    },
    {
      "cell_type": "code",
      "execution_count": null,
      "metadata": {
        "colab": {
          "base_uri": "https://localhost:8080/"
        },
        "id": "ebWkbkkDn93V",
        "outputId": "96903603-7f3b-4052-9aae-84ba57be703b"
      },
      "outputs": [
        {
          "data": {
            "text/plain": [
              "count    3.999899e+06\n",
              "mean     4.556003e+02\n",
              "std      2.115309e+03\n",
              "min      0.000000e+00\n",
              "25%      5.000000e+01\n",
              "50%      1.920000e+02\n",
              "75%      4.190000e+02\n",
              "max      1.597050e+05\n",
              "Name: price_mfi, dtype: float64"
            ]
          },
          "execution_count": 146,
          "metadata": {},
          "output_type": "execute_result"
        }
      ],
      "source": [
        "test['price_mfi'].describe()"
      ]
    },
    {
      "cell_type": "code",
      "execution_count": null,
      "metadata": {
        "colab": {
          "base_uri": "https://localhost:8080/",
          "height": 297
        },
        "id": "EHZUrrLAoAjK",
        "outputId": "0c734389-d22d-46cd-d190-30ad80568052"
      },
      "outputs": [
        {
          "data": {
            "text/plain": [
              "<matplotlib.axes._subplots.AxesSubplot at 0x7f6a0f80ef50>"
            ]
          },
          "execution_count": 148,
          "metadata": {},
          "output_type": "execute_result"
        },
        {
          "data": {
            "image/png": "[encoded data removed]",
            "text/plain": [
              "<Figure size 432x288 with 1 Axes>"
            ]
          },
          "metadata": {},
          "output_type": "display_data"
        }
      ],
      "source": [
        "sns.boxplot(x=test['price_mfi'])"
      ]
    },
    {
      "cell_type": "markdown",
      "metadata": {
        "id": "l6t8BSEfog_h"
      },
      "source": [
        "### dist_qty_oper_login_1 "
      ]
    },
    {
      "cell_type": "code",
      "execution_count": null,
      "metadata": {
        "colab": {
          "base_uri": "https://localhost:8080/"
        },
        "id": "K4fPK3NmohzU",
        "outputId": "e5d16271-a31b-40dd-df03-07dc8be063f6"
      },
      "outputs": [
        {
          "data": {
            "text/plain": [
              "count    5.999846e+06\n",
              "mean     3.190768e+02\n",
              "std      4.012515e+02\n",
              "min      0.000000e+00\n",
              "25%      3.100000e+01\n",
              "50%      1.130000e+02\n",
              "75%      9.140000e+02\n",
              "max      1.142000e+03\n",
              "Name: dist_qty_oper_login_1, dtype: float64"
            ]
          },
          "execution_count": 150,
          "metadata": {},
          "output_type": "execute_result"
        }
      ],
      "source": [
        "df['dist_qty_oper_login_1'].describe()"
      ]
    },
    {
      "cell_type": "code",
      "execution_count": null,
      "metadata": {
        "colab": {
          "base_uri": "https://localhost:8080/",
          "height": 297
        },
        "id": "r24G4ZkWos2K",
        "outputId": "be161fe6-3c50-4fab-a4d5-0c7aff913698"
      },
      "outputs": [
        {
          "data": {
            "text/plain": [
              "<matplotlib.axes._subplots.AxesSubplot at 0x7f6a0f75e510>"
            ]
          },
          "execution_count": 151,
          "metadata": {},
          "output_type": "execute_result"
        },
        {
          "data": {
            "image/png": "[encoded data removed]",
            "text/plain": [
              "<Figure size 432x288 with 1 Axes>"
            ]
          },
          "metadata": {},
          "output_type": "display_data"
        }
      ],
      "source": [
        "sns.boxplot(x=df['dist_qty_oper_login_1'])"
      ]
    },
    {
      "cell_type": "code",
      "execution_count": null,
      "metadata": {
        "colab": {
          "base_uri": "https://localhost:8080/"
        },
        "id": "Tqw_5PrZoyno",
        "outputId": "de591721-e67b-4b4d-ef19-1d1d3ac4c11c"
      },
      "outputs": [
        {
          "data": {
            "text/plain": [
              "count    3.999899e+06\n",
              "mean     3.189433e+02\n",
              "std      4.012009e+02\n",
              "min      0.000000e+00\n",
              "25%      3.100000e+01\n",
              "50%      1.130000e+02\n",
              "75%      9.140000e+02\n",
              "max      1.142000e+03\n",
              "Name: dist_qty_oper_login_1, dtype: float64"
            ]
          },
          "execution_count": 152,
          "metadata": {},
          "output_type": "execute_result"
        }
      ],
      "source": [
        "test['dist_qty_oper_login_1'].describe()"
      ]
    },
    {
      "cell_type": "code",
      "execution_count": null,
      "metadata": {
        "colab": {
          "base_uri": "https://localhost:8080/",
          "height": 297
        },
        "id": "-AzNBvkMo3r8",
        "outputId": "aea5767e-7572-4b92-fd7e-ec9e2bf6c1a5"
      },
      "outputs": [
        {
          "data": {
            "text/plain": [
              "<matplotlib.axes._subplots.AxesSubplot at 0x7f6a0f798510>"
            ]
          },
          "execution_count": 153,
          "metadata": {},
          "output_type": "execute_result"
        },
        {
          "data": {
            "image/png": "[encoded data removed]",
            "text/plain": [
              "<Figure size 432x288 with 1 Axes>"
            ]
          },
          "metadata": {},
          "output_type": "display_data"
        }
      ],
      "source": [
        "sns.boxplot(x=test['dist_qty_oper_login_1'])"
      ]
    },
    {
      "cell_type": "markdown",
      "metadata": {
        "id": "3O24jGSbpDfE"
      },
      "source": [
        "### total_qty_oper_login_1"
      ]
    },
    {
      "cell_type": "code",
      "execution_count": null,
      "metadata": {
        "colab": {
          "base_uri": "https://localhost:8080/"
        },
        "id": "09KPK62ypJP2",
        "outputId": "97afca63-1a63-493c-8168-b461cc428852"
      },
      "outputs": [
        {
          "data": {
            "text/plain": [
              "count    5.999846e+06\n",
              "mean     2.775162e+07\n",
              "std      2.903662e+07\n",
              "min      0.000000e+00\n",
              "25%      1.113900e+06\n",
              "50%      9.570832e+06\n",
              "75%      5.610820e+07\n",
              "max      1.416888e+08\n",
              "Name: total_qty_oper_login_1, dtype: float64"
            ]
          },
          "execution_count": 154,
          "metadata": {},
          "output_type": "execute_result"
        }
      ],
      "source": [
        "df['total_qty_oper_login_1'].describe()"
      ]
    },
    {
      "cell_type": "code",
      "execution_count": null,
      "metadata": {
        "colab": {
          "base_uri": "https://localhost:8080/",
          "height": 297
        },
        "id": "UydADEdfo0Ak",
        "outputId": "40eb642d-f7f3-4c29-bff6-54466447b8fd"
      },
      "outputs": [
        {
          "data": {
            "text/plain": [
              "<matplotlib.axes._subplots.AxesSubplot at 0x7f6a0f6a4450>"
            ]
          },
          "execution_count": 155,
          "metadata": {},
          "output_type": "execute_result"
        },
        {
          "data": {
            "image/png": "[encoded data removed]",
            "text/plain": [
              "<Figure size 432x288 with 1 Axes>"
            ]
          },
          "metadata": {},
          "output_type": "display_data"
        }
      ],
      "source": [
        "sns.boxplot(x=df['total_qty_oper_login_1'])"
      ]
    },
    {
      "cell_type": "code",
      "execution_count": null,
      "metadata": {
        "id": "NvV1t1exos4l"
      },
      "outputs": [],
      "source": []
    },
    {
      "cell_type": "code",
      "execution_count": null,
      "metadata": {
        "colab": {
          "base_uri": "https://localhost:8080/"
        },
        "id": "roAoRCQNpUaK",
        "outputId": "351858e7-8585-42b1-f86b-b97fa28ace43"
      },
      "outputs": [
        {
          "data": {
            "text/plain": [
              "count    3.999899e+06\n",
              "mean     2.773728e+07\n",
              "std      2.903665e+07\n",
              "min      0.000000e+00\n",
              "25%      1.113748e+06\n",
              "50%      9.570832e+06\n",
              "75%      5.610820e+07\n",
              "max      1.416888e+08\n",
              "Name: total_qty_oper_login_1, dtype: float64"
            ]
          },
          "execution_count": 156,
          "metadata": {},
          "output_type": "execute_result"
        }
      ],
      "source": [
        "test['total_qty_oper_login_1'].describe()"
      ]
    },
    {
      "cell_type": "code",
      "execution_count": null,
      "metadata": {
        "colab": {
          "base_uri": "https://localhost:8080/",
          "height": 297
        },
        "id": "6YWNpfJ7pUaL",
        "outputId": "3668ccdc-9228-4ee4-dc68-0ee6d3d889d8"
      },
      "outputs": [
        {
          "data": {
            "text/plain": [
              "<matplotlib.axes._subplots.AxesSubplot at 0x7f6a0f5f44d0>"
            ]
          },
          "execution_count": 157,
          "metadata": {},
          "output_type": "execute_result"
        },
        {
          "data": {
            "image/png": "[encoded data removed]",
            "text/plain": [
              "<Figure size 432x288 with 1 Axes>"
            ]
          },
          "metadata": {},
          "output_type": "display_data"
        }
      ],
      "source": [
        "sns.boxplot(x=test['total_qty_oper_login_1'])"
      ]
    },
    {
      "cell_type": "markdown",
      "metadata": {
        "id": "-rS6mLDbqTpA"
      },
      "source": [
        "### total_qty_oper_login_0"
      ]
    },
    {
      "cell_type": "code",
      "execution_count": null,
      "metadata": {
        "colab": {
          "base_uri": "https://localhost:8080/"
        },
        "id": "wcT9O9_hqU7M",
        "outputId": "650d963e-b0c8-440d-9267-b49d4c0197c9"
      },
      "outputs": [
        {
          "data": {
            "text/plain": [
              "count    5.999846e+06\n",
              "mean     2.898961e+07\n",
              "std      5.334310e+07\n",
              "min      0.000000e+00\n",
              "25%      1.064800e+04\n",
              "50%      3.664710e+05\n",
              "75%      8.331893e+07\n",
              "max      4.156581e+08\n",
              "Name: total_qty_oper_login_0, dtype: float64"
            ]
          },
          "execution_count": 158,
          "metadata": {},
          "output_type": "execute_result"
        }
      ],
      "source": [
        "df['total_qty_oper_login_0'].describe()"
      ]
    },
    {
      "cell_type": "code",
      "execution_count": null,
      "metadata": {
        "colab": {
          "base_uri": "https://localhost:8080/",
          "height": 297
        },
        "id": "0bhFCa6iqTKp",
        "outputId": "589aed9c-0cf1-4eaa-b733-f9977b511eb2"
      },
      "outputs": [
        {
          "data": {
            "text/plain": [
              "<matplotlib.axes._subplots.AxesSubplot at 0x7f6a0f5f4850>"
            ]
          },
          "execution_count": 159,
          "metadata": {},
          "output_type": "execute_result"
        },
        {
          "data": {
            "image/png": "[encoded data removed]",
            "text/plain": [
              "<Figure size 432x288 with 1 Axes>"
            ]
          },
          "metadata": {},
          "output_type": "display_data"
        }
      ],
      "source": [
        "sns.boxplot(x=df['total_qty_oper_login_0'])"
      ]
    },
    {
      "cell_type": "code",
      "execution_count": null,
      "metadata": {
        "colab": {
          "base_uri": "https://localhost:8080/"
        },
        "id": "8aSg1Putqe41",
        "outputId": "6bebe8d6-d23a-46e5-a179-a21d882cb3f4"
      },
      "outputs": [
        {
          "data": {
            "text/plain": [
              "count    3.999899e+06\n",
              "mean     2.897445e+07\n",
              "std      5.333971e+07\n",
              "min      0.000000e+00\n",
              "25%      1.064800e+04\n",
              "50%      3.664710e+05\n",
              "75%      8.331893e+07\n",
              "max      4.156581e+08\n",
              "Name: total_qty_oper_login_0, dtype: float64"
            ]
          },
          "execution_count": 161,
          "metadata": {},
          "output_type": "execute_result"
        }
      ],
      "source": [
        "test['total_qty_oper_login_0'].describe()"
      ]
    },
    {
      "cell_type": "code",
      "execution_count": null,
      "metadata": {
        "colab": {
          "base_uri": "https://localhost:8080/",
          "height": 297
        },
        "id": "sD8Y38aQqe41",
        "outputId": "ba05f959-5834-4d96-d042-777072d34dc3"
      },
      "outputs": [
        {
          "data": {
            "text/plain": [
              "<matplotlib.axes._subplots.AxesSubplot at 0x7f6a0f55ea90>"
            ]
          },
          "execution_count": 160,
          "metadata": {},
          "output_type": "execute_result"
        },
        {
          "data": {
            "image/png": "[encoded data removed]",
            "text/plain": [
              "<Figure size 432x288 with 1 Axes>"
            ]
          },
          "metadata": {},
          "output_type": "display_data"
        }
      ],
      "source": [
        "sns.boxplot(x=test['total_qty_oper_login_0'])"
      ]
    },
    {
      "cell_type": "markdown",
      "metadata": {
        "id": "2QfajfoGqnqd"
      },
      "source": [
        "### total_qty_over_index_and_type"
      ]
    },
    {
      "cell_type": "code",
      "execution_count": null,
      "metadata": {
        "colab": {
          "base_uri": "https://localhost:8080/"
        },
        "id": "QHCQziRWnfd5",
        "outputId": "b6cf4912-3b37-4e3a-995d-291f6ba0edde"
      },
      "outputs": [
        {
          "data": {
            "text/plain": [
              "count    5.999846e+06\n",
              "mean     5.674123e+07\n",
              "std      7.290428e+07\n",
              "min      0.000000e+00\n",
              "25%      1.673370e+06\n",
              "50%      1.393496e+07\n",
              "75%      1.321756e+08\n",
              "max      4.897385e+08\n",
              "Name: total_qty_over_index_and_type, dtype: float64"
            ]
          },
          "execution_count": 163,
          "metadata": {},
          "output_type": "execute_result"
        }
      ],
      "source": [
        "df['total_qty_over_index_and_type'].describe()"
      ]
    },
    {
      "cell_type": "code",
      "execution_count": null,
      "metadata": {
        "colab": {
          "base_uri": "https://localhost:8080/",
          "height": 297
        },
        "id": "4TtT6vaZnfhG",
        "outputId": "7cd9e7a7-46e0-420e-f461-f45820e21c3b"
      },
      "outputs": [
        {
          "data": {
            "text/plain": [
              "<matplotlib.axes._subplots.AxesSubplot at 0x7f6a0f47cc50>"
            ]
          },
          "execution_count": 164,
          "metadata": {},
          "output_type": "execute_result"
        },
        {
          "data": {
            "image/png": "[encoded data removed]",
            "text/plain": [
              "<Figure size 432x288 with 1 Axes>"
            ]
          },
          "metadata": {},
          "output_type": "display_data"
        }
      ],
      "source": [
        "sns.boxplot(x=df['total_qty_over_index_and_type'])"
      ]
    },
    {
      "cell_type": "code",
      "execution_count": null,
      "metadata": {
        "colab": {
          "base_uri": "https://localhost:8080/"
        },
        "id": "sOxSnCpUq9CM",
        "outputId": "dce249ce-e9e4-4030-e817-0cb5f27e9f08"
      },
      "outputs": [
        {
          "data": {
            "text/plain": [
              "count    3.999899e+06\n",
              "mean     5.671173e+07\n",
              "std      7.290413e+07\n",
              "min      0.000000e+00\n",
              "25%      1.656011e+06\n",
              "50%      1.393496e+07\n",
              "75%      1.321756e+08\n",
              "max      4.897385e+08\n",
              "Name: total_qty_over_index_and_type, dtype: float64"
            ]
          },
          "execution_count": 165,
          "metadata": {},
          "output_type": "execute_result"
        }
      ],
      "source": [
        "test['total_qty_over_index_and_type'].describe()"
      ]
    },
    {
      "cell_type": "code",
      "execution_count": null,
      "metadata": {
        "colab": {
          "base_uri": "https://localhost:8080/",
          "height": 297
        },
        "id": "YvUYH2A0rKZt",
        "outputId": "79ba03f4-53b1-4b28-d02c-c76d97f230c2"
      },
      "outputs": [
        {
          "data": {
            "text/plain": [
              "<matplotlib.axes._subplots.AxesSubplot at 0x7f6a0f4c31d0>"
            ]
          },
          "execution_count": 166,
          "metadata": {},
          "output_type": "execute_result"
        },
        {
          "data": {
            "image/png": "[encoded data removed]",
            "text/plain": [
              "<Figure size 432x288 with 1 Axes>"
            ]
          },
          "metadata": {},
          "output_type": "display_data"
        }
      ],
      "source": [
        "sns.boxplot(x=test['total_qty_over_index_and_type'])"
      ]
    },
    {
      "cell_type": "markdown",
      "metadata": {
        "id": "Q564tRderT_6"
      },
      "source": [
        "### total_qty_over_index"
      ]
    },
    {
      "cell_type": "code",
      "execution_count": null,
      "metadata": {
        "colab": {
          "base_uri": "https://localhost:8080/"
        },
        "id": "fIJPuamgrV8w",
        "outputId": "821143c3-e709-419b-b909-98e17bebec0f"
      },
      "outputs": [
        {
          "data": {
            "text/plain": [
              "count    5.999846e+06\n",
              "mean     7.178866e+07\n",
              "std      7.509282e+07\n",
              "min      0.000000e+00\n",
              "25%      1.040204e+07\n",
              "50%      5.270807e+07\n",
              "75%      1.368198e+08\n",
              "max      5.002511e+08\n",
              "Name: total_qty_over_index, dtype: float64"
            ]
          },
          "execution_count": 167,
          "metadata": {},
          "output_type": "execute_result"
        }
      ],
      "source": [
        "df['total_qty_over_index'].describe()"
      ]
    },
    {
      "cell_type": "code",
      "execution_count": null,
      "metadata": {
        "colab": {
          "base_uri": "https://localhost:8080/",
          "height": 297
        },
        "id": "EdUCZuZwq9Er",
        "outputId": "5b4c4d19-07b3-43ba-c57e-8bca26eed625"
      },
      "outputs": [
        {
          "data": {
            "text/plain": [
              "<matplotlib.axes._subplots.AxesSubplot at 0x7f6a0f3b17d0>"
            ]
          },
          "execution_count": 168,
          "metadata": {},
          "output_type": "execute_result"
        },
        {
          "data": {
            "image/png": "[encoded data removed]",
            "text/plain": [
              "<Figure size 432x288 with 1 Axes>"
            ]
          },
          "metadata": {},
          "output_type": "display_data"
        }
      ],
      "source": [
        "sns.boxplot(x=df['total_qty_over_index'])"
      ]
    },
    {
      "cell_type": "code",
      "execution_count": null,
      "metadata": {
        "colab": {
          "base_uri": "https://localhost:8080/"
        },
        "id": "gAIZZWk9rgRn",
        "outputId": "28973793-117c-4e25-fe81-d1596b5a4555"
      },
      "outputs": [
        {
          "data": {
            "text/plain": [
              "count    3.999899e+06\n",
              "mean     7.177323e+07\n",
              "std      7.509604e+07\n",
              "min      0.000000e+00\n",
              "25%      1.040204e+07\n",
              "50%      5.270807e+07\n",
              "75%      1.368198e+08\n",
              "max      5.002511e+08\n",
              "Name: total_qty_over_index, dtype: float64"
            ]
          },
          "execution_count": 169,
          "metadata": {},
          "output_type": "execute_result"
        }
      ],
      "source": [
        "test['total_qty_over_index'].describe()"
      ]
    },
    {
      "cell_type": "code",
      "execution_count": null,
      "metadata": {
        "colab": {
          "base_uri": "https://localhost:8080/",
          "height": 297
        },
        "id": "4V06k0ffruHJ",
        "outputId": "0f95e3f0-c8c3-4219-d8de-8b423cb2b9b6"
      },
      "outputs": [
        {
          "data": {
            "text/plain": [
              "<matplotlib.axes._subplots.AxesSubplot at 0x7f6a0f3309d0>"
            ]
          },
          "execution_count": 170,
          "metadata": {},
          "output_type": "execute_result"
        },
        {
          "data": {
            "image/png": "[encoded data removed]",
            "text/plain": [
              "<Figure size 432x288 with 1 Axes>"
            ]
          },
          "metadata": {},
          "output_type": "display_data"
        }
      ],
      "source": [
        "sns.boxplot(x=test['total_qty_over_index'])"
      ]
    },
    {
      "cell_type": "markdown",
      "metadata": {
        "id": "blNOgUl7r_hq"
      },
      "source": [
        "### is_wrong_sndr_name"
      ]
    },
    {
      "cell_type": "code",
      "execution_count": null,
      "metadata": {
        "colab": {
          "base_uri": "https://localhost:8080/"
        },
        "id": "xd2Z82t6sAa5",
        "outputId": "ac545e73-c576-4666-b2de-c9a8a7b440b2"
      },
      "outputs": [
        {
          "data": {
            "text/plain": [
              "0    5984461\n",
              "1      15385\n",
              "Name: is_wrong_sndr_name, dtype: int64"
            ]
          },
          "execution_count": 172,
          "metadata": {},
          "output_type": "execute_result"
        }
      ],
      "source": [
        "df['is_wrong_sndr_name'].value_counts()"
      ]
    },
    {
      "cell_type": "code",
      "source": [
        "df['is_wrong_sndr_name'] = df['is_wrong_sndr_name'].apply(str)"
      ],
      "metadata": {
        "id": "qRK2Bt5S2wjv"
      },
      "execution_count": null,
      "outputs": []
    },
    {
      "cell_type": "code",
      "execution_count": null,
      "metadata": {
        "colab": {
          "base_uri": "https://localhost:8080/"
        },
        "id": "FmxKahM6rgUG",
        "outputId": "5cad7319-36fc-470f-b121-e45f0eee65a9"
      },
      "outputs": [
        {
          "data": {
            "text/plain": [
              "0    3989568\n",
              "1      10331\n",
              "Name: is_wrong_sndr_name, dtype: int64"
            ]
          },
          "execution_count": 173,
          "metadata": {},
          "output_type": "execute_result"
        }
      ],
      "source": [
        "test['is_wrong_sndr_name'].value_counts()"
      ]
    },
    {
      "cell_type": "code",
      "source": [
        "test['is_wrong_sndr_name'] = test['is_wrong_sndr_name'].apply(str)"
      ],
      "metadata": {
        "id": "PhPJPyjk20nd"
      },
      "execution_count": null,
      "outputs": []
    },
    {
      "cell_type": "markdown",
      "metadata": {
        "id": "Li9XpA3RsXR9"
      },
      "source": [
        "### is_wrong_rcpn_name"
      ]
    },
    {
      "cell_type": "code",
      "execution_count": null,
      "metadata": {
        "colab": {
          "base_uri": "https://localhost:8080/"
        },
        "id": "1Xuq83BYsYC1",
        "outputId": "b2008604-7ee5-4693-a1b1-0e34a6ff2163"
      },
      "outputs": [
        {
          "data": {
            "text/plain": [
              "0    4441280\n",
              "1    1558566\n",
              "Name: is_wrong_rcpn_name, dtype: int64"
            ]
          },
          "execution_count": 174,
          "metadata": {},
          "output_type": "execute_result"
        }
      ],
      "source": [
        "df['is_wrong_rcpn_name'].value_counts()"
      ]
    },
    {
      "cell_type": "code",
      "source": [
        "df['is_wrong_rcpn_name'] = df['is_wrong_rcpn_name'].apply(str)"
      ],
      "metadata": {
        "id": "ghN0-bjx3Amz"
      },
      "execution_count": null,
      "outputs": []
    },
    {
      "cell_type": "code",
      "execution_count": null,
      "metadata": {
        "colab": {
          "base_uri": "https://localhost:8080/"
        },
        "id": "M7d4c4fnsm3l",
        "outputId": "ecdd6494-4d3f-4314-fde0-759985a573a7"
      },
      "outputs": [
        {
          "data": {
            "text/plain": [
              "0    2960767\n",
              "1    1039132\n",
              "Name: is_wrong_rcpn_name, dtype: int64"
            ]
          },
          "execution_count": 175,
          "metadata": {},
          "output_type": "execute_result"
        }
      ],
      "source": [
        "test['is_wrong_rcpn_name'].value_counts()"
      ]
    },
    {
      "cell_type": "code",
      "source": [
        "test['is_wrong_rcpn_name'] = test['is_wrong_rcpn_name'].apply(str)"
      ],
      "metadata": {
        "id": "EoYhaRsb3Ijo"
      },
      "execution_count": null,
      "outputs": []
    },
    {
      "cell_type": "markdown",
      "metadata": {
        "id": "netBx3-isvQD"
      },
      "source": [
        "### is_wrong_phone_number"
      ]
    },
    {
      "cell_type": "code",
      "execution_count": null,
      "metadata": {
        "colab": {
          "base_uri": "https://localhost:8080/"
        },
        "id": "eB1nkO78swHg",
        "outputId": "95149c6a-4650-4dde-87e6-89a9b78f7ba4"
      },
      "outputs": [
        {
          "data": {
            "text/plain": [
              "0    4974030\n",
              "1    1025816\n",
              "Name: is_wrong_phone_number, dtype: int64"
            ]
          },
          "execution_count": 176,
          "metadata": {},
          "output_type": "execute_result"
        }
      ],
      "source": [
        "df['is_wrong_phone_number'].value_counts()"
      ]
    },
    {
      "cell_type": "code",
      "source": [
        "df['is_wrong_phone_number'] = df['is_wrong_phone_number'].apply(str)"
      ],
      "metadata": {
        "id": "v2_59wrl3MP8"
      },
      "execution_count": null,
      "outputs": []
    },
    {
      "cell_type": "code",
      "execution_count": null,
      "metadata": {
        "colab": {
          "base_uri": "https://localhost:8080/"
        },
        "id": "-7mdVEqts0wg",
        "outputId": "6cfae162-e63c-4032-81e4-54fc368a7c63"
      },
      "outputs": [
        {
          "data": {
            "text/plain": [
              "0    3316923\n",
              "1     682976\n",
              "Name: is_wrong_phone_number, dtype: int64"
            ]
          },
          "execution_count": 177,
          "metadata": {},
          "output_type": "execute_result"
        }
      ],
      "source": [
        "test['is_wrong_phone_number'].value_counts()"
      ]
    },
    {
      "cell_type": "code",
      "source": [
        "test['is_wrong_phone_number'] = test['is_wrong_phone_number'].apply(str)"
      ],
      "metadata": {
        "id": "qxXLFXtU3PlZ"
      },
      "execution_count": null,
      "outputs": []
    },
    {
      "cell_type": "markdown",
      "metadata": {
        "id": "WcdK29MFtV7u"
      },
      "source": [
        "### is_wrong_address"
      ]
    },
    {
      "cell_type": "code",
      "execution_count": null,
      "metadata": {
        "colab": {
          "base_uri": "https://localhost:8080/"
        },
        "id": "Pj8Mkt_yswoI",
        "outputId": "c8130d3e-5feb-4800-85fc-5044f828367f"
      },
      "outputs": [
        {
          "data": {
            "text/plain": [
              "0    5992269\n",
              "1       7577\n",
              "Name: is_wrong_address, dtype: int64"
            ]
          },
          "execution_count": 178,
          "metadata": {},
          "output_type": "execute_result"
        }
      ],
      "source": [
        "df['is_wrong_address'].value_counts()"
      ]
    },
    {
      "cell_type": "code",
      "source": [
        "df['is_wrong_address'] = df['is_wrong_address'].apply(str)"
      ],
      "metadata": {
        "id": "eehmfyDj3ThV"
      },
      "execution_count": null,
      "outputs": []
    },
    {
      "cell_type": "code",
      "execution_count": null,
      "metadata": {
        "colab": {
          "base_uri": "https://localhost:8080/"
        },
        "id": "D73G5_2Vswrr",
        "outputId": "a7720e52-f127-40aa-bfc3-e9bded3feb05"
      },
      "outputs": [
        {
          "data": {
            "text/plain": [
              "0    3994953\n",
              "1       4946\n",
              "Name: is_wrong_address, dtype: int64"
            ]
          },
          "execution_count": 179,
          "metadata": {},
          "output_type": "execute_result"
        }
      ],
      "source": [
        "test['is_wrong_address'].value_counts()"
      ]
    },
    {
      "cell_type": "code",
      "source": [
        "test['is_wrong_address'] = test['is_wrong_address'].apply(str)"
      ],
      "metadata": {
        "id": "1Ut7NSE63Znj"
      },
      "execution_count": null,
      "outputs": []
    },
    {
      "cell_type": "markdown",
      "metadata": {
        "id": "NEwsKnVCtpoQ"
      },
      "source": [
        "### label"
      ]
    },
    {
      "cell_type": "code",
      "execution_count": null,
      "metadata": {
        "colab": {
          "base_uri": "https://localhost:8080/"
        },
        "id": "D5KC3JSttqfD",
        "outputId": "98ff77a5-01b8-420d-bc2c-0251cae90b19"
      },
      "outputs": [
        {
          "output_type": "execute_result",
          "data": {
            "text/plain": [
              "0    5828866\n",
              "1     170980\n",
              "Name: label, dtype: int64"
            ]
          },
          "metadata": {},
          "execution_count": 21
        }
      ],
      "source": [
        "df['label'].value_counts()"
      ]
    },
    {
      "cell_type": "code",
      "execution_count": null,
      "metadata": {
        "id": "7IibviKnrgXI"
      },
      "outputs": [],
      "source": []
    },
    {
      "cell_type": "code",
      "execution_count": null,
      "metadata": {
        "id": "CaUGq6HIq9HQ"
      },
      "outputs": [],
      "source": [
        "df.to_pickle('df.pkl')"
      ]
    },
    {
      "cell_type": "code",
      "execution_count": null,
      "metadata": {
        "id": "vIhnBRn5t7Yr"
      },
      "outputs": [],
      "source": [
        "test.to_pickle('test.pkl')"
      ]
    },
    {
      "cell_type": "code",
      "execution_count": null,
      "metadata": {
        "id": "L6RsEqEBv4Z6"
      },
      "outputs": [],
      "source": [
        "from google.colab import files\n"
      ]
    },
    {
      "cell_type": "code",
      "execution_count": null,
      "metadata": {
        "id": "dWtJZIxPUO7H"
      },
      "outputs": [],
      "source": [
        "!cp 'df.pkl' '/content/drive/MyDrive/post/'"
      ]
    },
    {
      "cell_type": "code",
      "execution_count": null,
      "metadata": {
        "id": "96JnXVIqUO7K"
      },
      "outputs": [],
      "source": [
        "!cp 'test.pkl' '/content/drive/MyDrive/post/'"
      ]
    },
    {
      "cell_type": "markdown",
      "metadata": {
        "id": "lYxY5aJF3sxj"
      },
      "source": [
        "## Предсказание по текстовой фиче"
      ]
    },
    {
      "cell_type": "code",
      "execution_count": null,
      "metadata": {
        "id": "CW2ywM_L3yLf"
      },
      "outputs": [],
      "source": [
        "df = pd.read_pickle(\"/content/drive/My Drive/post/df.pkl\")"
      ]
    },
    {
      "cell_type": "code",
      "execution_count": null,
      "metadata": {
        "id": "HGdXkx103yLg"
      },
      "outputs": [],
      "source": [
        "test = pd.read_pickle(\"/content/drive/My Drive/post/test.pkl\")"
      ]
    },
    {
      "cell_type": "code",
      "execution_count": null,
      "metadata": {
        "colab": {
          "base_uri": "https://localhost:8080/"
        },
        "id": "LD2vVJSksaG_",
        "outputId": "64148855-23d4-46d3-ac61-8585a5ff878a"
      },
      "outputs": [
        {
          "output_type": "stream",
          "name": "stdout",
          "text": [
            "<class 'pandas.core.frame.DataFrame'>\n",
            "Int64Index: 5999846 entries, 0 to 5999999\n",
            "Data columns (total 29 columns):\n",
            " #   Column                         Dtype  \n",
            "---  ------                         -----  \n",
            " 0   id                             int64  \n",
            " 1   index_oper                     object \n",
            " 2   type                           object \n",
            " 3   priority                       float64\n",
            " 4   is_privatecategory             object \n",
            " 5   class                          float64\n",
            " 6   is_in_yandex                   object \n",
            " 7   is_return                      object \n",
            " 8   weight                         float64\n",
            " 9   mailtype                       float64\n",
            " 10  mailctg                        float64\n",
            " 11  directctg                      float64\n",
            " 12  transport_pay                  float64\n",
            " 13  postmark                       float64\n",
            " 14  name_mfi                       object \n",
            " 15  weight_mfi                     float64\n",
            " 16  price_mfi                      float64\n",
            " 17  dist_qty_oper_login_1          float64\n",
            " 18  total_qty_oper_login_1         float64\n",
            " 19  total_qty_oper_login_0         float64\n",
            " 20  total_qty_over_index_and_type  float64\n",
            " 21  total_qty_over_index           float64\n",
            " 22  is_wrong_sndr_name             int64  \n",
            " 23  is_wrong_rcpn_name             int64  \n",
            " 24  is_wrong_phone_number          int64  \n",
            " 25  is_wrong_address               int64  \n",
            " 26  label                          int64  \n",
            " 27  oper_type                      object \n",
            " 28  oper_attr                      object \n",
            "dtypes: float64(15), int64(6), object(8)\n",
            "memory usage: 1.3+ GB\n"
          ]
        }
      ],
      "source": [
        "df.info()"
      ]
    },
    {
      "cell_type": "code",
      "execution_count": null,
      "metadata": {
        "id": "LZb64zpk34SX"
      },
      "outputs": [],
      "source": [
        "df['name_mfi_len']=df['name_mfi'].apply(lambda x:len(x.split()))\n",
        "test['name_mfi_len']=test['name_mfi'].apply(lambda x:len(x.split()))"
      ]
    },
    {
      "cell_type": "code",
      "execution_count": null,
      "metadata": {
        "id": "1NF0FdMb4Ejw"
      },
      "outputs": [],
      "source": [
        "vectorizer = TfidfVectorizer()\n",
        "X_train = vectorizer.fit_transform(df['name_mfi'])\n",
        "X_test = vectorizer.transform(test['name_mfi'])"
      ]
    },
    {
      "cell_type": "code",
      "execution_count": null,
      "metadata": {
        "colab": {
          "base_uri": "https://localhost:8080/"
        },
        "id": "N1wQ57354HAl",
        "outputId": "a88c02dd-eabc-45f8-c68d-0b144db85079"
      },
      "outputs": [
        {
          "output_type": "stream",
          "name": "stdout",
          "text": [
            "CPU times: user 93.6 ms, sys: 842 µs, total: 94.5 ms\n",
            "Wall time: 89.2 ms\n"
          ]
        }
      ],
      "source": [
        "%%time\n",
        "trans = Normalizer()\n",
        "X_train_len=trans.fit_transform(df['name_mfi_len'].values.reshape(-1,1))\n",
        "X_test_len=trans.transform(test['name_mfi_len'].values.reshape(-1,1))"
      ]
    },
    {
      "cell_type": "code",
      "execution_count": null,
      "metadata": {
        "colab": {
          "base_uri": "https://localhost:8080/"
        },
        "id": "YIkI94Qu4Khr",
        "outputId": "e93ed9db-c228-4e0a-c47d-6354c3bc5427"
      },
      "outputs": [
        {
          "output_type": "stream",
          "name": "stdout",
          "text": [
            "CPU times: user 904 ms, sys: 5.98 ms, total: 910 ms\n",
            "Wall time: 909 ms\n"
          ]
        }
      ],
      "source": [
        "%%time\n",
        "train_s=hstack((X_train,X_train_len))\n",
        "test_s=hstack((X_test,X_test_len))"
      ]
    },
    {
      "cell_type": "code",
      "execution_count": null,
      "metadata": {
        "id": "hWEpqy0Z4K9Q"
      },
      "outputs": [],
      "source": [
        "y = df[['label']]"
      ]
    },
    {
      "cell_type": "code",
      "execution_count": null,
      "metadata": {
        "colab": {
          "base_uri": "https://localhost:8080/"
        },
        "id": "X1CCQEmv4O_Z",
        "outputId": "ce470f19-8a2c-47b6-d00d-0f3fff71e532"
      },
      "outputs": [
        {
          "output_type": "stream",
          "name": "stdout",
          "text": [
            "(5999846, 97422) (5999846, 1)\n",
            "(4000000, 97422)\n"
          ]
        }
      ],
      "source": [
        "print(train_s.shape,y.shape)\n",
        "print(test_s.shape)"
      ]
    },
    {
      "cell_type": "code",
      "execution_count": null,
      "metadata": {
        "id": "jqfkBy4d4VSq"
      },
      "outputs": [],
      "source": [
        "params_lgb = {\n",
        "    \"n_estimators\": 1000,\n",
        "    \"verbose\": -1\n",
        "}"
      ]
    },
    {
      "cell_type": "code",
      "execution_count": null,
      "metadata": {
        "colab": {
          "base_uri": "https://localhost:8080/"
        },
        "id": "_z53v-494ZLI",
        "outputId": "860d3d96-2a09-4d93-ea16-2dcf8bb00139"
      },
      "outputs": [
        {
          "output_type": "stream",
          "name": "stderr",
          "text": [
            "/usr/local/lib/python3.7/dist-packages/sklearn/preprocessing/_label.py:98: DataConversionWarning: A column-vector y was passed when a 1d array was expected. Please change the shape of y to (n_samples, ), for example using ravel().\n",
            "  y = column_or_1d(y, warn=True)\n",
            "/usr/local/lib/python3.7/dist-packages/sklearn/preprocessing/_label.py:133: DataConversionWarning: A column-vector y was passed when a 1d array was expected. Please change the shape of y to (n_samples, ), for example using ravel().\n",
            "  y = column_or_1d(y, warn=True)\n"
          ]
        },
        {
          "output_type": "execute_result",
          "data": {
            "text/plain": [
              "LGBMClassifier(random_state=42)"
            ]
          },
          "metadata": {},
          "execution_count": 13
        }
      ],
      "source": [
        "model = LGBMClassifier(random_state=42)\n",
        "model.fit(train_s, y)"
      ]
    },
    {
      "cell_type": "code",
      "execution_count": null,
      "metadata": {
        "colab": {
          "base_uri": "https://localhost:8080/"
        },
        "id": "ejj7E6Q44fKB",
        "outputId": "3d23fea5-1e95-4958-f3e8-db8c9e8e12cb"
      },
      "outputs": [
        {
          "output_type": "stream",
          "name": "stderr",
          "text": [
            "/usr/local/lib/python3.7/dist-packages/lightgbm/basic.py:478: UserWarning: Converting data to scipy sparse matrix.\n",
            "  warnings.warn('Converting data to scipy sparse matrix.')\n"
          ]
        }
      ],
      "source": [
        "first_pred_1 = model.predict_proba(train_s)"
      ]
    },
    {
      "cell_type": "code",
      "source": [
        "first_pred_1[:, 0]"
      ],
      "metadata": {
        "colab": {
          "base_uri": "https://localhost:8080/"
        },
        "id": "NTbxZcdgsqRG",
        "outputId": "bbe59f00-a636-4b51-c728-2d6423f5d28d"
      },
      "execution_count": null,
      "outputs": [
        {
          "output_type": "execute_result",
          "data": {
            "text/plain": [
              "array([0.9731669 , 0.97856533, 0.97287654, ..., 0.9795477 , 0.97348808,\n",
              "       0.97342184])"
            ]
          },
          "metadata": {},
          "execution_count": 15
        }
      ]
    },
    {
      "cell_type": "code",
      "source": [
        "first_pred_1[:, 1]"
      ],
      "metadata": {
        "colab": {
          "base_uri": "https://localhost:8080/"
        },
        "id": "3T_EY__l8hhK",
        "outputId": "6b426564-ed75-4711-934c-7ce2cb8218b8"
      },
      "execution_count": null,
      "outputs": [
        {
          "output_type": "execute_result",
          "data": {
            "text/plain": [
              "array([0.0268331 , 0.02143467, 0.02712346, ..., 0.0204523 , 0.02651192,\n",
              "       0.02657816])"
            ]
          },
          "metadata": {},
          "execution_count": 16
        }
      ]
    },
    {
      "cell_type": "code",
      "execution_count": null,
      "metadata": {
        "id": "5ESx36Zk4hZH"
      },
      "outputs": [],
      "source": [
        "df['first_pred_1'] = first_pred_1[:, 0]\n",
        "df['first_pred_2'] = first_pred_1[:, 1]\n"
      ]
    },
    {
      "cell_type": "code",
      "execution_count": null,
      "metadata": {
        "id": "Cp4dRhTX4kin"
      },
      "outputs": [],
      "source": [
        "test_pred_1 = model.predict_proba(test_s)"
      ]
    },
    {
      "cell_type": "code",
      "execution_count": null,
      "metadata": {
        "id": "703pBXUA4lAP"
      },
      "outputs": [],
      "source": [
        "test['first_pred_1'] = test_pred_1[:, 0]\n",
        "test['first_pred_2'] = test_pred_1[:, 1]"
      ]
    },
    {
      "cell_type": "code",
      "execution_count": null,
      "metadata": {
        "id": "iy8bgs9X6QLw"
      },
      "outputs": [],
      "source": [
        "df.to_pickle('df.pkl')"
      ]
    },
    {
      "cell_type": "code",
      "execution_count": null,
      "metadata": {
        "id": "ulTAemH66X03"
      },
      "outputs": [],
      "source": [
        "test.to_pickle('test.pkl')"
      ]
    },
    {
      "cell_type": "code",
      "execution_count": null,
      "metadata": {
        "id": "hfYnMtIq6Qep"
      },
      "outputs": [],
      "source": [
        "!cp 'df.pkl' '/content/drive/MyDrive/post/'"
      ]
    },
    {
      "cell_type": "code",
      "execution_count": null,
      "metadata": {
        "id": "Q8GAC0s-6Qep"
      },
      "outputs": [],
      "source": [
        "!cp 'test.pkl' '/content/drive/MyDrive/post/'"
      ]
    },
    {
      "cell_type": "markdown",
      "metadata": {
        "id": "WIFh_dnOhj1V"
      },
      "source": [
        "## ML"
      ]
    },
    {
      "cell_type": "code",
      "source": [
        "drive.mount('/content/drive/')"
      ],
      "metadata": {
        "colab": {
          "base_uri": "https://localhost:8080/"
        },
        "id": "rTJ940R8a6oj",
        "outputId": "e813f9e5-5f47-4b3d-f449-ceeffadb06f0"
      },
      "execution_count": null,
      "outputs": [
        {
          "output_type": "stream",
          "name": "stdout",
          "text": [
            "Drive already mounted at /content/drive/; to attempt to forcibly remount, call drive.mount(\"/content/drive/\", force_remount=True).\n"
          ]
        }
      ]
    },
    {
      "cell_type": "code",
      "execution_count": null,
      "metadata": {
        "id": "_CFGCPLx1rit"
      },
      "outputs": [],
      "source": [
        "df = pd.read_pickle(\"/content/drive/My Drive/post/df.pkl\")"
      ]
    },
    {
      "cell_type": "code",
      "execution_count": null,
      "metadata": {
        "id": "6jzc73nb1rit"
      },
      "outputs": [],
      "source": [
        "test = pd.read_pickle(\"/content/drive/My Drive/post/test.pkl\")"
      ]
    },
    {
      "cell_type": "code",
      "source": [
        "df.info()"
      ],
      "metadata": {
        "colab": {
          "base_uri": "https://localhost:8080/"
        },
        "id": "VbiT8X8iSt_2",
        "outputId": "ab51d645-6c3b-4336-ec10-10cf6aa1325e"
      },
      "execution_count": null,
      "outputs": [
        {
          "output_type": "stream",
          "name": "stdout",
          "text": [
            "<class 'pandas.core.frame.DataFrame'>\n",
            "RangeIndex: 6000000 entries, 0 to 5999999\n",
            "Data columns (total 31 columns):\n",
            " #   Column                         Dtype  \n",
            "---  ------                         -----  \n",
            " 0   id                             int64  \n",
            " 1   oper_type + oper_attr          object \n",
            " 2   index_oper                     object \n",
            " 3   type                           object \n",
            " 4   priority                       float64\n",
            " 5   is_privatecategory             int64  \n",
            " 6   class                          float64\n",
            " 7   is_in_yandex                   int64  \n",
            " 8   is_return                      int64  \n",
            " 9   weight                         float64\n",
            " 10  mailtype                       float64\n",
            " 11  mailctg                        float64\n",
            " 12  directctg                      float64\n",
            " 13  transport_pay                  float64\n",
            " 14  postmark                       float64\n",
            " 15  name_mfi                       object \n",
            " 16  weight_mfi                     float64\n",
            " 17  price_mfi                      float64\n",
            " 18  dist_qty_oper_login_1          float64\n",
            " 19  total_qty_oper_login_1         float64\n",
            " 20  total_qty_oper_login_0         float64\n",
            " 21  total_qty_over_index_and_type  float64\n",
            " 22  total_qty_over_index           float64\n",
            " 23  is_wrong_sndr_name             int64  \n",
            " 24  is_wrong_rcpn_name             int64  \n",
            " 25  is_wrong_phone_number          int64  \n",
            " 26  is_wrong_address               int64  \n",
            " 27  label                          int64  \n",
            " 28  name_lemm                      object \n",
            " 29  oper_type                      object \n",
            " 30  oper_attr                      object \n",
            "dtypes: float64(15), int64(9), object(7)\n",
            "memory usage: 1.4+ GB\n"
          ]
        }
      ]
    },
    {
      "cell_type": "code",
      "source": [
        "df = df.drop(['name_lemm', 'oper_type + oper_attr'], axis=1)"
      ],
      "metadata": {
        "id": "LKBTtZIXilZb"
      },
      "execution_count": null,
      "outputs": []
    },
    {
      "cell_type": "code",
      "source": [
        "test = test.drop(['name_lemm', 'oper_type + oper_attr'], axis=1)"
      ],
      "metadata": {
        "id": "0vU2PFzPbI4s"
      },
      "execution_count": null,
      "outputs": []
    },
    {
      "cell_type": "code",
      "execution_count": null,
      "metadata": {
        "colab": {
          "base_uri": "https://localhost:8080/",
          "height": 334
        },
        "id": "l75hcdeB1vPp",
        "outputId": "bd80ff1b-8480-47ae-e5ae-173ade565443"
      },
      "outputs": [
        {
          "output_type": "execute_result",
          "data": {
            "text/plain": [
              "        id oper_type + oper_attr index_oper     type  priority  \\\n",
              "0  6818780               1043_-1   628629.0  Участок    7503.0   \n",
              "1  9907176               1023_-1   102976.0     ММПО    7503.0   \n",
              "2  3304275               1018_-1   620962.0      Цех    7503.0   \n",
              "3  9020937               1019_-1   344964.0      Цех    7503.0   \n",
              "4  3082311               1020_-1   629819.0  Участок    7503.0   \n",
              "\n",
              "   is_privatecategory  class  is_in_yandex  is_return  weight  ...  \\\n",
              "0                   0    0.0             1          0    87.0  ...   \n",
              "1                   0    0.0             0          0   107.0  ...   \n",
              "2                   0    0.0             1          0    50.0  ...   \n",
              "3                   0    0.0             1          0   416.0  ...   \n",
              "4                   0    0.0             1          0   795.0  ...   \n",
              "\n",
              "   dist_qty_oper_login_1  total_qty_oper_login_1  total_qty_oper_login_0  \\\n",
              "0                   42.0                720176.0                 58950.0   \n",
              "1                  914.0              48856658.0              83318932.0   \n",
              "2                   62.0               3246292.0               3233068.0   \n",
              "3                   55.0               2060928.0                653280.0   \n",
              "4                   16.0                316919.0                 27911.0   \n",
              "\n",
              "   total_qty_over_index_and_type  total_qty_over_index is_wrong_sndr_name  \\\n",
              "0                       779126.0             8290896.0                  0   \n",
              "1                    132175590.0           136819803.0                  0   \n",
              "2                      6479360.0            52708071.0                  0   \n",
              "3                      2714208.0            19562334.0                  0   \n",
              "4                       344830.0             4719186.0                  0   \n",
              "\n",
              "   is_wrong_rcpn_name  is_wrong_phone_number  is_wrong_address  label  \n",
              "0                   0                      0                 0      0  \n",
              "1                   0                      0                 0      0  \n",
              "2                   1                      0                 0      0  \n",
              "3                   0                      0                 0      0  \n",
              "4                   0                      0                 0      0  \n",
              "\n",
              "[5 rows x 28 columns]"
            ],
            "text/html": [
              "\n",
              "  <div id=\"df-faf8c068-eda2-4031-8aa4-bba9dc2b4cfd\">\n",
              "    <div class=\"colab-df-container\">\n",
              "      <div>\n",
              "<style scoped>\n",
              "    .dataframe tbody tr th:only-of-type {\n",
              "        vertical-align: middle;\n",
              "    }\n",
              "\n",
              "    .dataframe tbody tr th {\n",
              "        vertical-align: top;\n",
              "    }\n",
              "\n",
              "    .dataframe thead th {\n",
              "        text-align: right;\n",
              "    }\n",
              "</style>\n",
              "<table border=\"1\" class=\"dataframe\">\n",
              "  <thead>\n",
              "    <tr style=\"text-align: right;\">\n",
              "      <th></th>\n",
              "      <th>id</th>\n",
              "      <th>oper_type + oper_attr</th>\n",
              "      <th>index_oper</th>\n",
              "      <th>type</th>\n",
              "      <th>priority</th>\n",
              "      <th>is_privatecategory</th>\n",
              "      <th>class</th>\n",
              "      <th>is_in_yandex</th>\n",
              "      <th>is_return</th>\n",
              "      <th>weight</th>\n",
              "      <th>...</th>\n",
              "      <th>dist_qty_oper_login_1</th>\n",
              "      <th>total_qty_oper_login_1</th>\n",
              "      <th>total_qty_oper_login_0</th>\n",
              "      <th>total_qty_over_index_and_type</th>\n",
              "      <th>total_qty_over_index</th>\n",
              "      <th>is_wrong_sndr_name</th>\n",
              "      <th>is_wrong_rcpn_name</th>\n",
              "      <th>is_wrong_phone_number</th>\n",
              "      <th>is_wrong_address</th>\n",
              "      <th>label</th>\n",
              "    </tr>\n",
              "  </thead>\n",
              "  <tbody>\n",
              "    <tr>\n",
              "      <th>0</th>\n",
              "      <td>6818780</td>\n",
              "      <td>1043_-1</td>\n",
              "      <td>628629.0</td>\n",
              "      <td>Участок</td>\n",
              "      <td>7503.0</td>\n",
              "      <td>0</td>\n",
              "      <td>0.0</td>\n",
              "      <td>1</td>\n",
              "      <td>0</td>\n",
              "      <td>87.0</td>\n",
              "      <td>...</td>\n",
              "      <td>42.0</td>\n",
              "      <td>720176.0</td>\n",
              "      <td>58950.0</td>\n",
              "      <td>779126.0</td>\n",
              "      <td>8290896.0</td>\n",
              "      <td>0</td>\n",
              "      <td>0</td>\n",
              "      <td>0</td>\n",
              "      <td>0</td>\n",
              "      <td>0</td>\n",
              "    </tr>\n",
              "    <tr>\n",
              "      <th>1</th>\n",
              "      <td>9907176</td>\n",
              "      <td>1023_-1</td>\n",
              "      <td>102976.0</td>\n",
              "      <td>ММПО</td>\n",
              "      <td>7503.0</td>\n",
              "      <td>0</td>\n",
              "      <td>0.0</td>\n",
              "      <td>0</td>\n",
              "      <td>0</td>\n",
              "      <td>107.0</td>\n",
              "      <td>...</td>\n",
              "      <td>914.0</td>\n",
              "      <td>48856658.0</td>\n",
              "      <td>83318932.0</td>\n",
              "      <td>132175590.0</td>\n",
              "      <td>136819803.0</td>\n",
              "      <td>0</td>\n",
              "      <td>0</td>\n",
              "      <td>0</td>\n",
              "      <td>0</td>\n",
              "      <td>0</td>\n",
              "    </tr>\n",
              "    <tr>\n",
              "      <th>2</th>\n",
              "      <td>3304275</td>\n",
              "      <td>1018_-1</td>\n",
              "      <td>620962.0</td>\n",
              "      <td>Цех</td>\n",
              "      <td>7503.0</td>\n",
              "      <td>0</td>\n",
              "      <td>0.0</td>\n",
              "      <td>1</td>\n",
              "      <td>0</td>\n",
              "      <td>50.0</td>\n",
              "      <td>...</td>\n",
              "      <td>62.0</td>\n",
              "      <td>3246292.0</td>\n",
              "      <td>3233068.0</td>\n",
              "      <td>6479360.0</td>\n",
              "      <td>52708071.0</td>\n",
              "      <td>0</td>\n",
              "      <td>1</td>\n",
              "      <td>0</td>\n",
              "      <td>0</td>\n",
              "      <td>0</td>\n",
              "    </tr>\n",
              "    <tr>\n",
              "      <th>3</th>\n",
              "      <td>9020937</td>\n",
              "      <td>1019_-1</td>\n",
              "      <td>344964.0</td>\n",
              "      <td>Цех</td>\n",
              "      <td>7503.0</td>\n",
              "      <td>0</td>\n",
              "      <td>0.0</td>\n",
              "      <td>1</td>\n",
              "      <td>0</td>\n",
              "      <td>416.0</td>\n",
              "      <td>...</td>\n",
              "      <td>55.0</td>\n",
              "      <td>2060928.0</td>\n",
              "      <td>653280.0</td>\n",
              "      <td>2714208.0</td>\n",
              "      <td>19562334.0</td>\n",
              "      <td>0</td>\n",
              "      <td>0</td>\n",
              "      <td>0</td>\n",
              "      <td>0</td>\n",
              "      <td>0</td>\n",
              "    </tr>\n",
              "    <tr>\n",
              "      <th>4</th>\n",
              "      <td>3082311</td>\n",
              "      <td>1020_-1</td>\n",
              "      <td>629819.0</td>\n",
              "      <td>Участок</td>\n",
              "      <td>7503.0</td>\n",
              "      <td>0</td>\n",
              "      <td>0.0</td>\n",
              "      <td>1</td>\n",
              "      <td>0</td>\n",
              "      <td>795.0</td>\n",
              "      <td>...</td>\n",
              "      <td>16.0</td>\n",
              "      <td>316919.0</td>\n",
              "      <td>27911.0</td>\n",
              "      <td>344830.0</td>\n",
              "      <td>4719186.0</td>\n",
              "      <td>0</td>\n",
              "      <td>0</td>\n",
              "      <td>0</td>\n",
              "      <td>0</td>\n",
              "      <td>0</td>\n",
              "    </tr>\n",
              "  </tbody>\n",
              "</table>\n",
              "<p>5 rows × 28 columns</p>\n",
              "</div>\n",
              "      <button class=\"colab-df-convert\" onclick=\"convertToInteractive('df-faf8c068-eda2-4031-8aa4-bba9dc2b4cfd')\"\n",
              "              title=\"Convert this dataframe to an interactive table.\"\n",
              "              style=\"display:none;\">\n",
              "        \n",
              "  <svg xmlns=\"http://www.w3.org/2000/svg\" height=\"24px\"viewBox=\"0 0 24 24\"\n",
              "       width=\"24px\">\n",
              "    <path d=\"M0 0h24v24H0V0z\" fill=\"none\"/>\n",
              "    <path d=\"M18.56 5.44l.94 2.06.94-2.06 2.06-.94-2.06-.94-.94-2.06-.94 2.06-2.06.94zm-11 1L8.5 8.5l.94-2.06 2.06-.94-2.06-.94L8.5 2.5l-.94 2.06-2.06.94zm10 10l.94 2.06.94-2.06 2.06-.94-2.06-.94-.94-2.06-.94 2.06-2.06.94z\"/><path d=\"M17.41 7.96l-1.37-1.37c-.4-.4-.92-.59-1.43-.59-.52 0-1.04.2-1.43.59L10.3 9.45l-7.72 7.72c-.78.78-.78 2.05 0 2.83L4 21.41c.39.39.9.59 1.41.59.51 0 1.02-.2 1.41-.59l7.78-7.78 2.81-2.81c.8-.78.8-2.07 0-2.86zM5.41 20L4 18.59l7.72-7.72 1.47 1.35L5.41 20z\"/>\n",
              "  </svg>\n",
              "      </button>\n",
              "      \n",
              "  <style>\n",
              "    .colab-df-container {\n",
              "      display:flex;\n",
              "      flex-wrap:wrap;\n",
              "      gap: 12px;\n",
              "    }\n",
              "\n",
              "    .colab-df-convert {\n",
              "      background-color: #E8F0FE;\n",
              "      border: none;\n",
              "      border-radius: 50%;\n",
              "      cursor: pointer;\n",
              "      display: none;\n",
              "      fill: #1967D2;\n",
              "      height: 32px;\n",
              "      padding: 0 0 0 0;\n",
              "      width: 32px;\n",
              "    }\n",
              "\n",
              "    .colab-df-convert:hover {\n",
              "      background-color: #E2EBFA;\n",
              "      box-shadow: 0px 1px 2px rgba(60, 64, 67, 0.3), 0px 1px 3px 1px rgba(60, 64, 67, 0.15);\n",
              "      fill: #174EA6;\n",
              "    }\n",
              "\n",
              "    [theme=dark] .colab-df-convert {\n",
              "      background-color: #3B4455;\n",
              "      fill: #D2E3FC;\n",
              "    }\n",
              "\n",
              "    [theme=dark] .colab-df-convert:hover {\n",
              "      background-color: #434B5C;\n",
              "      box-shadow: 0px 1px 3px 1px rgba(0, 0, 0, 0.15);\n",
              "      filter: drop-shadow(0px 1px 2px rgba(0, 0, 0, 0.3));\n",
              "      fill: #FFFFFF;\n",
              "    }\n",
              "  </style>\n",
              "\n",
              "      <script>\n",
              "        const buttonEl =\n",
              "          document.querySelector('#df-faf8c068-eda2-4031-8aa4-bba9dc2b4cfd button.colab-df-convert');\n",
              "        buttonEl.style.display =\n",
              "          google.colab.kernel.accessAllowed ? 'block' : 'none';\n",
              "\n",
              "        async function convertToInteractive(key) {\n",
              "          const element = document.querySelector('#df-faf8c068-eda2-4031-8aa4-bba9dc2b4cfd');\n",
              "          const dataTable =\n",
              "            await google.colab.kernel.invokeFunction('convertToInteractive',\n",
              "                                                     [key], {});\n",
              "          if (!dataTable) return;\n",
              "\n",
              "          const docLinkHtml = 'Like what you see? Visit the ' +\n",
              "            '<a target=\"_blank\" href=https://colab.research.google.com/notebooks/data_table.ipynb>data table notebook</a>'\n",
              "            + ' to learn more about interactive tables.';\n",
              "          element.innerHTML = '';\n",
              "          dataTable['output_type'] = 'display_data';\n",
              "          await google.colab.output.renderOutput(dataTable, element);\n",
              "          const docLink = document.createElement('div');\n",
              "          docLink.innerHTML = docLinkHtml;\n",
              "          element.appendChild(docLink);\n",
              "        }\n",
              "      </script>\n",
              "    </div>\n",
              "  </div>\n",
              "  "
            ]
          },
          "metadata": {},
          "execution_count": 56
        }
      ],
      "source": [
        "df.head()"
      ]
    },
    {
      "cell_type": "code",
      "execution_count": null,
      "metadata": {
        "colab": {
          "base_uri": "https://localhost:8080/",
          "height": 300
        },
        "id": "lKRN3O3g1wyw",
        "outputId": "8e36c620-f0ee-41c9-afde-7f64511eccb6"
      },
      "outputs": [
        {
          "output_type": "execute_result",
          "data": {
            "text/plain": [
              "        id  index_oper  type  priority  is_privatecategory  class  \\\n",
              "0  7815282    102976.0  ММПО    7503.0                   0    0.0   \n",
              "1  8443555    238753.0  ГОПС    7503.0                   0    4.0   \n",
              "2  6352559    618254.0  ГОПС    7503.0                   0    4.0   \n",
              "3  4921420    102968.0    ТИ    7503.0                   0    0.0   \n",
              "4  1420440    102971.0   Цех    7506.0                   0    0.0   \n",
              "\n",
              "   is_in_yandex  is_return  weight  mailtype  ...  \\\n",
              "0             0          0    85.0       5.0  ...   \n",
              "1             1          0    21.0       5.0  ...   \n",
              "2             1          0   388.0       5.0  ...   \n",
              "3             0          0  1203.0       5.0  ...   \n",
              "4             0          0   956.0       5.0  ...   \n",
              "\n",
              "   total_qty_over_index_and_type  total_qty_over_index  is_wrong_sndr_name  \\\n",
              "0                    159889293.0           164927295.0                   0   \n",
              "1                         4440.0               20623.0                   0   \n",
              "2                         3744.0               37817.0                   0   \n",
              "3                     11646942.0            11759329.0                   0   \n",
              "4                     76146936.0            84110459.0                   0   \n",
              "\n",
              "   is_wrong_rcpn_name is_wrong_phone_number  is_wrong_address  oper_type  \\\n",
              "0                   0                     0                 0          8   \n",
              "1                   1                     1                 0          8   \n",
              "2                   0                     0                 0       1020   \n",
              "3                   1                     0                 0       1016   \n",
              "4                   1                     0                 0       1018   \n",
              "\n",
              "   oper_attr  name_mfi_len  first_pred_1  \n",
              "0         13             4      0.986382  \n",
              "1          2             3      0.973488  \n",
              "2         -1             1      0.979799  \n",
              "3         -1             1      0.973488  \n",
              "4         -1             3      0.981638  \n",
              "\n",
              "[5 rows x 30 columns]"
            ],
            "text/html": [
              "\n",
              "  <div id=\"df-4d2bc5d8-33b1-4c4c-8655-2007da50a233\">\n",
              "    <div class=\"colab-df-container\">\n",
              "      <div>\n",
              "<style scoped>\n",
              "    .dataframe tbody tr th:only-of-type {\n",
              "        vertical-align: middle;\n",
              "    }\n",
              "\n",
              "    .dataframe tbody tr th {\n",
              "        vertical-align: top;\n",
              "    }\n",
              "\n",
              "    .dataframe thead th {\n",
              "        text-align: right;\n",
              "    }\n",
              "</style>\n",
              "<table border=\"1\" class=\"dataframe\">\n",
              "  <thead>\n",
              "    <tr style=\"text-align: right;\">\n",
              "      <th></th>\n",
              "      <th>id</th>\n",
              "      <th>index_oper</th>\n",
              "      <th>type</th>\n",
              "      <th>priority</th>\n",
              "      <th>is_privatecategory</th>\n",
              "      <th>class</th>\n",
              "      <th>is_in_yandex</th>\n",
              "      <th>is_return</th>\n",
              "      <th>weight</th>\n",
              "      <th>mailtype</th>\n",
              "      <th>...</th>\n",
              "      <th>total_qty_over_index_and_type</th>\n",
              "      <th>total_qty_over_index</th>\n",
              "      <th>is_wrong_sndr_name</th>\n",
              "      <th>is_wrong_rcpn_name</th>\n",
              "      <th>is_wrong_phone_number</th>\n",
              "      <th>is_wrong_address</th>\n",
              "      <th>oper_type</th>\n",
              "      <th>oper_attr</th>\n",
              "      <th>name_mfi_len</th>\n",
              "      <th>first_pred_1</th>\n",
              "    </tr>\n",
              "  </thead>\n",
              "  <tbody>\n",
              "    <tr>\n",
              "      <th>0</th>\n",
              "      <td>7815282</td>\n",
              "      <td>102976.0</td>\n",
              "      <td>ММПО</td>\n",
              "      <td>7503.0</td>\n",
              "      <td>0</td>\n",
              "      <td>0.0</td>\n",
              "      <td>0</td>\n",
              "      <td>0</td>\n",
              "      <td>85.0</td>\n",
              "      <td>5.0</td>\n",
              "      <td>...</td>\n",
              "      <td>159889293.0</td>\n",
              "      <td>164927295.0</td>\n",
              "      <td>0</td>\n",
              "      <td>0</td>\n",
              "      <td>0</td>\n",
              "      <td>0</td>\n",
              "      <td>8</td>\n",
              "      <td>13</td>\n",
              "      <td>4</td>\n",
              "      <td>0.986382</td>\n",
              "    </tr>\n",
              "    <tr>\n",
              "      <th>1</th>\n",
              "      <td>8443555</td>\n",
              "      <td>238753.0</td>\n",
              "      <td>ГОПС</td>\n",
              "      <td>7503.0</td>\n",
              "      <td>0</td>\n",
              "      <td>4.0</td>\n",
              "      <td>1</td>\n",
              "      <td>0</td>\n",
              "      <td>21.0</td>\n",
              "      <td>5.0</td>\n",
              "      <td>...</td>\n",
              "      <td>4440.0</td>\n",
              "      <td>20623.0</td>\n",
              "      <td>0</td>\n",
              "      <td>1</td>\n",
              "      <td>1</td>\n",
              "      <td>0</td>\n",
              "      <td>8</td>\n",
              "      <td>2</td>\n",
              "      <td>3</td>\n",
              "      <td>0.973488</td>\n",
              "    </tr>\n",
              "    <tr>\n",
              "      <th>2</th>\n",
              "      <td>6352559</td>\n",
              "      <td>618254.0</td>\n",
              "      <td>ГОПС</td>\n",
              "      <td>7503.0</td>\n",
              "      <td>0</td>\n",
              "      <td>4.0</td>\n",
              "      <td>1</td>\n",
              "      <td>0</td>\n",
              "      <td>388.0</td>\n",
              "      <td>5.0</td>\n",
              "      <td>...</td>\n",
              "      <td>3744.0</td>\n",
              "      <td>37817.0</td>\n",
              "      <td>0</td>\n",
              "      <td>0</td>\n",
              "      <td>0</td>\n",
              "      <td>0</td>\n",
              "      <td>1020</td>\n",
              "      <td>-1</td>\n",
              "      <td>1</td>\n",
              "      <td>0.979799</td>\n",
              "    </tr>\n",
              "    <tr>\n",
              "      <th>3</th>\n",
              "      <td>4921420</td>\n",
              "      <td>102968.0</td>\n",
              "      <td>ТИ</td>\n",
              "      <td>7503.0</td>\n",
              "      <td>0</td>\n",
              "      <td>0.0</td>\n",
              "      <td>0</td>\n",
              "      <td>0</td>\n",
              "      <td>1203.0</td>\n",
              "      <td>5.0</td>\n",
              "      <td>...</td>\n",
              "      <td>11646942.0</td>\n",
              "      <td>11759329.0</td>\n",
              "      <td>0</td>\n",
              "      <td>1</td>\n",
              "      <td>0</td>\n",
              "      <td>0</td>\n",
              "      <td>1016</td>\n",
              "      <td>-1</td>\n",
              "      <td>1</td>\n",
              "      <td>0.973488</td>\n",
              "    </tr>\n",
              "    <tr>\n",
              "      <th>4</th>\n",
              "      <td>1420440</td>\n",
              "      <td>102971.0</td>\n",
              "      <td>Цех</td>\n",
              "      <td>7506.0</td>\n",
              "      <td>0</td>\n",
              "      <td>0.0</td>\n",
              "      <td>0</td>\n",
              "      <td>0</td>\n",
              "      <td>956.0</td>\n",
              "      <td>5.0</td>\n",
              "      <td>...</td>\n",
              "      <td>76146936.0</td>\n",
              "      <td>84110459.0</td>\n",
              "      <td>0</td>\n",
              "      <td>1</td>\n",
              "      <td>0</td>\n",
              "      <td>0</td>\n",
              "      <td>1018</td>\n",
              "      <td>-1</td>\n",
              "      <td>3</td>\n",
              "      <td>0.981638</td>\n",
              "    </tr>\n",
              "  </tbody>\n",
              "</table>\n",
              "<p>5 rows × 30 columns</p>\n",
              "</div>\n",
              "      <button class=\"colab-df-convert\" onclick=\"convertToInteractive('df-4d2bc5d8-33b1-4c4c-8655-2007da50a233')\"\n",
              "              title=\"Convert this dataframe to an interactive table.\"\n",
              "              style=\"display:none;\">\n",
              "        \n",
              "  <svg xmlns=\"http://www.w3.org/2000/svg\" height=\"24px\"viewBox=\"0 0 24 24\"\n",
              "       width=\"24px\">\n",
              "    <path d=\"M0 0h24v24H0V0z\" fill=\"none\"/>\n",
              "    <path d=\"M18.56 5.44l.94 2.06.94-2.06 2.06-.94-2.06-.94-.94-2.06-.94 2.06-2.06.94zm-11 1L8.5 8.5l.94-2.06 2.06-.94-2.06-.94L8.5 2.5l-.94 2.06-2.06.94zm10 10l.94 2.06.94-2.06 2.06-.94-2.06-.94-.94-2.06-.94 2.06-2.06.94z\"/><path d=\"M17.41 7.96l-1.37-1.37c-.4-.4-.92-.59-1.43-.59-.52 0-1.04.2-1.43.59L10.3 9.45l-7.72 7.72c-.78.78-.78 2.05 0 2.83L4 21.41c.39.39.9.59 1.41.59.51 0 1.02-.2 1.41-.59l7.78-7.78 2.81-2.81c.8-.78.8-2.07 0-2.86zM5.41 20L4 18.59l7.72-7.72 1.47 1.35L5.41 20z\"/>\n",
              "  </svg>\n",
              "      </button>\n",
              "      \n",
              "  <style>\n",
              "    .colab-df-container {\n",
              "      display:flex;\n",
              "      flex-wrap:wrap;\n",
              "      gap: 12px;\n",
              "    }\n",
              "\n",
              "    .colab-df-convert {\n",
              "      background-color: #E8F0FE;\n",
              "      border: none;\n",
              "      border-radius: 50%;\n",
              "      cursor: pointer;\n",
              "      display: none;\n",
              "      fill: #1967D2;\n",
              "      height: 32px;\n",
              "      padding: 0 0 0 0;\n",
              "      width: 32px;\n",
              "    }\n",
              "\n",
              "    .colab-df-convert:hover {\n",
              "      background-color: #E2EBFA;\n",
              "      box-shadow: 0px 1px 2px rgba(60, 64, 67, 0.3), 0px 1px 3px 1px rgba(60, 64, 67, 0.15);\n",
              "      fill: #174EA6;\n",
              "    }\n",
              "\n",
              "    [theme=dark] .colab-df-convert {\n",
              "      background-color: #3B4455;\n",
              "      fill: #D2E3FC;\n",
              "    }\n",
              "\n",
              "    [theme=dark] .colab-df-convert:hover {\n",
              "      background-color: #434B5C;\n",
              "      box-shadow: 0px 1px 3px 1px rgba(0, 0, 0, 0.15);\n",
              "      filter: drop-shadow(0px 1px 2px rgba(0, 0, 0, 0.3));\n",
              "      fill: #FFFFFF;\n",
              "    }\n",
              "  </style>\n",
              "\n",
              "      <script>\n",
              "        const buttonEl =\n",
              "          document.querySelector('#df-4d2bc5d8-33b1-4c4c-8655-2007da50a233 button.colab-df-convert');\n",
              "        buttonEl.style.display =\n",
              "          google.colab.kernel.accessAllowed ? 'block' : 'none';\n",
              "\n",
              "        async function convertToInteractive(key) {\n",
              "          const element = document.querySelector('#df-4d2bc5d8-33b1-4c4c-8655-2007da50a233');\n",
              "          const dataTable =\n",
              "            await google.colab.kernel.invokeFunction('convertToInteractive',\n",
              "                                                     [key], {});\n",
              "          if (!dataTable) return;\n",
              "\n",
              "          const docLinkHtml = 'Like what you see? Visit the ' +\n",
              "            '<a target=\"_blank\" href=https://colab.research.google.com/notebooks/data_table.ipynb>data table notebook</a>'\n",
              "            + ' to learn more about interactive tables.';\n",
              "          element.innerHTML = '';\n",
              "          dataTable['output_type'] = 'display_data';\n",
              "          await google.colab.output.renderOutput(dataTable, element);\n",
              "          const docLink = document.createElement('div');\n",
              "          docLink.innerHTML = docLinkHtml;\n",
              "          element.appendChild(docLink);\n",
              "        }\n",
              "      </script>\n",
              "    </div>\n",
              "  </div>\n",
              "  "
            ]
          },
          "metadata": {},
          "execution_count": 10
        }
      ],
      "source": [
        "test.head()"
      ]
    },
    {
      "cell_type": "code",
      "source": [
        "df.info()"
      ],
      "metadata": {
        "id": "A3cGnudC1WIc",
        "colab": {
          "base_uri": "https://localhost:8080/"
        },
        "outputId": "47042c0c-f3bd-4c4d-b159-fb78d11ec211"
      },
      "execution_count": null,
      "outputs": [
        {
          "output_type": "stream",
          "name": "stdout",
          "text": [
            "<class 'pandas.core.frame.DataFrame'>\n",
            "RangeIndex: 6000000 entries, 0 to 5999999\n",
            "Data columns (total 28 columns):\n",
            " #   Column                         Dtype  \n",
            "---  ------                         -----  \n",
            " 0   id                             int64  \n",
            " 1   oper_type + oper_attr          object \n",
            " 2   index_oper                     object \n",
            " 3   type                           object \n",
            " 4   priority                       float64\n",
            " 5   is_privatecategory             int64  \n",
            " 6   class                          float64\n",
            " 7   is_in_yandex                   int64  \n",
            " 8   is_return                      int64  \n",
            " 9   weight                         float64\n",
            " 10  mailtype                       float64\n",
            " 11  mailctg                        float64\n",
            " 12  directctg                      float64\n",
            " 13  transport_pay                  float64\n",
            " 14  postmark                       float64\n",
            " 15  name_mfi                       object \n",
            " 16  weight_mfi                     float64\n",
            " 17  price_mfi                      float64\n",
            " 18  dist_qty_oper_login_1          float64\n",
            " 19  total_qty_oper_login_1         float64\n",
            " 20  total_qty_oper_login_0         float64\n",
            " 21  total_qty_over_index_and_type  float64\n",
            " 22  total_qty_over_index           float64\n",
            " 23  is_wrong_sndr_name             int64  \n",
            " 24  is_wrong_rcpn_name             int64  \n",
            " 25  is_wrong_phone_number          int64  \n",
            " 26  is_wrong_address               int64  \n",
            " 27  label                          int64  \n",
            "dtypes: float64(15), int64(9), object(4)\n",
            "memory usage: 1.3+ GB\n"
          ]
        }
      ]
    },
    {
      "cell_type": "code",
      "source": [
        "df['first_pred_1'].describe()"
      ],
      "metadata": {
        "colab": {
          "base_uri": "https://localhost:8080/"
        },
        "id": "fo9AxEcejsf5",
        "outputId": "b071f6be-5358-43f1-c36d-34228103b255"
      },
      "execution_count": null,
      "outputs": [
        {
          "output_type": "execute_result",
          "data": {
            "text/plain": [
              "count    6.000000e+06\n",
              "mean     9.715020e-01\n",
              "std      9.850528e-03\n",
              "min      4.361464e-01\n",
              "25%      9.704499e-01\n",
              "50%      9.734881e-01\n",
              "75%      9.747157e-01\n",
              "max      9.941265e-01\n",
              "Name: first_pred_1, dtype: float64"
            ]
          },
          "metadata": {},
          "execution_count": 12
        }
      ]
    },
    {
      "cell_type": "code",
      "execution_count": null,
      "metadata": {
        "id": "Fp0Uj81ttx7t"
      },
      "outputs": [],
      "source": [
        "X = df.drop(['label'], axis = 1)\n",
        "y = df[\"label\"]"
      ]
    },
    {
      "cell_type": "code",
      "execution_count": null,
      "metadata": {
        "id": "NfIOX9Lbik_i"
      },
      "outputs": [],
      "source": [
        "X_train, X_test, y_train, y_test = train_test_split(X, y, test_size=0.3, random_state=42)"
      ]
    },
    {
      "cell_type": "markdown",
      "metadata": {
        "id": "60NotS9ehbO5"
      },
      "source": [
        "## Обучение модели"
      ]
    },
    {
      "cell_type": "code",
      "execution_count": null,
      "metadata": {
        "id": "seeVX016uZAi"
      },
      "outputs": [],
      "source": [
        "cat_features = ['type', 'oper_type', 'oper_attr', 'index_oper', 'name_mfi']\n",
        "text_features = ['name_mfi']"
      ]
    },
    {
      "cell_type": "code",
      "execution_count": null,
      "metadata": {
        "id": "FPljUxFVwX1T"
      },
      "outputs": [],
      "source": [
        "classes = np.unique(y)\n",
        "weights = compute_class_weight(class_weight='balanced', classes=classes, y=y)\n",
        "class_weights = dict(zip(classes, weights))"
      ]
    },
    {
      "cell_type": "code",
      "execution_count": null,
      "metadata": {
        "id": "pQVtY-JoyZfF"
      },
      "outputs": [],
      "source": [
        "model_cat = CatBoostClassifier(random_state=42, class_weights=class_weights, task_type=\"GPU\", cat_features=cat_features, iterations=500)"
      ]
    },
    {
      "cell_type": "code",
      "execution_count": null,
      "metadata": {
        "colab": {
          "base_uri": "https://localhost:8080/"
        },
        "id": "zYFLw57eybht",
        "outputId": "2579fbba-4adb-4e02-8524-043bc6c28798"
      },
      "outputs": [
        {
          "output_type": "stream",
          "name": "stdout",
          "text": [
            "Learning rate set to 0.039648\n",
            "0:\tlearn: 0.6094409\ttotal: 554ms\tremaining: 4m 36s\n",
            "1:\tlearn: 0.5385367\ttotal: 1.13s\tremaining: 4m 40s\n",
            "2:\tlearn: 0.4810099\ttotal: 1.68s\tremaining: 4m 37s\n",
            "3:\tlearn: 0.4300369\ttotal: 2.21s\tremaining: 4m 33s\n",
            "4:\tlearn: 0.3864247\ttotal: 2.74s\tremaining: 4m 30s\n",
            "5:\tlearn: 0.3498167\ttotal: 3.28s\tremaining: 4m 30s\n",
            "6:\tlearn: 0.3194942\ttotal: 3.77s\tremaining: 4m 25s\n",
            "7:\tlearn: 0.2931966\ttotal: 4.3s\tremaining: 4m 24s\n",
            "8:\tlearn: 0.2671016\ttotal: 4.84s\tremaining: 4m 23s\n",
            "9:\tlearn: 0.2466440\ttotal: 5.39s\tremaining: 4m 24s\n",
            "10:\tlearn: 0.2282486\ttotal: 5.85s\tremaining: 4m 19s\n",
            "11:\tlearn: 0.2126170\ttotal: 6.41s\tremaining: 4m 20s\n",
            "12:\tlearn: 0.2001489\ttotal: 6.98s\tremaining: 4m 21s\n",
            "13:\tlearn: 0.1893499\ttotal: 7.53s\tremaining: 4m 21s\n",
            "14:\tlearn: 0.1798998\ttotal: 8.06s\tremaining: 4m 20s\n",
            "15:\tlearn: 0.1716751\ttotal: 8.61s\tremaining: 4m 20s\n",
            "16:\tlearn: 0.1636387\ttotal: 9.15s\tremaining: 4m 20s\n",
            "17:\tlearn: 0.1564247\ttotal: 9.66s\tremaining: 4m 18s\n",
            "18:\tlearn: 0.1506103\ttotal: 10.3s\tremaining: 4m 20s\n",
            "19:\tlearn: 0.1442481\ttotal: 10.8s\tremaining: 4m 19s\n",
            "20:\tlearn: 0.1388819\ttotal: 11.3s\tremaining: 4m 18s\n",
            "21:\tlearn: 0.1325103\ttotal: 11.8s\tremaining: 4m 17s\n",
            "22:\tlearn: 0.1293450\ttotal: 12.3s\tremaining: 4m 15s\n",
            "23:\tlearn: 0.1246721\ttotal: 12.8s\tremaining: 4m 12s\n",
            "24:\tlearn: 0.1222379\ttotal: 13.3s\tremaining: 4m 12s\n",
            "25:\tlearn: 0.1199083\ttotal: 13.9s\tremaining: 4m 13s\n",
            "26:\tlearn: 0.1177087\ttotal: 14.5s\tremaining: 4m 13s\n",
            "27:\tlearn: 0.1159915\ttotal: 15s\tremaining: 4m 12s\n",
            "28:\tlearn: 0.1142814\ttotal: 15.5s\tremaining: 4m 11s\n",
            "29:\tlearn: 0.1126022\ttotal: 16s\tremaining: 4m 11s\n",
            "30:\tlearn: 0.1114462\ttotal: 16.6s\tremaining: 4m 11s\n",
            "31:\tlearn: 0.1101974\ttotal: 17.1s\tremaining: 4m 10s\n",
            "32:\tlearn: 0.1087715\ttotal: 17.6s\tremaining: 4m 8s\n",
            "33:\tlearn: 0.1078448\ttotal: 18.2s\tremaining: 4m 8s\n",
            "34:\tlearn: 0.1060550\ttotal: 18.6s\tremaining: 4m 6s\n",
            "35:\tlearn: 0.1052826\ttotal: 19.1s\tremaining: 4m 6s\n",
            "36:\tlearn: 0.1036977\ttotal: 19.6s\tremaining: 4m 4s\n",
            "37:\tlearn: 0.1025259\ttotal: 20s\tremaining: 4m 2s\n",
            "38:\tlearn: 0.1018400\ttotal: 20.4s\tremaining: 4m 1s\n",
            "39:\tlearn: 0.1009679\ttotal: 20.8s\tremaining: 3m 59s\n",
            "40:\tlearn: 0.1002511\ttotal: 21.2s\tremaining: 3m 57s\n",
            "41:\tlearn: 0.0996026\ttotal: 21.7s\tremaining: 3m 56s\n",
            "42:\tlearn: 0.0987461\ttotal: 22.2s\tremaining: 3m 56s\n",
            "43:\tlearn: 0.0983435\ttotal: 22.8s\tremaining: 3m 56s\n",
            "44:\tlearn: 0.0979717\ttotal: 23.4s\tremaining: 3m 56s\n",
            "45:\tlearn: 0.0973779\ttotal: 23.8s\tremaining: 3m 54s\n",
            "46:\tlearn: 0.0968731\ttotal: 24.2s\tremaining: 3m 53s\n",
            "47:\tlearn: 0.0964941\ttotal: 24.7s\tremaining: 3m 52s\n",
            "48:\tlearn: 0.0961495\ttotal: 25.1s\tremaining: 3m 51s\n",
            "49:\tlearn: 0.0957895\ttotal: 25.7s\tremaining: 3m 50s\n",
            "50:\tlearn: 0.0954103\ttotal: 26.2s\tremaining: 3m 50s\n",
            "51:\tlearn: 0.0950718\ttotal: 26.8s\tremaining: 3m 50s\n",
            "52:\tlearn: 0.0947999\ttotal: 27.2s\tremaining: 3m 49s\n",
            "53:\tlearn: 0.0944830\ttotal: 27.6s\tremaining: 3m 48s\n",
            "54:\tlearn: 0.0942665\ttotal: 28.1s\tremaining: 3m 47s\n",
            "55:\tlearn: 0.0940756\ttotal: 28.6s\tremaining: 3m 46s\n",
            "56:\tlearn: 0.0939145\ttotal: 29.1s\tremaining: 3m 45s\n",
            "57:\tlearn: 0.0937386\ttotal: 29.5s\tremaining: 3m 44s\n",
            "58:\tlearn: 0.0936040\ttotal: 29.9s\tremaining: 3m 43s\n",
            "59:\tlearn: 0.0933467\ttotal: 30.4s\tremaining: 3m 43s\n",
            "60:\tlearn: 0.0928484\ttotal: 30.9s\tremaining: 3m 42s\n",
            "61:\tlearn: 0.0926685\ttotal: 31.3s\tremaining: 3m 41s\n",
            "62:\tlearn: 0.0924647\ttotal: 31.8s\tremaining: 3m 40s\n",
            "63:\tlearn: 0.0923251\ttotal: 32.3s\tremaining: 3m 40s\n",
            "64:\tlearn: 0.0919554\ttotal: 32.8s\tremaining: 3m 39s\n",
            "65:\tlearn: 0.0917896\ttotal: 33.4s\tremaining: 3m 39s\n",
            "66:\tlearn: 0.0916623\ttotal: 34s\tremaining: 3m 39s\n",
            "67:\tlearn: 0.0915442\ttotal: 34.5s\tremaining: 3m 39s\n",
            "68:\tlearn: 0.0914136\ttotal: 35s\tremaining: 3m 38s\n",
            "69:\tlearn: 0.0911323\ttotal: 35.9s\tremaining: 3m 40s\n",
            "70:\tlearn: 0.0909096\ttotal: 36.6s\tremaining: 3m 41s\n",
            "71:\tlearn: 0.0905815\ttotal: 37.4s\tremaining: 3m 42s\n",
            "72:\tlearn: 0.0903990\ttotal: 38.9s\tremaining: 3m 47s\n",
            "73:\tlearn: 0.0902492\ttotal: 39.7s\tremaining: 3m 48s\n",
            "74:\tlearn: 0.0900476\ttotal: 40.4s\tremaining: 3m 48s\n",
            "75:\tlearn: 0.0897926\ttotal: 41s\tremaining: 3m 48s\n",
            "76:\tlearn: 0.0895512\ttotal: 41.6s\tremaining: 3m 48s\n",
            "77:\tlearn: 0.0894107\ttotal: 42.1s\tremaining: 3m 47s\n",
            "78:\tlearn: 0.0892777\ttotal: 42.5s\tremaining: 3m 46s\n",
            "79:\tlearn: 0.0890733\ttotal: 42.9s\tremaining: 3m 45s\n",
            "80:\tlearn: 0.0889219\ttotal: 43.4s\tremaining: 3m 44s\n",
            "81:\tlearn: 0.0887062\ttotal: 43.9s\tremaining: 3m 43s\n",
            "82:\tlearn: 0.0885853\ttotal: 44.5s\tremaining: 3m 43s\n",
            "83:\tlearn: 0.0884172\ttotal: 44.9s\tremaining: 3m 42s\n",
            "84:\tlearn: 0.0883317\ttotal: 45.3s\tremaining: 3m 41s\n",
            "85:\tlearn: 0.0882242\ttotal: 46.2s\tremaining: 3m 42s\n",
            "86:\tlearn: 0.0881480\ttotal: 46.8s\tremaining: 3m 41s\n",
            "87:\tlearn: 0.0879573\ttotal: 47.5s\tremaining: 3m 42s\n",
            "88:\tlearn: 0.0878684\ttotal: 48.3s\tremaining: 3m 43s\n",
            "89:\tlearn: 0.0877867\ttotal: 48.9s\tremaining: 3m 42s\n",
            "90:\tlearn: 0.0876966\ttotal: 49.4s\tremaining: 3m 42s\n",
            "91:\tlearn: 0.0876238\ttotal: 49.9s\tremaining: 3m 41s\n",
            "92:\tlearn: 0.0875566\ttotal: 50.4s\tremaining: 3m 40s\n",
            "93:\tlearn: 0.0874752\ttotal: 50.8s\tremaining: 3m 39s\n",
            "94:\tlearn: 0.0874113\ttotal: 51.3s\tremaining: 3m 38s\n",
            "95:\tlearn: 0.0873612\ttotal: 51.8s\tremaining: 3m 37s\n",
            "96:\tlearn: 0.0872392\ttotal: 52.3s\tremaining: 3m 37s\n",
            "97:\tlearn: 0.0871887\ttotal: 52.8s\tremaining: 3m 36s\n",
            "98:\tlearn: 0.0870755\ttotal: 53.3s\tremaining: 3m 36s\n",
            "99:\tlearn: 0.0870369\ttotal: 53.8s\tremaining: 3m 35s\n",
            "100:\tlearn: 0.0869766\ttotal: 54.3s\tremaining: 3m 34s\n",
            "101:\tlearn: 0.0869398\ttotal: 54.8s\tremaining: 3m 34s\n",
            "102:\tlearn: 0.0868298\ttotal: 55.4s\tremaining: 3m 33s\n",
            "103:\tlearn: 0.0867261\ttotal: 55.9s\tremaining: 3m 32s\n",
            "104:\tlearn: 0.0866993\ttotal: 56.4s\tremaining: 3m 32s\n",
            "105:\tlearn: 0.0866470\ttotal: 57s\tremaining: 3m 31s\n",
            "106:\tlearn: 0.0865540\ttotal: 57.5s\tremaining: 3m 31s\n",
            "107:\tlearn: 0.0864486\ttotal: 58s\tremaining: 3m 30s\n",
            "108:\tlearn: 0.0864234\ttotal: 58.5s\tremaining: 3m 29s\n",
            "109:\tlearn: 0.0862642\ttotal: 58.9s\tremaining: 3m 28s\n",
            "110:\tlearn: 0.0862300\ttotal: 59.4s\tremaining: 3m 28s\n",
            "111:\tlearn: 0.0862019\ttotal: 59.9s\tremaining: 3m 27s\n",
            "112:\tlearn: 0.0860638\ttotal: 1m\tremaining: 3m 26s\n",
            "113:\tlearn: 0.0859848\ttotal: 1m\tremaining: 3m 25s\n",
            "114:\tlearn: 0.0859583\ttotal: 1m 1s\tremaining: 3m 24s\n",
            "115:\tlearn: 0.0858402\ttotal: 1m 1s\tremaining: 3m 23s\n",
            "116:\tlearn: 0.0857507\ttotal: 1m 2s\tremaining: 3m 23s\n",
            "117:\tlearn: 0.0856901\ttotal: 1m 2s\tremaining: 3m 22s\n",
            "118:\tlearn: 0.0856604\ttotal: 1m 3s\tremaining: 3m 22s\n",
            "119:\tlearn: 0.0856099\ttotal: 1m 3s\tremaining: 3m 21s\n",
            "120:\tlearn: 0.0855845\ttotal: 1m 4s\tremaining: 3m 20s\n",
            "121:\tlearn: 0.0855587\ttotal: 1m 4s\tremaining: 3m 20s\n",
            "122:\tlearn: 0.0854753\ttotal: 1m 5s\tremaining: 3m 20s\n",
            "123:\tlearn: 0.0853458\ttotal: 1m 5s\tremaining: 3m 19s\n",
            "124:\tlearn: 0.0853269\ttotal: 1m 6s\tremaining: 3m 19s\n",
            "125:\tlearn: 0.0852978\ttotal: 1m 6s\tremaining: 3m 18s\n",
            "126:\tlearn: 0.0852401\ttotal: 1m 7s\tremaining: 3m 18s\n",
            "127:\tlearn: 0.0851316\ttotal: 1m 7s\tremaining: 3m 17s\n",
            "128:\tlearn: 0.0850301\ttotal: 1m 8s\tremaining: 3m 16s\n",
            "129:\tlearn: 0.0850084\ttotal: 1m 8s\tremaining: 3m 16s\n",
            "130:\tlearn: 0.0849966\ttotal: 1m 9s\tremaining: 3m 15s\n",
            "131:\tlearn: 0.0849353\ttotal: 1m 9s\tremaining: 3m 14s\n",
            "132:\tlearn: 0.0848345\ttotal: 1m 10s\tremaining: 3m 13s\n",
            "133:\tlearn: 0.0848130\ttotal: 1m 10s\tremaining: 3m 13s\n",
            "134:\tlearn: 0.0847285\ttotal: 1m 11s\tremaining: 3m 12s\n",
            "135:\tlearn: 0.0846744\ttotal: 1m 11s\tremaining: 3m 12s\n",
            "136:\tlearn: 0.0845967\ttotal: 1m 12s\tremaining: 3m 11s\n",
            "137:\tlearn: 0.0845807\ttotal: 1m 12s\tremaining: 3m 11s\n",
            "138:\tlearn: 0.0844849\ttotal: 1m 13s\tremaining: 3m 10s\n",
            "139:\tlearn: 0.0844069\ttotal: 1m 14s\tremaining: 3m 10s\n",
            "140:\tlearn: 0.0843880\ttotal: 1m 14s\tremaining: 3m 9s\n",
            "141:\tlearn: 0.0843712\ttotal: 1m 15s\tremaining: 3m 9s\n",
            "142:\tlearn: 0.0842936\ttotal: 1m 15s\tremaining: 3m 8s\n",
            "143:\tlearn: 0.0842184\ttotal: 1m 15s\tremaining: 3m 7s\n",
            "144:\tlearn: 0.0841589\ttotal: 1m 16s\tremaining: 3m 7s\n",
            "145:\tlearn: 0.0841191\ttotal: 1m 17s\tremaining: 3m 7s\n",
            "146:\tlearn: 0.0840653\ttotal: 1m 17s\tremaining: 3m 7s\n",
            "147:\tlearn: 0.0840492\ttotal: 1m 18s\tremaining: 3m 6s\n",
            "148:\tlearn: 0.0839923\ttotal: 1m 18s\tremaining: 3m 5s\n",
            "149:\tlearn: 0.0839499\ttotal: 1m 19s\tremaining: 3m 5s\n",
            "150:\tlearn: 0.0838850\ttotal: 1m 20s\tremaining: 3m 5s\n",
            "151:\tlearn: 0.0838554\ttotal: 1m 20s\tremaining: 3m 4s\n",
            "152:\tlearn: 0.0837893\ttotal: 1m 21s\tremaining: 3m 3s\n",
            "153:\tlearn: 0.0837549\ttotal: 1m 21s\tremaining: 3m 3s\n",
            "154:\tlearn: 0.0837305\ttotal: 1m 22s\tremaining: 3m 2s\n",
            "155:\tlearn: 0.0836549\ttotal: 1m 22s\tremaining: 3m 2s\n",
            "156:\tlearn: 0.0836356\ttotal: 1m 23s\tremaining: 3m 1s\n",
            "157:\tlearn: 0.0835897\ttotal: 1m 23s\tremaining: 3m 1s\n",
            "158:\tlearn: 0.0835423\ttotal: 1m 24s\tremaining: 3m 1s\n",
            "159:\tlearn: 0.0835308\ttotal: 1m 25s\tremaining: 3m\n",
            "160:\tlearn: 0.0834491\ttotal: 1m 25s\tremaining: 2m 59s\n",
            "161:\tlearn: 0.0833945\ttotal: 1m 26s\tremaining: 2m 59s\n",
            "162:\tlearn: 0.0833774\ttotal: 1m 26s\tremaining: 2m 59s\n",
            "163:\tlearn: 0.0833660\ttotal: 1m 27s\tremaining: 2m 58s\n",
            "164:\tlearn: 0.0833405\ttotal: 1m 27s\tremaining: 2m 57s\n",
            "165:\tlearn: 0.0832850\ttotal: 1m 28s\tremaining: 2m 57s\n",
            "166:\tlearn: 0.0832426\ttotal: 1m 28s\tremaining: 2m 56s\n",
            "167:\tlearn: 0.0831170\ttotal: 1m 29s\tremaining: 2m 56s\n",
            "168:\tlearn: 0.0830180\ttotal: 1m 29s\tremaining: 2m 55s\n",
            "169:\tlearn: 0.0829935\ttotal: 1m 30s\tremaining: 2m 55s\n",
            "170:\tlearn: 0.0829676\ttotal: 1m 30s\tremaining: 2m 55s\n",
            "171:\tlearn: 0.0829284\ttotal: 1m 31s\tremaining: 2m 54s\n",
            "172:\tlearn: 0.0829169\ttotal: 1m 31s\tremaining: 2m 53s\n",
            "173:\tlearn: 0.0828735\ttotal: 1m 32s\tremaining: 2m 53s\n",
            "174:\tlearn: 0.0828201\ttotal: 1m 33s\tremaining: 2m 52s\n",
            "175:\tlearn: 0.0827994\ttotal: 1m 33s\tremaining: 2m 52s\n",
            "176:\tlearn: 0.0827679\ttotal: 1m 34s\tremaining: 2m 52s\n",
            "177:\tlearn: 0.0827363\ttotal: 1m 35s\tremaining: 2m 52s\n",
            "178:\tlearn: 0.0827015\ttotal: 1m 35s\tremaining: 2m 51s\n",
            "179:\tlearn: 0.0826716\ttotal: 1m 36s\tremaining: 2m 51s\n",
            "180:\tlearn: 0.0826423\ttotal: 1m 37s\tremaining: 2m 51s\n",
            "181:\tlearn: 0.0825900\ttotal: 1m 37s\tremaining: 2m 50s\n",
            "182:\tlearn: 0.0825696\ttotal: 1m 38s\tremaining: 2m 50s\n",
            "183:\tlearn: 0.0824813\ttotal: 1m 39s\tremaining: 2m 50s\n",
            "184:\tlearn: 0.0824496\ttotal: 1m 39s\tremaining: 2m 49s\n",
            "185:\tlearn: 0.0823586\ttotal: 1m 40s\tremaining: 2m 49s\n",
            "186:\tlearn: 0.0823353\ttotal: 1m 40s\tremaining: 2m 48s\n",
            "187:\tlearn: 0.0822254\ttotal: 1m 41s\tremaining: 2m 48s\n",
            "188:\tlearn: 0.0822137\ttotal: 1m 41s\tremaining: 2m 47s\n",
            "189:\tlearn: 0.0821911\ttotal: 1m 42s\tremaining: 2m 46s\n",
            "190:\tlearn: 0.0821671\ttotal: 1m 42s\tremaining: 2m 45s\n",
            "191:\tlearn: 0.0821461\ttotal: 1m 43s\tremaining: 2m 45s\n",
            "192:\tlearn: 0.0821389\ttotal: 1m 43s\tremaining: 2m 44s\n",
            "193:\tlearn: 0.0820278\ttotal: 1m 43s\tremaining: 2m 43s\n",
            "194:\tlearn: 0.0819945\ttotal: 1m 44s\tremaining: 2m 43s\n",
            "195:\tlearn: 0.0818705\ttotal: 1m 44s\tremaining: 2m 42s\n",
            "196:\tlearn: 0.0818435\ttotal: 1m 45s\tremaining: 2m 42s\n",
            "197:\tlearn: 0.0818247\ttotal: 1m 45s\tremaining: 2m 41s\n",
            "198:\tlearn: 0.0818148\ttotal: 1m 46s\tremaining: 2m 40s\n",
            "199:\tlearn: 0.0817245\ttotal: 1m 46s\tremaining: 2m 40s\n",
            "200:\tlearn: 0.0817170\ttotal: 1m 47s\tremaining: 2m 39s\n",
            "201:\tlearn: 0.0816842\ttotal: 1m 47s\tremaining: 2m 38s\n",
            "202:\tlearn: 0.0816756\ttotal: 1m 48s\tremaining: 2m 38s\n",
            "203:\tlearn: 0.0816617\ttotal: 1m 48s\tremaining: 2m 37s\n",
            "204:\tlearn: 0.0815734\ttotal: 1m 49s\tremaining: 2m 37s\n",
            "205:\tlearn: 0.0815606\ttotal: 1m 49s\tremaining: 2m 36s\n",
            "206:\tlearn: 0.0815446\ttotal: 1m 50s\tremaining: 2m 36s\n",
            "207:\tlearn: 0.0815241\ttotal: 1m 50s\tremaining: 2m 35s\n",
            "208:\tlearn: 0.0813321\ttotal: 1m 51s\tremaining: 2m 35s\n",
            "209:\tlearn: 0.0813247\ttotal: 1m 51s\tremaining: 2m 34s\n",
            "210:\tlearn: 0.0813052\ttotal: 1m 52s\tremaining: 2m 33s\n",
            "211:\tlearn: 0.0812549\ttotal: 1m 52s\tremaining: 2m 33s\n",
            "212:\tlearn: 0.0812463\ttotal: 1m 53s\tremaining: 2m 32s\n",
            "213:\tlearn: 0.0812210\ttotal: 1m 54s\tremaining: 2m 32s\n",
            "214:\tlearn: 0.0811502\ttotal: 1m 54s\tremaining: 2m 31s\n",
            "215:\tlearn: 0.0810618\ttotal: 1m 54s\tremaining: 2m 30s\n",
            "216:\tlearn: 0.0810046\ttotal: 1m 55s\tremaining: 2m 30s\n",
            "217:\tlearn: 0.0809749\ttotal: 1m 56s\tremaining: 2m 30s\n",
            "218:\tlearn: 0.0809550\ttotal: 1m 56s\tremaining: 2m 29s\n",
            "219:\tlearn: 0.0809349\ttotal: 1m 57s\tremaining: 2m 28s\n",
            "220:\tlearn: 0.0807944\ttotal: 1m 57s\tremaining: 2m 28s\n",
            "221:\tlearn: 0.0807706\ttotal: 1m 58s\tremaining: 2m 28s\n",
            "222:\tlearn: 0.0807602\ttotal: 1m 58s\tremaining: 2m 27s\n",
            "223:\tlearn: 0.0807337\ttotal: 1m 59s\tremaining: 2m 27s\n",
            "224:\tlearn: 0.0806597\ttotal: 1m 59s\tremaining: 2m 26s\n",
            "225:\tlearn: 0.0806351\ttotal: 2m\tremaining: 2m 25s\n",
            "226:\tlearn: 0.0806076\ttotal: 2m\tremaining: 2m 25s\n",
            "227:\tlearn: 0.0806018\ttotal: 2m 1s\tremaining: 2m 24s\n",
            "228:\tlearn: 0.0805679\ttotal: 2m 1s\tremaining: 2m 24s\n",
            "229:\tlearn: 0.0805584\ttotal: 2m 2s\tremaining: 2m 23s\n",
            "230:\tlearn: 0.0805459\ttotal: 2m 2s\tremaining: 2m 23s\n",
            "231:\tlearn: 0.0805040\ttotal: 2m 3s\tremaining: 2m 22s\n",
            "232:\tlearn: 0.0804906\ttotal: 2m 4s\tremaining: 2m 22s\n",
            "233:\tlearn: 0.0804579\ttotal: 2m 4s\tremaining: 2m 21s\n",
            "234:\tlearn: 0.0804430\ttotal: 2m 5s\tremaining: 2m 21s\n",
            "235:\tlearn: 0.0804380\ttotal: 2m 5s\tremaining: 2m 20s\n",
            "236:\tlearn: 0.0804274\ttotal: 2m 6s\tremaining: 2m 19s\n",
            "237:\tlearn: 0.0804261\ttotal: 2m 6s\tremaining: 2m 19s\n",
            "238:\tlearn: 0.0803861\ttotal: 2m 7s\tremaining: 2m 18s\n",
            "239:\tlearn: 0.0803643\ttotal: 2m 7s\tremaining: 2m 18s\n",
            "240:\tlearn: 0.0803622\ttotal: 2m 8s\tremaining: 2m 17s\n",
            "241:\tlearn: 0.0803457\ttotal: 2m 8s\tremaining: 2m 17s\n",
            "242:\tlearn: 0.0802797\ttotal: 2m 9s\tremaining: 2m 16s\n",
            "243:\tlearn: 0.0802652\ttotal: 2m 9s\tremaining: 2m 16s\n",
            "244:\tlearn: 0.0802012\ttotal: 2m 10s\tremaining: 2m 15s\n",
            "245:\tlearn: 0.0801967\ttotal: 2m 10s\tremaining: 2m 15s\n",
            "246:\tlearn: 0.0801764\ttotal: 2m 11s\tremaining: 2m 14s\n",
            "247:\tlearn: 0.0801589\ttotal: 2m 12s\tremaining: 2m 14s\n",
            "248:\tlearn: 0.0800910\ttotal: 2m 12s\tremaining: 2m 13s\n",
            "249:\tlearn: 0.0800650\ttotal: 2m 13s\tremaining: 2m 13s\n",
            "250:\tlearn: 0.0800559\ttotal: 2m 13s\tremaining: 2m 12s\n",
            "251:\tlearn: 0.0800499\ttotal: 2m 14s\tremaining: 2m 12s\n",
            "252:\tlearn: 0.0800422\ttotal: 2m 14s\tremaining: 2m 11s\n",
            "253:\tlearn: 0.0800239\ttotal: 2m 15s\tremaining: 2m 11s\n",
            "254:\tlearn: 0.0800064\ttotal: 2m 16s\tremaining: 2m 10s\n",
            "255:\tlearn: 0.0799911\ttotal: 2m 16s\tremaining: 2m 10s\n",
            "256:\tlearn: 0.0799829\ttotal: 2m 17s\tremaining: 2m 9s\n",
            "257:\tlearn: 0.0799430\ttotal: 2m 17s\tremaining: 2m 9s\n",
            "258:\tlearn: 0.0799308\ttotal: 2m 18s\tremaining: 2m 8s\n",
            "259:\tlearn: 0.0799293\ttotal: 2m 18s\tremaining: 2m 8s\n",
            "260:\tlearn: 0.0799249\ttotal: 2m 19s\tremaining: 2m 7s\n",
            "261:\tlearn: 0.0797826\ttotal: 2m 20s\tremaining: 2m 7s\n",
            "262:\tlearn: 0.0797700\ttotal: 2m 20s\tremaining: 2m 6s\n",
            "263:\tlearn: 0.0797541\ttotal: 2m 21s\tremaining: 2m 6s\n",
            "264:\tlearn: 0.0797253\ttotal: 2m 22s\tremaining: 2m 5s\n",
            "265:\tlearn: 0.0797235\ttotal: 2m 22s\tremaining: 2m 5s\n",
            "266:\tlearn: 0.0797086\ttotal: 2m 23s\tremaining: 2m 4s\n",
            "267:\tlearn: 0.0796930\ttotal: 2m 23s\tremaining: 2m 4s\n",
            "268:\tlearn: 0.0796358\ttotal: 2m 24s\tremaining: 2m 3s\n",
            "269:\tlearn: 0.0796346\ttotal: 2m 24s\tremaining: 2m 3s\n",
            "270:\tlearn: 0.0796296\ttotal: 2m 25s\tremaining: 2m 2s\n",
            "271:\tlearn: 0.0796256\ttotal: 2m 25s\tremaining: 2m 2s\n",
            "272:\tlearn: 0.0796187\ttotal: 2m 26s\tremaining: 2m 1s\n",
            "273:\tlearn: 0.0794967\ttotal: 2m 26s\tremaining: 2m\n",
            "274:\tlearn: 0.0794822\ttotal: 2m 27s\tremaining: 2m\n",
            "275:\tlearn: 0.0794581\ttotal: 2m 27s\tremaining: 2m\n",
            "276:\tlearn: 0.0794347\ttotal: 2m 28s\tremaining: 1m 59s\n",
            "277:\tlearn: 0.0794264\ttotal: 2m 28s\tremaining: 1m 58s\n",
            "278:\tlearn: 0.0794126\ttotal: 2m 29s\tremaining: 1m 58s\n",
            "279:\tlearn: 0.0793842\ttotal: 2m 30s\tremaining: 1m 58s\n",
            "280:\tlearn: 0.0793712\ttotal: 2m 30s\tremaining: 1m 57s\n",
            "281:\tlearn: 0.0793434\ttotal: 2m 31s\tremaining: 1m 56s\n",
            "282:\tlearn: 0.0793236\ttotal: 2m 31s\tremaining: 1m 56s\n",
            "283:\tlearn: 0.0793117\ttotal: 2m 32s\tremaining: 1m 55s\n",
            "284:\tlearn: 0.0792944\ttotal: 2m 32s\tremaining: 1m 55s\n",
            "285:\tlearn: 0.0792735\ttotal: 2m 33s\tremaining: 1m 54s\n",
            "286:\tlearn: 0.0792624\ttotal: 2m 33s\tremaining: 1m 54s\n",
            "287:\tlearn: 0.0792516\ttotal: 2m 34s\tremaining: 1m 53s\n",
            "288:\tlearn: 0.0792330\ttotal: 2m 34s\tremaining: 1m 53s\n",
            "289:\tlearn: 0.0792174\ttotal: 2m 35s\tremaining: 1m 52s\n",
            "290:\tlearn: 0.0791917\ttotal: 2m 35s\tremaining: 1m 51s\n",
            "291:\tlearn: 0.0791858\ttotal: 2m 36s\tremaining: 1m 51s\n",
            "292:\tlearn: 0.0791656\ttotal: 2m 37s\tremaining: 1m 50s\n",
            "293:\tlearn: 0.0791552\ttotal: 2m 37s\tremaining: 1m 50s\n",
            "294:\tlearn: 0.0791292\ttotal: 2m 38s\tremaining: 1m 49s\n",
            "295:\tlearn: 0.0791053\ttotal: 2m 38s\tremaining: 1m 49s\n",
            "296:\tlearn: 0.0790991\ttotal: 2m 39s\tremaining: 1m 48s\n",
            "297:\tlearn: 0.0790485\ttotal: 2m 39s\tremaining: 1m 48s\n",
            "298:\tlearn: 0.0790373\ttotal: 2m 40s\tremaining: 1m 47s\n",
            "299:\tlearn: 0.0790299\ttotal: 2m 40s\tremaining: 1m 47s\n",
            "300:\tlearn: 0.0790210\ttotal: 2m 41s\tremaining: 1m 46s\n",
            "301:\tlearn: 0.0790191\ttotal: 2m 41s\tremaining: 1m 46s\n",
            "302:\tlearn: 0.0789915\ttotal: 2m 42s\tremaining: 1m 45s\n",
            "303:\tlearn: 0.0789815\ttotal: 2m 43s\tremaining: 1m 45s\n",
            "304:\tlearn: 0.0789784\ttotal: 2m 43s\tremaining: 1m 44s\n",
            "305:\tlearn: 0.0789698\ttotal: 2m 43s\tremaining: 1m 43s\n",
            "306:\tlearn: 0.0789659\ttotal: 2m 44s\tremaining: 1m 43s\n",
            "307:\tlearn: 0.0788204\ttotal: 2m 45s\tremaining: 1m 42s\n",
            "308:\tlearn: 0.0786908\ttotal: 2m 45s\tremaining: 1m 42s\n",
            "309:\tlearn: 0.0786504\ttotal: 2m 46s\tremaining: 1m 41s\n",
            "310:\tlearn: 0.0786463\ttotal: 2m 46s\tremaining: 1m 41s\n",
            "311:\tlearn: 0.0786407\ttotal: 2m 47s\tremaining: 1m 40s\n",
            "312:\tlearn: 0.0785251\ttotal: 2m 47s\tremaining: 1m 40s\n",
            "313:\tlearn: 0.0785175\ttotal: 2m 48s\tremaining: 1m 39s\n",
            "314:\tlearn: 0.0784889\ttotal: 2m 48s\tremaining: 1m 39s\n",
            "315:\tlearn: 0.0784628\ttotal: 2m 49s\tremaining: 1m 38s\n",
            "316:\tlearn: 0.0784522\ttotal: 2m 50s\tremaining: 1m 38s\n",
            "317:\tlearn: 0.0784422\ttotal: 2m 50s\tremaining: 1m 37s\n",
            "318:\tlearn: 0.0783902\ttotal: 2m 51s\tremaining: 1m 37s\n",
            "319:\tlearn: 0.0782864\ttotal: 2m 51s\tremaining: 1m 36s\n",
            "320:\tlearn: 0.0782697\ttotal: 2m 51s\tremaining: 1m 35s\n",
            "321:\tlearn: 0.0782579\ttotal: 2m 52s\tremaining: 1m 35s\n",
            "322:\tlearn: 0.0782459\ttotal: 2m 53s\tremaining: 1m 34s\n",
            "323:\tlearn: 0.0782256\ttotal: 2m 53s\tremaining: 1m 34s\n",
            "324:\tlearn: 0.0782210\ttotal: 2m 54s\tremaining: 1m 33s\n",
            "325:\tlearn: 0.0781839\ttotal: 2m 54s\tremaining: 1m 33s\n",
            "326:\tlearn: 0.0780867\ttotal: 2m 55s\tremaining: 1m 32s\n",
            "327:\tlearn: 0.0780713\ttotal: 2m 56s\tremaining: 1m 32s\n",
            "328:\tlearn: 0.0780684\ttotal: 2m 56s\tremaining: 1m 31s\n",
            "329:\tlearn: 0.0780606\ttotal: 2m 57s\tremaining: 1m 31s\n",
            "330:\tlearn: 0.0780265\ttotal: 2m 57s\tremaining: 1m 30s\n",
            "331:\tlearn: 0.0779875\ttotal: 2m 57s\tremaining: 1m 30s\n",
            "332:\tlearn: 0.0779739\ttotal: 2m 58s\tremaining: 1m 29s\n",
            "333:\tlearn: 0.0779664\ttotal: 2m 59s\tremaining: 1m 29s\n",
            "334:\tlearn: 0.0779591\ttotal: 2m 59s\tremaining: 1m 28s\n",
            "335:\tlearn: 0.0779309\ttotal: 3m\tremaining: 1m 28s\n",
            "336:\tlearn: 0.0779210\ttotal: 3m 1s\tremaining: 1m 27s\n",
            "337:\tlearn: 0.0779101\ttotal: 3m 1s\tremaining: 1m 27s\n",
            "338:\tlearn: 0.0779037\ttotal: 3m 2s\tremaining: 1m 26s\n",
            "339:\tlearn: 0.0778928\ttotal: 3m 2s\tremaining: 1m 26s\n",
            "340:\tlearn: 0.0778807\ttotal: 3m 3s\tremaining: 1m 25s\n",
            "341:\tlearn: 0.0778741\ttotal: 3m 3s\tremaining: 1m 24s\n",
            "342:\tlearn: 0.0778601\ttotal: 3m 4s\tremaining: 1m 24s\n",
            "343:\tlearn: 0.0778577\ttotal: 3m 4s\tremaining: 1m 23s\n",
            "344:\tlearn: 0.0778504\ttotal: 3m 5s\tremaining: 1m 23s\n",
            "345:\tlearn: 0.0778493\ttotal: 3m 5s\tremaining: 1m 22s\n",
            "346:\tlearn: 0.0778458\ttotal: 3m 6s\tremaining: 1m 22s\n",
            "347:\tlearn: 0.0778333\ttotal: 3m 7s\tremaining: 1m 21s\n",
            "348:\tlearn: 0.0778248\ttotal: 3m 7s\tremaining: 1m 21s\n",
            "349:\tlearn: 0.0778214\ttotal: 3m 8s\tremaining: 1m 20s\n",
            "350:\tlearn: 0.0778174\ttotal: 3m 8s\tremaining: 1m 20s\n",
            "351:\tlearn: 0.0778023\ttotal: 3m 9s\tremaining: 1m 19s\n",
            "352:\tlearn: 0.0777993\ttotal: 3m 9s\tremaining: 1m 18s\n",
            "353:\tlearn: 0.0777959\ttotal: 3m 10s\tremaining: 1m 18s\n",
            "354:\tlearn: 0.0777848\ttotal: 3m 10s\tremaining: 1m 17s\n",
            "355:\tlearn: 0.0777700\ttotal: 3m 11s\tremaining: 1m 17s\n",
            "356:\tlearn: 0.0777624\ttotal: 3m 11s\tremaining: 1m 16s\n",
            "357:\tlearn: 0.0777541\ttotal: 3m 12s\tremaining: 1m 16s\n",
            "358:\tlearn: 0.0777137\ttotal: 3m 12s\tremaining: 1m 15s\n",
            "359:\tlearn: 0.0777086\ttotal: 3m 13s\tremaining: 1m 15s\n",
            "360:\tlearn: 0.0776966\ttotal: 3m 13s\tremaining: 1m 14s\n",
            "361:\tlearn: 0.0776857\ttotal: 3m 14s\tremaining: 1m 14s\n",
            "362:\tlearn: 0.0776776\ttotal: 3m 15s\tremaining: 1m 13s\n",
            "363:\tlearn: 0.0776636\ttotal: 3m 15s\tremaining: 1m 13s\n",
            "364:\tlearn: 0.0776547\ttotal: 3m 16s\tremaining: 1m 12s\n",
            "365:\tlearn: 0.0776489\ttotal: 3m 16s\tremaining: 1m 12s\n",
            "366:\tlearn: 0.0776479\ttotal: 3m 17s\tremaining: 1m 11s\n",
            "367:\tlearn: 0.0776326\ttotal: 3m 17s\tremaining: 1m 10s\n",
            "368:\tlearn: 0.0775941\ttotal: 3m 18s\tremaining: 1m 10s\n",
            "369:\tlearn: 0.0775922\ttotal: 3m 18s\tremaining: 1m 9s\n",
            "370:\tlearn: 0.0775864\ttotal: 3m 19s\tremaining: 1m 9s\n",
            "371:\tlearn: 0.0775550\ttotal: 3m 19s\tremaining: 1m 8s\n",
            "372:\tlearn: 0.0775467\ttotal: 3m 20s\tremaining: 1m 8s\n",
            "373:\tlearn: 0.0775382\ttotal: 3m 20s\tremaining: 1m 7s\n",
            "374:\tlearn: 0.0775349\ttotal: 3m 21s\tremaining: 1m 7s\n",
            "375:\tlearn: 0.0775256\ttotal: 3m 21s\tremaining: 1m 6s\n",
            "376:\tlearn: 0.0775213\ttotal: 3m 22s\tremaining: 1m 5s\n",
            "377:\tlearn: 0.0775163\ttotal: 3m 22s\tremaining: 1m 5s\n",
            "378:\tlearn: 0.0775132\ttotal: 3m 23s\tremaining: 1m 4s\n",
            "379:\tlearn: 0.0775089\ttotal: 3m 23s\tremaining: 1m 4s\n",
            "380:\tlearn: 0.0774910\ttotal: 3m 24s\tremaining: 1m 3s\n",
            "381:\tlearn: 0.0774802\ttotal: 3m 24s\tremaining: 1m 3s\n",
            "382:\tlearn: 0.0774753\ttotal: 3m 25s\tremaining: 1m 2s\n",
            "383:\tlearn: 0.0774670\ttotal: 3m 25s\tremaining: 1m 2s\n",
            "384:\tlearn: 0.0774618\ttotal: 3m 26s\tremaining: 1m 1s\n",
            "385:\tlearn: 0.0774450\ttotal: 3m 26s\tremaining: 1m 1s\n",
            "386:\tlearn: 0.0774415\ttotal: 3m 27s\tremaining: 1m\n",
            "387:\tlearn: 0.0774399\ttotal: 3m 27s\tremaining: 60s\n",
            "388:\tlearn: 0.0774293\ttotal: 3m 28s\tremaining: 59.5s\n",
            "389:\tlearn: 0.0774234\ttotal: 3m 28s\tremaining: 58.9s\n",
            "390:\tlearn: 0.0774203\ttotal: 3m 29s\tremaining: 58.3s\n",
            "391:\tlearn: 0.0774022\ttotal: 3m 29s\tremaining: 57.8s\n",
            "392:\tlearn: 0.0773984\ttotal: 3m 30s\tremaining: 57.2s\n",
            "393:\tlearn: 0.0773883\ttotal: 3m 30s\tremaining: 56.7s\n",
            "394:\tlearn: 0.0773773\ttotal: 3m 31s\tremaining: 56.2s\n",
            "395:\tlearn: 0.0773661\ttotal: 3m 32s\tremaining: 55.7s\n",
            "396:\tlearn: 0.0773623\ttotal: 3m 32s\tremaining: 55.1s\n",
            "397:\tlearn: 0.0773586\ttotal: 3m 32s\tremaining: 54.6s\n",
            "398:\tlearn: 0.0773473\ttotal: 3m 33s\tremaining: 54.1s\n",
            "399:\tlearn: 0.0773447\ttotal: 3m 34s\tremaining: 53.5s\n",
            "400:\tlearn: 0.0773313\ttotal: 3m 34s\tremaining: 53s\n",
            "401:\tlearn: 0.0773249\ttotal: 3m 35s\tremaining: 52.5s\n",
            "402:\tlearn: 0.0773188\ttotal: 3m 35s\tremaining: 51.9s\n",
            "403:\tlearn: 0.0773049\ttotal: 3m 36s\tremaining: 51.4s\n",
            "404:\tlearn: 0.0773007\ttotal: 3m 37s\tremaining: 50.9s\n",
            "405:\tlearn: 0.0772975\ttotal: 3m 37s\tremaining: 50.4s\n",
            "406:\tlearn: 0.0772934\ttotal: 3m 38s\tremaining: 49.9s\n",
            "407:\tlearn: 0.0772834\ttotal: 3m 39s\tremaining: 49.4s\n",
            "408:\tlearn: 0.0772770\ttotal: 3m 39s\tremaining: 48.9s\n",
            "409:\tlearn: 0.0772709\ttotal: 3m 40s\tremaining: 48.4s\n",
            "410:\tlearn: 0.0772657\ttotal: 3m 40s\tremaining: 47.8s\n",
            "411:\tlearn: 0.0772587\ttotal: 3m 41s\tremaining: 47.3s\n",
            "412:\tlearn: 0.0772535\ttotal: 3m 41s\tremaining: 46.7s\n",
            "413:\tlearn: 0.0772474\ttotal: 3m 42s\tremaining: 46.2s\n",
            "414:\tlearn: 0.0772108\ttotal: 3m 43s\tremaining: 45.7s\n",
            "415:\tlearn: 0.0772036\ttotal: 3m 43s\tremaining: 45.1s\n",
            "416:\tlearn: 0.0771811\ttotal: 3m 44s\tremaining: 44.6s\n",
            "417:\tlearn: 0.0771750\ttotal: 3m 44s\tremaining: 44.1s\n",
            "418:\tlearn: 0.0771662\ttotal: 3m 45s\tremaining: 43.5s\n",
            "419:\tlearn: 0.0771589\ttotal: 3m 45s\tremaining: 43s\n",
            "420:\tlearn: 0.0771485\ttotal: 3m 46s\tremaining: 42.5s\n",
            "421:\tlearn: 0.0771418\ttotal: 3m 47s\tremaining: 42s\n",
            "422:\tlearn: 0.0771342\ttotal: 3m 47s\tremaining: 41.5s\n",
            "423:\tlearn: 0.0771288\ttotal: 3m 48s\tremaining: 40.9s\n",
            "424:\tlearn: 0.0770961\ttotal: 3m 48s\tremaining: 40.4s\n",
            "425:\tlearn: 0.0770810\ttotal: 3m 49s\tremaining: 39.9s\n",
            "426:\tlearn: 0.0770736\ttotal: 3m 50s\tremaining: 39.3s\n",
            "427:\tlearn: 0.0770376\ttotal: 3m 50s\tremaining: 38.8s\n",
            "428:\tlearn: 0.0770254\ttotal: 3m 51s\tremaining: 38.3s\n",
            "429:\tlearn: 0.0769508\ttotal: 3m 51s\tremaining: 37.7s\n",
            "430:\tlearn: 0.0769432\ttotal: 3m 52s\tremaining: 37.2s\n",
            "431:\tlearn: 0.0769362\ttotal: 3m 52s\tremaining: 36.7s\n",
            "432:\tlearn: 0.0769296\ttotal: 3m 53s\tremaining: 36.1s\n",
            "433:\tlearn: 0.0769252\ttotal: 3m 53s\tremaining: 35.6s\n",
            "434:\tlearn: 0.0769135\ttotal: 3m 54s\tremaining: 35s\n",
            "435:\tlearn: 0.0769081\ttotal: 3m 54s\tremaining: 34.5s\n",
            "436:\tlearn: 0.0769040\ttotal: 3m 55s\tremaining: 34s\n",
            "437:\tlearn: 0.0769025\ttotal: 3m 56s\tremaining: 33.4s\n",
            "438:\tlearn: 0.0768989\ttotal: 3m 56s\tremaining: 32.9s\n",
            "439:\tlearn: 0.0768893\ttotal: 3m 57s\tremaining: 32.3s\n",
            "440:\tlearn: 0.0768859\ttotal: 3m 57s\tremaining: 31.8s\n",
            "441:\tlearn: 0.0768813\ttotal: 3m 58s\tremaining: 31.3s\n",
            "442:\tlearn: 0.0768744\ttotal: 3m 58s\tremaining: 30.7s\n",
            "443:\tlearn: 0.0768604\ttotal: 3m 59s\tremaining: 30.2s\n",
            "444:\tlearn: 0.0768512\ttotal: 3m 59s\tremaining: 29.6s\n",
            "445:\tlearn: 0.0768453\ttotal: 4m\tremaining: 29.1s\n",
            "446:\tlearn: 0.0768354\ttotal: 4m\tremaining: 28.6s\n",
            "447:\tlearn: 0.0768314\ttotal: 4m 1s\tremaining: 28s\n",
            "448:\tlearn: 0.0768183\ttotal: 4m 1s\tremaining: 27.5s\n",
            "449:\tlearn: 0.0767975\ttotal: 4m 2s\tremaining: 26.9s\n",
            "450:\tlearn: 0.0767843\ttotal: 4m 2s\tremaining: 26.4s\n",
            "451:\tlearn: 0.0767701\ttotal: 4m 3s\tremaining: 25.8s\n",
            "452:\tlearn: 0.0767650\ttotal: 4m 3s\tremaining: 25.3s\n",
            "453:\tlearn: 0.0767601\ttotal: 4m 4s\tremaining: 24.8s\n",
            "454:\tlearn: 0.0767572\ttotal: 4m 4s\tremaining: 24.2s\n",
            "455:\tlearn: 0.0767398\ttotal: 4m 5s\tremaining: 23.7s\n",
            "456:\tlearn: 0.0767322\ttotal: 4m 5s\tremaining: 23.1s\n",
            "457:\tlearn: 0.0767290\ttotal: 4m 6s\tremaining: 22.6s\n",
            "458:\tlearn: 0.0767266\ttotal: 4m 6s\tremaining: 22s\n",
            "459:\tlearn: 0.0767222\ttotal: 4m 7s\tremaining: 21.5s\n",
            "460:\tlearn: 0.0766913\ttotal: 4m 7s\tremaining: 21s\n",
            "461:\tlearn: 0.0766868\ttotal: 4m 8s\tremaining: 20.4s\n",
            "462:\tlearn: 0.0766814\ttotal: 4m 8s\tremaining: 19.9s\n",
            "463:\tlearn: 0.0766772\ttotal: 4m 9s\tremaining: 19.3s\n",
            "464:\tlearn: 0.0766672\ttotal: 4m 9s\tremaining: 18.8s\n",
            "465:\tlearn: 0.0766641\ttotal: 4m 10s\tremaining: 18.2s\n",
            "466:\tlearn: 0.0766634\ttotal: 4m 10s\tremaining: 17.7s\n",
            "467:\tlearn: 0.0766537\ttotal: 4m 11s\tremaining: 17.2s\n",
            "468:\tlearn: 0.0766482\ttotal: 4m 11s\tremaining: 16.6s\n",
            "469:\tlearn: 0.0766434\ttotal: 4m 12s\tremaining: 16.1s\n",
            "470:\tlearn: 0.0766308\ttotal: 4m 12s\tremaining: 15.6s\n",
            "471:\tlearn: 0.0766221\ttotal: 4m 13s\tremaining: 15s\n",
            "472:\tlearn: 0.0766171\ttotal: 4m 14s\tremaining: 14.5s\n",
            "473:\tlearn: 0.0766124\ttotal: 4m 14s\tremaining: 14s\n",
            "474:\tlearn: 0.0766097\ttotal: 4m 15s\tremaining: 13.4s\n",
            "475:\tlearn: 0.0766060\ttotal: 4m 15s\tremaining: 12.9s\n",
            "476:\tlearn: 0.0766001\ttotal: 4m 16s\tremaining: 12.4s\n",
            "477:\tlearn: 0.0765960\ttotal: 4m 16s\tremaining: 11.8s\n",
            "478:\tlearn: 0.0765808\ttotal: 4m 17s\tremaining: 11.3s\n",
            "479:\tlearn: 0.0765694\ttotal: 4m 17s\tremaining: 10.7s\n",
            "480:\tlearn: 0.0765653\ttotal: 4m 18s\tremaining: 10.2s\n",
            "481:\tlearn: 0.0765602\ttotal: 4m 18s\tremaining: 9.67s\n",
            "482:\tlearn: 0.0765578\ttotal: 4m 19s\tremaining: 9.13s\n",
            "483:\tlearn: 0.0765552\ttotal: 4m 19s\tremaining: 8.59s\n",
            "484:\tlearn: 0.0765491\ttotal: 4m 20s\tremaining: 8.06s\n",
            "485:\tlearn: 0.0765462\ttotal: 4m 21s\tremaining: 7.53s\n",
            "486:\tlearn: 0.0765403\ttotal: 4m 21s\tremaining: 6.99s\n",
            "487:\tlearn: 0.0765354\ttotal: 4m 22s\tremaining: 6.45s\n",
            "488:\tlearn: 0.0765302\ttotal: 4m 22s\tremaining: 5.91s\n",
            "489:\tlearn: 0.0765255\ttotal: 4m 23s\tremaining: 5.37s\n",
            "490:\tlearn: 0.0765242\ttotal: 4m 23s\tremaining: 4.83s\n",
            "491:\tlearn: 0.0765162\ttotal: 4m 24s\tremaining: 4.3s\n",
            "492:\tlearn: 0.0765075\ttotal: 4m 24s\tremaining: 3.76s\n",
            "493:\tlearn: 0.0765040\ttotal: 4m 25s\tremaining: 3.22s\n",
            "494:\tlearn: 0.0765007\ttotal: 4m 25s\tremaining: 2.69s\n",
            "495:\tlearn: 0.0764970\ttotal: 4m 26s\tremaining: 2.15s\n",
            "496:\tlearn: 0.0764948\ttotal: 4m 26s\tremaining: 1.61s\n",
            "497:\tlearn: 0.0764923\ttotal: 4m 27s\tremaining: 1.07s\n",
            "498:\tlearn: 0.0764860\ttotal: 4m 27s\tremaining: 537ms\n",
            "499:\tlearn: 0.0764834\ttotal: 4m 28s\tremaining: 0us\n"
          ]
        },
        {
          "output_type": "execute_result",
          "data": {
            "text/plain": [
              "<catboost.core.CatBoostClassifier at 0x7f1668f70750>"
            ]
          },
          "metadata": {},
          "execution_count": 15
        }
      ],
      "source": [
        "model_cat.fit(X_train, y_train)"
      ]
    },
    {
      "cell_type": "markdown",
      "metadata": {
        "id": "DrF2LeJIBNYN"
      },
      "source": [
        "## Оценка точности"
      ]
    },
    {
      "cell_type": "code",
      "source": [
        "from sklearn.metrics import recall_score"
      ],
      "metadata": {
        "id": "_VcqAIcgaJF7"
      },
      "execution_count": null,
      "outputs": []
    },
    {
      "cell_type": "code",
      "execution_count": null,
      "metadata": {
        "id": "5Ph7vcoxBNYO"
      },
      "outputs": [],
      "source": [
        "df_valid_pred = model_cat.predict(X_test)"
      ]
    },
    {
      "cell_type": "code",
      "execution_count": null,
      "metadata": {
        "id": "wfAZwwLXBNYO",
        "colab": {
          "base_uri": "https://localhost:8080/"
        },
        "outputId": "88cd51f5-18f7-49ef-b73f-2de19ed31d20"
      },
      "outputs": [
        {
          "output_type": "execute_result",
          "data": {
            "text/plain": [
              "0.9781614839570836"
            ]
          },
          "metadata": {},
          "execution_count": 22
        }
      ],
      "source": [
        "recall_score(y_test, df_valid_pred, average = \"macro\" )"
      ]
    },
    {
      "cell_type": "markdown",
      "metadata": {
        "id": "1esaRKIY87c1"
      },
      "source": [
        "## Результат"
      ]
    },
    {
      "cell_type": "code",
      "execution_count": null,
      "metadata": {
        "id": "s9txeu7r885u"
      },
      "outputs": [],
      "source": [
        "df_test_pred = model_cat.predict(test)"
      ]
    },
    {
      "cell_type": "code",
      "execution_count": null,
      "metadata": {
        "id": "MsY2OeNL9PF_"
      },
      "outputs": [],
      "source": [
        "df_sub = pd.read_csv('/content/drive/My Drive/post/sample_solution.csv')"
      ]
    },
    {
      "cell_type": "code",
      "execution_count": null,
      "metadata": {
        "colab": {
          "base_uri": "https://localhost:8080/",
          "height": 424
        },
        "id": "Q9qsXlXw9SfX",
        "outputId": "c082f008-d8ea-4c42-b23c-220a67e66c82"
      },
      "outputs": [
        {
          "output_type": "execute_result",
          "data": {
            "text/plain": [
              "              id  label\n",
              "0        7815282      0\n",
              "1        8443555      0\n",
              "2        6352559      0\n",
              "3        4921420      0\n",
              "4        1420440      0\n",
              "...          ...    ...\n",
              "3999995  9030800      0\n",
              "3999996  6275048      0\n",
              "3999997  4701757      0\n",
              "3999998   611153      0\n",
              "3999999  7776936      0\n",
              "\n",
              "[4000000 rows x 2 columns]"
            ],
            "text/html": [
              "\n",
              "  <div id=\"df-eadfa603-c718-4140-a3c4-9e4c7866010c\">\n",
              "    <div class=\"colab-df-container\">\n",
              "      <div>\n",
              "<style scoped>\n",
              "    .dataframe tbody tr th:only-of-type {\n",
              "        vertical-align: middle;\n",
              "    }\n",
              "\n",
              "    .dataframe tbody tr th {\n",
              "        vertical-align: top;\n",
              "    }\n",
              "\n",
              "    .dataframe thead th {\n",
              "        text-align: right;\n",
              "    }\n",
              "</style>\n",
              "<table border=\"1\" class=\"dataframe\">\n",
              "  <thead>\n",
              "    <tr style=\"text-align: right;\">\n",
              "      <th></th>\n",
              "      <th>id</th>\n",
              "      <th>label</th>\n",
              "    </tr>\n",
              "  </thead>\n",
              "  <tbody>\n",
              "    <tr>\n",
              "      <th>0</th>\n",
              "      <td>7815282</td>\n",
              "      <td>0</td>\n",
              "    </tr>\n",
              "    <tr>\n",
              "      <th>1</th>\n",
              "      <td>8443555</td>\n",
              "      <td>0</td>\n",
              "    </tr>\n",
              "    <tr>\n",
              "      <th>2</th>\n",
              "      <td>6352559</td>\n",
              "      <td>0</td>\n",
              "    </tr>\n",
              "    <tr>\n",
              "      <th>3</th>\n",
              "      <td>4921420</td>\n",
              "      <td>0</td>\n",
              "    </tr>\n",
              "    <tr>\n",
              "      <th>4</th>\n",
              "      <td>1420440</td>\n",
              "      <td>0</td>\n",
              "    </tr>\n",
              "    <tr>\n",
              "      <th>...</th>\n",
              "      <td>...</td>\n",
              "      <td>...</td>\n",
              "    </tr>\n",
              "    <tr>\n",
              "      <th>3999995</th>\n",
              "      <td>9030800</td>\n",
              "      <td>0</td>\n",
              "    </tr>\n",
              "    <tr>\n",
              "      <th>3999996</th>\n",
              "      <td>6275048</td>\n",
              "      <td>0</td>\n",
              "    </tr>\n",
              "    <tr>\n",
              "      <th>3999997</th>\n",
              "      <td>4701757</td>\n",
              "      <td>0</td>\n",
              "    </tr>\n",
              "    <tr>\n",
              "      <th>3999998</th>\n",
              "      <td>611153</td>\n",
              "      <td>0</td>\n",
              "    </tr>\n",
              "    <tr>\n",
              "      <th>3999999</th>\n",
              "      <td>7776936</td>\n",
              "      <td>0</td>\n",
              "    </tr>\n",
              "  </tbody>\n",
              "</table>\n",
              "<p>4000000 rows × 2 columns</p>\n",
              "</div>\n",
              "      <button class=\"colab-df-convert\" onclick=\"convertToInteractive('df-eadfa603-c718-4140-a3c4-9e4c7866010c')\"\n",
              "              title=\"Convert this dataframe to an interactive table.\"\n",
              "              style=\"display:none;\">\n",
              "        \n",
              "  <svg xmlns=\"http://www.w3.org/2000/svg\" height=\"24px\"viewBox=\"0 0 24 24\"\n",
              "       width=\"24px\">\n",
              "    <path d=\"M0 0h24v24H0V0z\" fill=\"none\"/>\n",
              "    <path d=\"M18.56 5.44l.94 2.06.94-2.06 2.06-.94-2.06-.94-.94-2.06-.94 2.06-2.06.94zm-11 1L8.5 8.5l.94-2.06 2.06-.94-2.06-.94L8.5 2.5l-.94 2.06-2.06.94zm10 10l.94 2.06.94-2.06 2.06-.94-2.06-.94-.94-2.06-.94 2.06-2.06.94z\"/><path d=\"M17.41 7.96l-1.37-1.37c-.4-.4-.92-.59-1.43-.59-.52 0-1.04.2-1.43.59L10.3 9.45l-7.72 7.72c-.78.78-.78 2.05 0 2.83L4 21.41c.39.39.9.59 1.41.59.51 0 1.02-.2 1.41-.59l7.78-7.78 2.81-2.81c.8-.78.8-2.07 0-2.86zM5.41 20L4 18.59l7.72-7.72 1.47 1.35L5.41 20z\"/>\n",
              "  </svg>\n",
              "      </button>\n",
              "      \n",
              "  <style>\n",
              "    .colab-df-container {\n",
              "      display:flex;\n",
              "      flex-wrap:wrap;\n",
              "      gap: 12px;\n",
              "    }\n",
              "\n",
              "    .colab-df-convert {\n",
              "      background-color: #E8F0FE;\n",
              "      border: none;\n",
              "      border-radius: 50%;\n",
              "      cursor: pointer;\n",
              "      display: none;\n",
              "      fill: #1967D2;\n",
              "      height: 32px;\n",
              "      padding: 0 0 0 0;\n",
              "      width: 32px;\n",
              "    }\n",
              "\n",
              "    .colab-df-convert:hover {\n",
              "      background-color: #E2EBFA;\n",
              "      box-shadow: 0px 1px 2px rgba(60, 64, 67, 0.3), 0px 1px 3px 1px rgba(60, 64, 67, 0.15);\n",
              "      fill: #174EA6;\n",
              "    }\n",
              "\n",
              "    [theme=dark] .colab-df-convert {\n",
              "      background-color: #3B4455;\n",
              "      fill: #D2E3FC;\n",
              "    }\n",
              "\n",
              "    [theme=dark] .colab-df-convert:hover {\n",
              "      background-color: #434B5C;\n",
              "      box-shadow: 0px 1px 3px 1px rgba(0, 0, 0, 0.15);\n",
              "      filter: drop-shadow(0px 1px 2px rgba(0, 0, 0, 0.3));\n",
              "      fill: #FFFFFF;\n",
              "    }\n",
              "  </style>\n",
              "\n",
              "      <script>\n",
              "        const buttonEl =\n",
              "          document.querySelector('#df-eadfa603-c718-4140-a3c4-9e4c7866010c button.colab-df-convert');\n",
              "        buttonEl.style.display =\n",
              "          google.colab.kernel.accessAllowed ? 'block' : 'none';\n",
              "\n",
              "        async function convertToInteractive(key) {\n",
              "          const element = document.querySelector('#df-eadfa603-c718-4140-a3c4-9e4c7866010c');\n",
              "          const dataTable =\n",
              "            await google.colab.kernel.invokeFunction('convertToInteractive',\n",
              "                                                     [key], {});\n",
              "          if (!dataTable) return;\n",
              "\n",
              "          const docLinkHtml = 'Like what you see? Visit the ' +\n",
              "            '<a target=\"_blank\" href=https://colab.research.google.com/notebooks/data_table.ipynb>data table notebook</a>'\n",
              "            + ' to learn more about interactive tables.';\n",
              "          element.innerHTML = '';\n",
              "          dataTable['output_type'] = 'display_data';\n",
              "          await google.colab.output.renderOutput(dataTable, element);\n",
              "          const docLink = document.createElement('div');\n",
              "          docLink.innerHTML = docLinkHtml;\n",
              "          element.appendChild(docLink);\n",
              "        }\n",
              "      </script>\n",
              "    </div>\n",
              "  </div>\n",
              "  "
            ]
          },
          "metadata": {},
          "execution_count": 18
        }
      ],
      "source": [
        "df_sub\n"
      ]
    },
    {
      "cell_type": "code",
      "execution_count": null,
      "metadata": {
        "colab": {
          "base_uri": "https://localhost:8080/",
          "height": 206
        },
        "id": "vQX_KaS49UWM",
        "outputId": "6af004ef-8279-4bb1-d78f-278320adbd44"
      },
      "outputs": [
        {
          "output_type": "execute_result",
          "data": {
            "text/plain": [
              "        id  label\n",
              "0  7815282      0\n",
              "1  8443555      0\n",
              "2  6352559      0\n",
              "3  4921420      0\n",
              "4  1420440      0"
            ],
            "text/html": [
              "\n",
              "  <div id=\"df-cf83e81e-7d0c-4b4b-9a95-ccd0d6e9e4a9\">\n",
              "    <div class=\"colab-df-container\">\n",
              "      <div>\n",
              "<style scoped>\n",
              "    .dataframe tbody tr th:only-of-type {\n",
              "        vertical-align: middle;\n",
              "    }\n",
              "\n",
              "    .dataframe tbody tr th {\n",
              "        vertical-align: top;\n",
              "    }\n",
              "\n",
              "    .dataframe thead th {\n",
              "        text-align: right;\n",
              "    }\n",
              "</style>\n",
              "<table border=\"1\" class=\"dataframe\">\n",
              "  <thead>\n",
              "    <tr style=\"text-align: right;\">\n",
              "      <th></th>\n",
              "      <th>id</th>\n",
              "      <th>label</th>\n",
              "    </tr>\n",
              "  </thead>\n",
              "  <tbody>\n",
              "    <tr>\n",
              "      <th>0</th>\n",
              "      <td>7815282</td>\n",
              "      <td>0</td>\n",
              "    </tr>\n",
              "    <tr>\n",
              "      <th>1</th>\n",
              "      <td>8443555</td>\n",
              "      <td>0</td>\n",
              "    </tr>\n",
              "    <tr>\n",
              "      <th>2</th>\n",
              "      <td>6352559</td>\n",
              "      <td>0</td>\n",
              "    </tr>\n",
              "    <tr>\n",
              "      <th>3</th>\n",
              "      <td>4921420</td>\n",
              "      <td>0</td>\n",
              "    </tr>\n",
              "    <tr>\n",
              "      <th>4</th>\n",
              "      <td>1420440</td>\n",
              "      <td>0</td>\n",
              "    </tr>\n",
              "  </tbody>\n",
              "</table>\n",
              "</div>\n",
              "      <button class=\"colab-df-convert\" onclick=\"convertToInteractive('df-cf83e81e-7d0c-4b4b-9a95-ccd0d6e9e4a9')\"\n",
              "              title=\"Convert this dataframe to an interactive table.\"\n",
              "              style=\"display:none;\">\n",
              "        \n",
              "  <svg xmlns=\"http://www.w3.org/2000/svg\" height=\"24px\"viewBox=\"0 0 24 24\"\n",
              "       width=\"24px\">\n",
              "    <path d=\"M0 0h24v24H0V0z\" fill=\"none\"/>\n",
              "    <path d=\"M18.56 5.44l.94 2.06.94-2.06 2.06-.94-2.06-.94-.94-2.06-.94 2.06-2.06.94zm-11 1L8.5 8.5l.94-2.06 2.06-.94-2.06-.94L8.5 2.5l-.94 2.06-2.06.94zm10 10l.94 2.06.94-2.06 2.06-.94-2.06-.94-.94-2.06-.94 2.06-2.06.94z\"/><path d=\"M17.41 7.96l-1.37-1.37c-.4-.4-.92-.59-1.43-.59-.52 0-1.04.2-1.43.59L10.3 9.45l-7.72 7.72c-.78.78-.78 2.05 0 2.83L4 21.41c.39.39.9.59 1.41.59.51 0 1.02-.2 1.41-.59l7.78-7.78 2.81-2.81c.8-.78.8-2.07 0-2.86zM5.41 20L4 18.59l7.72-7.72 1.47 1.35L5.41 20z\"/>\n",
              "  </svg>\n",
              "      </button>\n",
              "      \n",
              "  <style>\n",
              "    .colab-df-container {\n",
              "      display:flex;\n",
              "      flex-wrap:wrap;\n",
              "      gap: 12px;\n",
              "    }\n",
              "\n",
              "    .colab-df-convert {\n",
              "      background-color: #E8F0FE;\n",
              "      border: none;\n",
              "      border-radius: 50%;\n",
              "      cursor: pointer;\n",
              "      display: none;\n",
              "      fill: #1967D2;\n",
              "      height: 32px;\n",
              "      padding: 0 0 0 0;\n",
              "      width: 32px;\n",
              "    }\n",
              "\n",
              "    .colab-df-convert:hover {\n",
              "      background-color: #E2EBFA;\n",
              "      box-shadow: 0px 1px 2px rgba(60, 64, 67, 0.3), 0px 1px 3px 1px rgba(60, 64, 67, 0.15);\n",
              "      fill: #174EA6;\n",
              "    }\n",
              "\n",
              "    [theme=dark] .colab-df-convert {\n",
              "      background-color: #3B4455;\n",
              "      fill: #D2E3FC;\n",
              "    }\n",
              "\n",
              "    [theme=dark] .colab-df-convert:hover {\n",
              "      background-color: #434B5C;\n",
              "      box-shadow: 0px 1px 3px 1px rgba(0, 0, 0, 0.15);\n",
              "      filter: drop-shadow(0px 1px 2px rgba(0, 0, 0, 0.3));\n",
              "      fill: #FFFFFF;\n",
              "    }\n",
              "  </style>\n",
              "\n",
              "      <script>\n",
              "        const buttonEl =\n",
              "          document.querySelector('#df-cf83e81e-7d0c-4b4b-9a95-ccd0d6e9e4a9 button.colab-df-convert');\n",
              "        buttonEl.style.display =\n",
              "          google.colab.kernel.accessAllowed ? 'block' : 'none';\n",
              "\n",
              "        async function convertToInteractive(key) {\n",
              "          const element = document.querySelector('#df-cf83e81e-7d0c-4b4b-9a95-ccd0d6e9e4a9');\n",
              "          const dataTable =\n",
              "            await google.colab.kernel.invokeFunction('convertToInteractive',\n",
              "                                                     [key], {});\n",
              "          if (!dataTable) return;\n",
              "\n",
              "          const docLinkHtml = 'Like what you see? Visit the ' +\n",
              "            '<a target=\"_blank\" href=https://colab.research.google.com/notebooks/data_table.ipynb>data table notebook</a>'\n",
              "            + ' to learn more about interactive tables.';\n",
              "          element.innerHTML = '';\n",
              "          dataTable['output_type'] = 'display_data';\n",
              "          await google.colab.output.renderOutput(dataTable, element);\n",
              "          const docLink = document.createElement('div');\n",
              "          docLink.innerHTML = docLinkHtml;\n",
              "          element.appendChild(docLink);\n",
              "        }\n",
              "      </script>\n",
              "    </div>\n",
              "  </div>\n",
              "  "
            ]
          },
          "metadata": {},
          "execution_count": 19
        }
      ],
      "source": [
        "df_sub[\"label\"] = df_test_pred\n",
        "df_sub.head()"
      ]
    },
    {
      "cell_type": "code",
      "source": [
        "df_sub[\"label\"].value_counts()"
      ],
      "metadata": {
        "colab": {
          "base_uri": "https://localhost:8080/"
        },
        "id": "Nox9fLt3YCmh",
        "outputId": "1149f9c0-144a-422c-cff5-483a504e9ebc"
      },
      "execution_count": null,
      "outputs": [
        {
          "output_type": "execute_result",
          "data": {
            "text/plain": [
              "0    3730578\n",
              "1     269422\n",
              "Name: label, dtype: int64"
            ]
          },
          "metadata": {},
          "execution_count": 20
        }
      ]
    },
    {
      "cell_type": "code",
      "execution_count": null,
      "metadata": {
        "colab": {
          "base_uri": "https://localhost:8080/"
        },
        "id": "KTlgT_II9YA9",
        "outputId": "88e8db55-24de-4316-82ae-1e04e0c32ca8"
      },
      "outputs": [
        {
          "output_type": "stream",
          "name": "stdout",
          "text": [
            "<class 'pandas.core.frame.DataFrame'>\n",
            "RangeIndex: 4000000 entries, 0 to 3999999\n",
            "Data columns (total 2 columns):\n",
            " #   Column  Dtype\n",
            "---  ------  -----\n",
            " 0   id      int64\n",
            " 1   label   int64\n",
            "dtypes: int64(2)\n",
            "memory usage: 61.0 MB\n"
          ]
        }
      ],
      "source": [
        "df_sub.info()\n"
      ]
    },
    {
      "cell_type": "code",
      "execution_count": null,
      "metadata": {
        "id": "wnQx90mG9ZfV"
      },
      "outputs": [],
      "source": [
        "df_sub.to_csv(\"/content/submission.csv\", index = False)"
      ]
    },
    {
      "cell_type": "code",
      "source": [
        "model_cat.get_feature_importance(prettified=True)\n",
        "\n"
      ],
      "metadata": {
        "colab": {
          "base_uri": "https://localhost:8080/",
          "height": 927
        },
        "id": "F68THvY6q11U",
        "outputId": "5496b197-f23b-4439-cf8d-bbab41b437a9"
      },
      "execution_count": null,
      "outputs": [
        {
          "output_type": "execute_result",
          "data": {
            "text/plain": [
              "                       Feature Id  Importances\n",
              "0                       oper_type    31.617999\n",
              "1          total_qty_oper_login_0    13.944979\n",
              "2                      index_oper     9.402478\n",
              "3           dist_qty_oper_login_1     5.756536\n",
              "4                         mailctg     4.657424\n",
              "5          total_qty_oper_login_1     4.601431\n",
              "6                       oper_attr     4.395848\n",
              "7   total_qty_over_index_and_type     4.364568\n",
              "8            total_qty_over_index     3.809815\n",
              "9                   transport_pay     3.056953\n",
              "10                       name_mfi     2.751179\n",
              "11                           type     2.679422\n",
              "12                      price_mfi     2.153450\n",
              "13                     weight_mfi     1.641627\n",
              "14          is_wrong_phone_number     1.478333\n",
              "15                         weight     1.260260\n",
              "16             is_wrong_rcpn_name     0.729016\n",
              "17                   is_in_yandex     0.663816\n",
              "18                       priority     0.553590\n",
              "19                       mailtype     0.143692\n",
              "20                      directctg     0.128158\n",
              "21                          class     0.113122\n",
              "22                             id     0.069768\n",
              "23                      is_return     0.013655\n",
              "24               is_wrong_address     0.011929\n",
              "25             is_wrong_sndr_name     0.000951\n",
              "26             is_privatecategory     0.000000\n",
              "27                       postmark     0.000000"
            ],
            "text/html": [
              "\n",
              "  <div id=\"df-51b92a0e-b458-48f2-8c1b-86d59cc6bb66\">\n",
              "    <div class=\"colab-df-container\">\n",
              "      <div>\n",
              "<style scoped>\n",
              "    .dataframe tbody tr th:only-of-type {\n",
              "        vertical-align: middle;\n",
              "    }\n",
              "\n",
              "    .dataframe tbody tr th {\n",
              "        vertical-align: top;\n",
              "    }\n",
              "\n",
              "    .dataframe thead th {\n",
              "        text-align: right;\n",
              "    }\n",
              "</style>\n",
              "<table border=\"1\" class=\"dataframe\">\n",
              "  <thead>\n",
              "    <tr style=\"text-align: right;\">\n",
              "      <th></th>\n",
              "      <th>Feature Id</th>\n",
              "      <th>Importances</th>\n",
              "    </tr>\n",
              "  </thead>\n",
              "  <tbody>\n",
              "    <tr>\n",
              "      <th>0</th>\n",
              "      <td>oper_type</td>\n",
              "      <td>31.617999</td>\n",
              "    </tr>\n",
              "    <tr>\n",
              "      <th>1</th>\n",
              "      <td>total_qty_oper_login_0</td>\n",
              "      <td>13.944979</td>\n",
              "    </tr>\n",
              "    <tr>\n",
              "      <th>2</th>\n",
              "      <td>index_oper</td>\n",
              "      <td>9.402478</td>\n",
              "    </tr>\n",
              "    <tr>\n",
              "      <th>3</th>\n",
              "      <td>dist_qty_oper_login_1</td>\n",
              "      <td>5.756536</td>\n",
              "    </tr>\n",
              "    <tr>\n",
              "      <th>4</th>\n",
              "      <td>mailctg</td>\n",
              "      <td>4.657424</td>\n",
              "    </tr>\n",
              "    <tr>\n",
              "      <th>5</th>\n",
              "      <td>total_qty_oper_login_1</td>\n",
              "      <td>4.601431</td>\n",
              "    </tr>\n",
              "    <tr>\n",
              "      <th>6</th>\n",
              "      <td>oper_attr</td>\n",
              "      <td>4.395848</td>\n",
              "    </tr>\n",
              "    <tr>\n",
              "      <th>7</th>\n",
              "      <td>total_qty_over_index_and_type</td>\n",
              "      <td>4.364568</td>\n",
              "    </tr>\n",
              "    <tr>\n",
              "      <th>8</th>\n",
              "      <td>total_qty_over_index</td>\n",
              "      <td>3.809815</td>\n",
              "    </tr>\n",
              "    <tr>\n",
              "      <th>9</th>\n",
              "      <td>transport_pay</td>\n",
              "      <td>3.056953</td>\n",
              "    </tr>\n",
              "    <tr>\n",
              "      <th>10</th>\n",
              "      <td>name_mfi</td>\n",
              "      <td>2.751179</td>\n",
              "    </tr>\n",
              "    <tr>\n",
              "      <th>11</th>\n",
              "      <td>type</td>\n",
              "      <td>2.679422</td>\n",
              "    </tr>\n",
              "    <tr>\n",
              "      <th>12</th>\n",
              "      <td>price_mfi</td>\n",
              "      <td>2.153450</td>\n",
              "    </tr>\n",
              "    <tr>\n",
              "      <th>13</th>\n",
              "      <td>weight_mfi</td>\n",
              "      <td>1.641627</td>\n",
              "    </tr>\n",
              "    <tr>\n",
              "      <th>14</th>\n",
              "      <td>is_wrong_phone_number</td>\n",
              "      <td>1.478333</td>\n",
              "    </tr>\n",
              "    <tr>\n",
              "      <th>15</th>\n",
              "      <td>weight</td>\n",
              "      <td>1.260260</td>\n",
              "    </tr>\n",
              "    <tr>\n",
              "      <th>16</th>\n",
              "      <td>is_wrong_rcpn_name</td>\n",
              "      <td>0.729016</td>\n",
              "    </tr>\n",
              "    <tr>\n",
              "      <th>17</th>\n",
              "      <td>is_in_yandex</td>\n",
              "      <td>0.663816</td>\n",
              "    </tr>\n",
              "    <tr>\n",
              "      <th>18</th>\n",
              "      <td>priority</td>\n",
              "      <td>0.553590</td>\n",
              "    </tr>\n",
              "    <tr>\n",
              "      <th>19</th>\n",
              "      <td>mailtype</td>\n",
              "      <td>0.143692</td>\n",
              "    </tr>\n",
              "    <tr>\n",
              "      <th>20</th>\n",
              "      <td>directctg</td>\n",
              "      <td>0.128158</td>\n",
              "    </tr>\n",
              "    <tr>\n",
              "      <th>21</th>\n",
              "      <td>class</td>\n",
              "      <td>0.113122</td>\n",
              "    </tr>\n",
              "    <tr>\n",
              "      <th>22</th>\n",
              "      <td>id</td>\n",
              "      <td>0.069768</td>\n",
              "    </tr>\n",
              "    <tr>\n",
              "      <th>23</th>\n",
              "      <td>is_return</td>\n",
              "      <td>0.013655</td>\n",
              "    </tr>\n",
              "    <tr>\n",
              "      <th>24</th>\n",
              "      <td>is_wrong_address</td>\n",
              "      <td>0.011929</td>\n",
              "    </tr>\n",
              "    <tr>\n",
              "      <th>25</th>\n",
              "      <td>is_wrong_sndr_name</td>\n",
              "      <td>0.000951</td>\n",
              "    </tr>\n",
              "    <tr>\n",
              "      <th>26</th>\n",
              "      <td>is_privatecategory</td>\n",
              "      <td>0.000000</td>\n",
              "    </tr>\n",
              "    <tr>\n",
              "      <th>27</th>\n",
              "      <td>postmark</td>\n",
              "      <td>0.000000</td>\n",
              "    </tr>\n",
              "  </tbody>\n",
              "</table>\n",
              "</div>\n",
              "      <button class=\"colab-df-convert\" onclick=\"convertToInteractive('df-51b92a0e-b458-48f2-8c1b-86d59cc6bb66')\"\n",
              "              title=\"Convert this dataframe to an interactive table.\"\n",
              "              style=\"display:none;\">\n",
              "        \n",
              "  <svg xmlns=\"http://www.w3.org/2000/svg\" height=\"24px\"viewBox=\"0 0 24 24\"\n",
              "       width=\"24px\">\n",
              "    <path d=\"M0 0h24v24H0V0z\" fill=\"none\"/>\n",
              "    <path d=\"M18.56 5.44l.94 2.06.94-2.06 2.06-.94-2.06-.94-.94-2.06-.94 2.06-2.06.94zm-11 1L8.5 8.5l.94-2.06 2.06-.94-2.06-.94L8.5 2.5l-.94 2.06-2.06.94zm10 10l.94 2.06.94-2.06 2.06-.94-2.06-.94-.94-2.06-.94 2.06-2.06.94z\"/><path d=\"M17.41 7.96l-1.37-1.37c-.4-.4-.92-.59-1.43-.59-.52 0-1.04.2-1.43.59L10.3 9.45l-7.72 7.72c-.78.78-.78 2.05 0 2.83L4 21.41c.39.39.9.59 1.41.59.51 0 1.02-.2 1.41-.59l7.78-7.78 2.81-2.81c.8-.78.8-2.07 0-2.86zM5.41 20L4 18.59l7.72-7.72 1.47 1.35L5.41 20z\"/>\n",
              "  </svg>\n",
              "      </button>\n",
              "      \n",
              "  <style>\n",
              "    .colab-df-container {\n",
              "      display:flex;\n",
              "      flex-wrap:wrap;\n",
              "      gap: 12px;\n",
              "    }\n",
              "\n",
              "    .colab-df-convert {\n",
              "      background-color: #E8F0FE;\n",
              "      border: none;\n",
              "      border-radius: 50%;\n",
              "      cursor: pointer;\n",
              "      display: none;\n",
              "      fill: #1967D2;\n",
              "      height: 32px;\n",
              "      padding: 0 0 0 0;\n",
              "      width: 32px;\n",
              "    }\n",
              "\n",
              "    .colab-df-convert:hover {\n",
              "      background-color: #E2EBFA;\n",
              "      box-shadow: 0px 1px 2px rgba(60, 64, 67, 0.3), 0px 1px 3px 1px rgba(60, 64, 67, 0.15);\n",
              "      fill: #174EA6;\n",
              "    }\n",
              "\n",
              "    [theme=dark] .colab-df-convert {\n",
              "      background-color: #3B4455;\n",
              "      fill: #D2E3FC;\n",
              "    }\n",
              "\n",
              "    [theme=dark] .colab-df-convert:hover {\n",
              "      background-color: #434B5C;\n",
              "      box-shadow: 0px 1px 3px 1px rgba(0, 0, 0, 0.15);\n",
              "      filter: drop-shadow(0px 1px 2px rgba(0, 0, 0, 0.3));\n",
              "      fill: #FFFFFF;\n",
              "    }\n",
              "  </style>\n",
              "\n",
              "      <script>\n",
              "        const buttonEl =\n",
              "          document.querySelector('#df-51b92a0e-b458-48f2-8c1b-86d59cc6bb66 button.colab-df-convert');\n",
              "        buttonEl.style.display =\n",
              "          google.colab.kernel.accessAllowed ? 'block' : 'none';\n",
              "\n",
              "        async function convertToInteractive(key) {\n",
              "          const element = document.querySelector('#df-51b92a0e-b458-48f2-8c1b-86d59cc6bb66');\n",
              "          const dataTable =\n",
              "            await google.colab.kernel.invokeFunction('convertToInteractive',\n",
              "                                                     [key], {});\n",
              "          if (!dataTable) return;\n",
              "\n",
              "          const docLinkHtml = 'Like what you see? Visit the ' +\n",
              "            '<a target=\"_blank\" href=https://colab.research.google.com/notebooks/data_table.ipynb>data table notebook</a>'\n",
              "            + ' to learn more about interactive tables.';\n",
              "          element.innerHTML = '';\n",
              "          dataTable['output_type'] = 'display_data';\n",
              "          await google.colab.output.renderOutput(dataTable, element);\n",
              "          const docLink = document.createElement('div');\n",
              "          docLink.innerHTML = docLinkHtml;\n",
              "          element.appendChild(docLink);\n",
              "        }\n",
              "      </script>\n",
              "    </div>\n",
              "  </div>\n",
              "  "
            ]
          },
          "metadata": {},
          "execution_count": 23
        }
      ]
    }
  ],
  "metadata": {
    "colab": {
      "provenance": [],
      "collapsed_sections": [
        "DrF2LeJIBNYN"
      ],
      "toc_visible": true
    },
    "gpuClass": "standard",
    "kernelspec": {
      "display_name": "Python 3",
      "name": "python3"
    },
    "language_info": {
      "name": "python"
    }
  },
  "nbformat": 4,
  "nbformat_minor": 0
}